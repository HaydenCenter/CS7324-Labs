{
 "cells": [
  {
   "cell_type": "markdown",
   "metadata": {},
   "source": [
    "# Lab One: Exploring Table Data\n",
    "Team: Jack Babcock, Hayden Center, Fidelia Navar, Amory Weinzierl"
   ]
  },
  {
   "cell_type": "markdown",
   "metadata": {},
   "source": [
    "### Assignment Description\n",
    "You are to perform preprocessing and exploratory analysis of a data set: exploring the statistical summaries of the features, visualizing the attributes, and addressing data quality. This report is worth 10% of the final grade. Please upload a report (one per team) with all code used, visualizations, and text in a rendered Jupyter notebook. Any visualizations that cannot be embedded in the notebook, please provide screenshots of the output.\n",
    "\n",
    "Additional information and requirements can be found at https://smu.instructure.com/courses/81978/assignments/465788"
   ]
  },
  {
   "cell_type": "markdown",
   "metadata": {},
   "source": [
    "## Part I -  Business Understanding"
   ]
  },
  {
   "cell_type": "markdown",
   "metadata": {},
   "source": [
    "The data set (which can be found at https://www.kaggle.com/fedesoriano/stroke-prediction-dataset) that we have chosen to utilize for this lab consists of data that may be used to identify whether or not an individual is at risk for strokes.<br><br>\n",
    "This data was likely collected by medical professionals in a medical trial with the goal of recognizing what attributes may contribute to the likelihood of a stroke in an individual. We may speculate that this was the given circumstances the data was collected under (although not explicitly said) because medical records are not publicly available and, thus, the patients involved would have had to have been aware that the data would be used for a study. Further, we can safely assume that the data was collected by medical professionals because they know what sort of attributes would be pertinent to increasing the chance of a stroke and it is in their interest to conduct studies of this sort to further their knowledge about such medical happenings.<br><br>\n",
    "Given the attributes of the individuals involved in this dataset, ideally it would be possible to predict whether an individual is at heightened risk for strokes. This functionality would be valuable to third parties in the medical industry; an accurate diagnoses done with training and classification may remove the possibility of human error in false diagnoses or lack of diagnoses. Furthermore, I think this functionality may also be useful to general users; of course, an app should never replace a medical professional but, if an individual is health-conscious and deemed at high risk for strokes, an app may be helpful to keep track of changing statistics on an individual basis and how that may affect an individual's risk of stroke. For example, if an individual's BMI decreases or increases, an individual may put that change into the app and see how that may affect their risk.<br><br>\n",
    "Quite simply, our prediction algorithm would need to perform better than its competitors. Performing better may be defined as less false positives and negatives. According to \"Positive predictive value of stroke identification by ambulance clinicians in North East England: a service evaluation,\" 38% of diagnosed strokes between June 2013 and May 2016 were false positives. In 2012, the Dijon Stroke Registry identified 811 patients with a stroke, among who 186 were considered false-negatives. Further, of the 903 patients discharged following a stroke, 278 were found to be false positives (https://www.ncbi.nlm.nih.gov/pmc/articles/PMC3566387/). As given in the preceding data, 23% of diagnosed strokes were false negatives and 31% of diagnosed strokes were false positives. Thus, our algorithm must be more accurate than the calculated percentage of false negatives and false positives to be considered more useful than at least human diagnoses. In terms of performing better than competing instruments, our algorithm must report better than 85% - 90% sensitivity (https://pubmed.ncbi.nlm.nih.gov/17678494/).<br><br>\n",
    "Additional details to consider and implement in our algorithm may be characteristics of common misdiagnoses. According to the article \"Stroke misdiagnosis -- why does it still happen,\" the misdiognosis of strokes is the most common medical negligence issue encountered by the sponsor of the article (https://www.browells.co.uk/stroke-misdiagnosis-still-happen/). For example, in younger patients, strokes are commonly misdiagnosed as false negatives where it is thought that the issue is veritgo or alcohol intoxication (https://journals.lww.com/neurotodayonline/fulltext/2009/04020/younger_stroke_patients_often_misdiagnosed.8.aspx). Thus, our algorithm must address these common misdiagnosis. It may do so by factoring in extra information to report if an individual is at high risk for misdiagnoses."
   ]
  },
  {
   "cell_type": "markdown",
   "metadata": {},
   "source": [
    "## Part II - Data Understanding"
   ]
  },
  {
   "cell_type": "markdown",
   "metadata": {},
   "source": [
    "### Data Description"
   ]
  },
  {
   "cell_type": "markdown",
   "metadata": {},
   "source": [
    "#### Importing"
   ]
  },
  {
   "cell_type": "code",
   "execution_count": 1,
   "metadata": {},
   "outputs": [
    {
     "name": "stdout",
     "output_type": "stream",
     "text": [
      "Pandas: 1.2.1\n",
      "Numpy: 1.19.2\n"
     ]
    },
    {
     "data": {
      "text/html": [
       "<div>\n",
       "<style scoped>\n",
       "    .dataframe tbody tr th:only-of-type {\n",
       "        vertical-align: middle;\n",
       "    }\n",
       "\n",
       "    .dataframe tbody tr th {\n",
       "        vertical-align: top;\n",
       "    }\n",
       "\n",
       "    .dataframe thead th {\n",
       "        text-align: right;\n",
       "    }\n",
       "</style>\n",
       "<table border=\"1\" class=\"dataframe\">\n",
       "  <thead>\n",
       "    <tr style=\"text-align: right;\">\n",
       "      <th></th>\n",
       "      <th>id</th>\n",
       "      <th>gender</th>\n",
       "      <th>age</th>\n",
       "      <th>hypertension</th>\n",
       "      <th>heart_disease</th>\n",
       "      <th>ever_married</th>\n",
       "      <th>work_type</th>\n",
       "      <th>residence_type</th>\n",
       "      <th>avg_glucose_level</th>\n",
       "      <th>bmi</th>\n",
       "      <th>smoking_status</th>\n",
       "      <th>stroke</th>\n",
       "    </tr>\n",
       "  </thead>\n",
       "  <tbody>\n",
       "    <tr>\n",
       "      <th>0</th>\n",
       "      <td>9046</td>\n",
       "      <td>Male</td>\n",
       "      <td>67.0</td>\n",
       "      <td>0</td>\n",
       "      <td>1</td>\n",
       "      <td>Yes</td>\n",
       "      <td>Private</td>\n",
       "      <td>Urban</td>\n",
       "      <td>228.69</td>\n",
       "      <td>36.6</td>\n",
       "      <td>formerly smoked</td>\n",
       "      <td>1</td>\n",
       "    </tr>\n",
       "    <tr>\n",
       "      <th>1</th>\n",
       "      <td>51676</td>\n",
       "      <td>Female</td>\n",
       "      <td>61.0</td>\n",
       "      <td>0</td>\n",
       "      <td>0</td>\n",
       "      <td>Yes</td>\n",
       "      <td>Self-employed</td>\n",
       "      <td>Rural</td>\n",
       "      <td>202.21</td>\n",
       "      <td>NaN</td>\n",
       "      <td>never smoked</td>\n",
       "      <td>1</td>\n",
       "    </tr>\n",
       "    <tr>\n",
       "      <th>2</th>\n",
       "      <td>31112</td>\n",
       "      <td>Male</td>\n",
       "      <td>80.0</td>\n",
       "      <td>0</td>\n",
       "      <td>1</td>\n",
       "      <td>Yes</td>\n",
       "      <td>Private</td>\n",
       "      <td>Rural</td>\n",
       "      <td>105.92</td>\n",
       "      <td>32.5</td>\n",
       "      <td>never smoked</td>\n",
       "      <td>1</td>\n",
       "    </tr>\n",
       "    <tr>\n",
       "      <th>3</th>\n",
       "      <td>60182</td>\n",
       "      <td>Female</td>\n",
       "      <td>49.0</td>\n",
       "      <td>0</td>\n",
       "      <td>0</td>\n",
       "      <td>Yes</td>\n",
       "      <td>Private</td>\n",
       "      <td>Urban</td>\n",
       "      <td>171.23</td>\n",
       "      <td>34.4</td>\n",
       "      <td>smokes</td>\n",
       "      <td>1</td>\n",
       "    </tr>\n",
       "    <tr>\n",
       "      <th>4</th>\n",
       "      <td>1665</td>\n",
       "      <td>Female</td>\n",
       "      <td>79.0</td>\n",
       "      <td>1</td>\n",
       "      <td>0</td>\n",
       "      <td>Yes</td>\n",
       "      <td>Self-employed</td>\n",
       "      <td>Rural</td>\n",
       "      <td>174.12</td>\n",
       "      <td>24.0</td>\n",
       "      <td>never smoked</td>\n",
       "      <td>1</td>\n",
       "    </tr>\n",
       "  </tbody>\n",
       "</table>\n",
       "</div>"
      ],
      "text/plain": [
       "      id  gender   age  hypertension  heart_disease ever_married  \\\n",
       "0   9046    Male  67.0             0              1          Yes   \n",
       "1  51676  Female  61.0             0              0          Yes   \n",
       "2  31112    Male  80.0             0              1          Yes   \n",
       "3  60182  Female  49.0             0              0          Yes   \n",
       "4   1665  Female  79.0             1              0          Yes   \n",
       "\n",
       "       work_type residence_type  avg_glucose_level   bmi   smoking_status  \\\n",
       "0        Private          Urban             228.69  36.6  formerly smoked   \n",
       "1  Self-employed          Rural             202.21   NaN     never smoked   \n",
       "2        Private          Rural             105.92  32.5     never smoked   \n",
       "3        Private          Urban             171.23  34.4           smokes   \n",
       "4  Self-employed          Rural             174.12  24.0     never smoked   \n",
       "\n",
       "   stroke  \n",
       "0       1  \n",
       "1       1  \n",
       "2       1  \n",
       "3       1  \n",
       "4       1  "
      ]
     },
     "execution_count": 1,
     "metadata": {},
     "output_type": "execute_result"
    }
   ],
   "source": [
    "import numpy as np\n",
    "import pandas as pd\n",
    "\n",
    "print('Pandas:', pd.__version__)\n",
    "print('Numpy:',  np.__version__)\n",
    "\n",
    "df = pd.read_csv('healthcare-dataset-stroke-data.csv')\n",
    "\n",
    "df.head()"
   ]
  },
  {
   "cell_type": "markdown",
   "metadata": {},
   "source": [
    "#### Formatting"
   ]
  },
  {
   "cell_type": "markdown",
   "metadata": {},
   "source": [
    "To clean up the data a little bit, we're going to normalize the values of the non-numeric columns to have the same format by setting all values to lowercase and replacing spaces with underscores."
   ]
  },
  {
   "cell_type": "code",
   "execution_count": 2,
   "metadata": {},
   "outputs": [
    {
     "name": "stdout",
     "output_type": "stream",
     "text": [
      "['male' 'female' 'other']\n",
      "['yes' 'no']\n",
      "['private' 'self-employed' 'govt_job' 'children' 'never_worked']\n",
      "['urban' 'rural']\n",
      "['formerly_smoked' 'never_smoked' 'smokes' 'unknown']\n"
     ]
    }
   ],
   "source": [
    "for c in df.columns:\n",
    "    if df[c].dtype == 'object':\n",
    "        df[c] = df[c].str.lower()\n",
    "        \n",
    "df = df.replace(' ', '_', regex=True)\n",
    "        \n",
    "for c in df.columns:\n",
    "    if df[c].dtype == 'object':\n",
    "        print(df[c].unique())"
   ]
  },
  {
   "cell_type": "markdown",
   "metadata": {},
   "source": [
    "All of the columns look good except for the smoking_status column. One of the values in that column is listed as 'unknown'. Though this is technically a value, what it is actually representing is missing information, so let's make that more clear."
   ]
  },
  {
   "cell_type": "code",
   "execution_count": 3,
   "metadata": {
    "scrolled": true
   },
   "outputs": [
    {
     "name": "stdout",
     "output_type": "stream",
     "text": [
      "<class 'pandas.core.frame.DataFrame'>\n",
      "RangeIndex: 5110 entries, 0 to 5109\n",
      "Data columns (total 12 columns):\n",
      " #   Column             Non-Null Count  Dtype  \n",
      "---  ------             --------------  -----  \n",
      " 0   id                 5110 non-null   int64  \n",
      " 1   gender             5110 non-null   object \n",
      " 2   age                5110 non-null   float64\n",
      " 3   hypertension       5110 non-null   int64  \n",
      " 4   heart_disease      5110 non-null   int64  \n",
      " 5   ever_married       5110 non-null   object \n",
      " 6   work_type          5110 non-null   object \n",
      " 7   residence_type     5110 non-null   object \n",
      " 8   avg_glucose_level  5110 non-null   float64\n",
      " 9   bmi                4909 non-null   float64\n",
      " 10  smoking_status     3566 non-null   object \n",
      " 11  stroke             5110 non-null   int64  \n",
      "dtypes: float64(3), int64(4), object(5)\n",
      "memory usage: 479.2+ KB\n",
      "None\n"
     ]
    }
   ],
   "source": [
    "df.smoking_status.mask(df.smoking_status == 'unknown', np.nan, inplace=True)\n",
    "\n",
    "print(df.info())"
   ]
  },
  {
   "cell_type": "markdown",
   "metadata": {},
   "source": [
    "Some of the categorical columns should be converted into numerical columns. Specifically the ever_married column should be converted into a binary column similar to the hypertension, heart_disease, and stroke columns, and the smoking_status column should be converted into an ordinal. We think this is a meaningful change because there is a very clear way to assign an order to the values: never_smoked is 0, formerly_smoked is 1 since it is worse for your health, and finally smokes is 2, since it is worse than formerly_smoked."
   ]
  },
  {
   "cell_type": "code",
   "execution_count": 4,
   "metadata": {
    "scrolled": false
   },
   "outputs": [],
   "source": [
    "df.smoking_status.replace(to_replace= ['never_smoked', 'formerly_smoked', 'smokes'], value = [0, 1, 2], inplace=True)"
   ]
  },
  {
   "cell_type": "markdown",
   "metadata": {},
   "source": [
    "There is only one entry in the 5110 entries that put their gender as other. For no other reason than convenience while sorting by gender, we decided to remove that data point."
   ]
  },
  {
   "cell_type": "code",
   "execution_count": 5,
   "metadata": {
    "scrolled": false
   },
   "outputs": [
    {
     "name": "stdout",
     "output_type": "stream",
     "text": [
      "<class 'pandas.core.frame.DataFrame'>\n",
      "RangeIndex: 5109 entries, 0 to 5108\n",
      "Data columns (total 13 columns):\n",
      " #   Column             Non-Null Count  Dtype  \n",
      "---  ------             --------------  -----  \n",
      " 0   index              5109 non-null   int64  \n",
      " 1   id                 5109 non-null   int64  \n",
      " 2   gender             5109 non-null   object \n",
      " 3   age                5109 non-null   float64\n",
      " 4   hypertension       5109 non-null   int64  \n",
      " 5   heart_disease      5109 non-null   int64  \n",
      " 6   ever_married       5109 non-null   object \n",
      " 7   work_type          5109 non-null   object \n",
      " 8   residence_type     5109 non-null   object \n",
      " 9   avg_glucose_level  5109 non-null   float64\n",
      " 10  bmi                4908 non-null   float64\n",
      " 11  smoking_status     3565 non-null   float64\n",
      " 12  stroke             5109 non-null   int64  \n",
      "dtypes: float64(4), int64(5), object(4)\n",
      "memory usage: 519.0+ KB\n"
     ]
    }
   ],
   "source": [
    "df.drop(df[df.gender == 'other'].index, inplace=True)\n",
    "df = df.reset_index()\n",
    "df.info()"
   ]
  },
  {
   "cell_type": "markdown",
   "metadata": {},
   "source": [
    "Note: The data type of smoking_status is float64 when it should be int64 because it has NA values in it and Pandas changes the type to float64 when that is the case."
   ]
  },
  {
   "cell_type": "markdown",
   "metadata": {},
   "source": [
    "Lets create a table to describe all the attributes."
   ]
  },
  {
   "cell_type": "code",
   "execution_count": 6,
   "metadata": {},
   "outputs": [
    {
     "data": {
      "text/html": [
       "<div>\n",
       "<style scoped>\n",
       "    .dataframe tbody tr th:only-of-type {\n",
       "        vertical-align: middle;\n",
       "    }\n",
       "\n",
       "    .dataframe tbody tr th {\n",
       "        vertical-align: top;\n",
       "    }\n",
       "\n",
       "    .dataframe thead th {\n",
       "        text-align: right;\n",
       "    }\n",
       "</style>\n",
       "<table border=\"1\" class=\"dataframe\">\n",
       "  <thead>\n",
       "    <tr style=\"text-align: right;\">\n",
       "      <th></th>\n",
       "      <th>Attributes</th>\n",
       "      <th>Description</th>\n",
       "      <th>Scales</th>\n",
       "      <th>Continuous/Discrete</th>\n",
       "      <th>Range</th>\n",
       "    </tr>\n",
       "  </thead>\n",
       "  <tbody>\n",
       "    <tr>\n",
       "      <th>0</th>\n",
       "      <td>id</td>\n",
       "      <td>Unique ID number</td>\n",
       "      <td>Nominal</td>\n",
       "      <td>Discrete</td>\n",
       "      <td>67-72940</td>\n",
       "    </tr>\n",
       "    <tr>\n",
       "      <th>1</th>\n",
       "      <td>gender</td>\n",
       "      <td>Gender of person</td>\n",
       "      <td>Nominal</td>\n",
       "      <td>Discrete</td>\n",
       "      <td>male, female</td>\n",
       "    </tr>\n",
       "    <tr>\n",
       "      <th>2</th>\n",
       "      <td>age</td>\n",
       "      <td>Age of person in years</td>\n",
       "      <td>Ratio</td>\n",
       "      <td>Continuous</td>\n",
       "      <td>0.08 - 82.0</td>\n",
       "    </tr>\n",
       "    <tr>\n",
       "      <th>3</th>\n",
       "      <td>hypertension</td>\n",
       "      <td>Whether they have hypertension or not</td>\n",
       "      <td>Nominal</td>\n",
       "      <td>Discrete</td>\n",
       "      <td>0: True - 1: False</td>\n",
       "    </tr>\n",
       "    <tr>\n",
       "      <th>4</th>\n",
       "      <td>heart_disease</td>\n",
       "      <td>Whether they have a heart disease or not</td>\n",
       "      <td>Nominal</td>\n",
       "      <td>Discrete</td>\n",
       "      <td>0: True - 1: False</td>\n",
       "    </tr>\n",
       "    <tr>\n",
       "      <th>5</th>\n",
       "      <td>ever_married</td>\n",
       "      <td>Whether they have ever been married or not</td>\n",
       "      <td>Nominal</td>\n",
       "      <td>Discrete</td>\n",
       "      <td>0: True - 1: False</td>\n",
       "    </tr>\n",
       "    <tr>\n",
       "      <th>6</th>\n",
       "      <td>work_type</td>\n",
       "      <td>The category of their occupation</td>\n",
       "      <td>Nominal</td>\n",
       "      <td>Discrete</td>\n",
       "      <td>private, self-employed, govt_job, children, ne...</td>\n",
       "    </tr>\n",
       "    <tr>\n",
       "      <th>7</th>\n",
       "      <td>residence_type</td>\n",
       "      <td>Whether they live in a Urban or Rural environment</td>\n",
       "      <td>Nominal</td>\n",
       "      <td>Discrete</td>\n",
       "      <td>urban, rural</td>\n",
       "    </tr>\n",
       "    <tr>\n",
       "      <th>8</th>\n",
       "      <td>avg_glucose_level</td>\n",
       "      <td>The average blood sugar level of the person</td>\n",
       "      <td>Ratio</td>\n",
       "      <td>Continuous</td>\n",
       "      <td>55.12 - 271.74</td>\n",
       "    </tr>\n",
       "    <tr>\n",
       "      <th>9</th>\n",
       "      <td>bmi</td>\n",
       "      <td>The person's Body Mass Index</td>\n",
       "      <td>Ratio</td>\n",
       "      <td>Continuous</td>\n",
       "      <td>10.3 - 97.6</td>\n",
       "    </tr>\n",
       "    <tr>\n",
       "      <th>10</th>\n",
       "      <td>smoking_status</td>\n",
       "      <td>The person's level of smoking history</td>\n",
       "      <td>Ordinal</td>\n",
       "      <td>Discrete</td>\n",
       "      <td>0: never_smoked, 1: formerly_smoked, 2: smokes</td>\n",
       "    </tr>\n",
       "    <tr>\n",
       "      <th>11</th>\n",
       "      <td>stroke</td>\n",
       "      <td>Whether they have had a stroke or not</td>\n",
       "      <td>Nominal</td>\n",
       "      <td>Discrete</td>\n",
       "      <td>0: True - 1: False</td>\n",
       "    </tr>\n",
       "  </tbody>\n",
       "</table>\n",
       "</div>"
      ],
      "text/plain": [
       "           Attributes                                        Description  \\\n",
       "0                  id                                   Unique ID number   \n",
       "1              gender                                   Gender of person   \n",
       "2                 age                             Age of person in years   \n",
       "3        hypertension              Whether they have hypertension or not   \n",
       "4       heart_disease           Whether they have a heart disease or not   \n",
       "5        ever_married         Whether they have ever been married or not   \n",
       "6           work_type                   The category of their occupation   \n",
       "7      residence_type  Whether they live in a Urban or Rural environment   \n",
       "8   avg_glucose_level        The average blood sugar level of the person   \n",
       "9                 bmi                       The person's Body Mass Index   \n",
       "10     smoking_status              The person's level of smoking history   \n",
       "11             stroke              Whether they have had a stroke or not   \n",
       "\n",
       "     Scales Continuous/Discrete  \\\n",
       "0   Nominal            Discrete   \n",
       "1   Nominal            Discrete   \n",
       "2     Ratio          Continuous   \n",
       "3   Nominal            Discrete   \n",
       "4   Nominal            Discrete   \n",
       "5   Nominal            Discrete   \n",
       "6   Nominal            Discrete   \n",
       "7   Nominal            Discrete   \n",
       "8     Ratio          Continuous   \n",
       "9     Ratio          Continuous   \n",
       "10  Ordinal            Discrete   \n",
       "11  Nominal            Discrete   \n",
       "\n",
       "                                                Range  \n",
       "0                                            67-72940  \n",
       "1                                        male, female  \n",
       "2                                         0.08 - 82.0  \n",
       "3                                  0: True - 1: False  \n",
       "4                                  0: True - 1: False  \n",
       "5                                  0: True - 1: False  \n",
       "6   private, self-employed, govt_job, children, ne...  \n",
       "7                                        urban, rural  \n",
       "8                                      55.12 - 271.74  \n",
       "9                                         10.3 - 97.6  \n",
       "10     0: never_smoked, 1: formerly_smoked, 2: smokes  \n",
       "11                                 0: True - 1: False  "
      ]
     },
     "execution_count": 6,
     "metadata": {},
     "output_type": "execute_result"
    }
   ],
   "source": [
    "desc_table = pd.DataFrame()\n",
    "desc_table[\"Attributes\"] = df.columns.drop('index')\n",
    "desc_table[\"Description\"] = [\"Unique ID number\",\n",
    "                             \"Gender of person\",\n",
    "                             \"Age of person in years\",\n",
    "                             \"Whether they have hypertension or not\",\n",
    "                             \"Whether they have a heart disease or not\",\n",
    "                             \"Whether they have ever been married or not\",\n",
    "                             \"The category of their occupation\",\n",
    "                             \"Whether they live in a Urban or Rural environment\",\n",
    "                             \"The average blood sugar level of the person\",\n",
    "                             \"The person's Body Mass Index\",\n",
    "                             \"The person's level of smoking history\",\n",
    "                             \"Whether they have had a stroke or not\"\n",
    "                            ]\n",
    "desc_table[\"Scales\"] = [\"Nominal\",\n",
    "                        \"Nominal\",\n",
    "                        \"Ratio\",\n",
    "                        \"Nominal\",\n",
    "                        \"Nominal\",\n",
    "                        \"Nominal\",\n",
    "                        \"Nominal\",\n",
    "                        \"Nominal\",\n",
    "                        \"Ratio\",\n",
    "                        \"Ratio\",\n",
    "                        \"Ordinal\",\n",
    "                        \"Nominal\"\n",
    "                       ]\n",
    "desc_table[\"Continuous/Discrete\"] = [\"Discrete\",\n",
    "                                     \"Discrete\",\n",
    "                                     \"Continuous\",\n",
    "                                     \"Discrete\",\n",
    "                                     \"Discrete\",\n",
    "                                     \"Discrete\",\n",
    "                                     \"Discrete\",\n",
    "                                     \"Discrete\",\n",
    "                                     \"Continuous\",\n",
    "                                     \"Continuous\",\n",
    "                                     \"Discrete\",\n",
    "                                     \"Discrete\"\n",
    "                                    ]\n",
    "desc_table[\"Range\"] = [\"67-72940\",\n",
    "                       \"male, female\",\n",
    "                       \"0.08 - 82.0\",\n",
    "                       \"0: True - 1: False\",\n",
    "                       \"0: True - 1: False\",\n",
    "                       \"0: True - 1: False\",\n",
    "                       \"private, self-employed, govt_job, children, never_worked\",\n",
    "                       \"urban, rural\",\n",
    "                       \"55.12 - 271.74\",\n",
    "                       \"10.3 - 97.6\",\n",
    "                       \"0: never_smoked, 1: formerly_smoked, 2: smokes\",\n",
    "                       \"0: True - 1: False\"\n",
    "                      ]\n",
    "desc_table"
   ]
  },
  {
   "cell_type": "code",
   "execution_count": 7,
   "metadata": {},
   "outputs": [
    {
     "data": {
      "text/html": [
       "<div>\n",
       "<style scoped>\n",
       "    .dataframe tbody tr th:only-of-type {\n",
       "        vertical-align: middle;\n",
       "    }\n",
       "\n",
       "    .dataframe tbody tr th {\n",
       "        vertical-align: top;\n",
       "    }\n",
       "\n",
       "    .dataframe thead th {\n",
       "        text-align: right;\n",
       "    }\n",
       "</style>\n",
       "<table border=\"1\" class=\"dataframe\">\n",
       "  <thead>\n",
       "    <tr style=\"text-align: right;\">\n",
       "      <th></th>\n",
       "      <th>index</th>\n",
       "      <th>id</th>\n",
       "      <th>age</th>\n",
       "      <th>hypertension</th>\n",
       "      <th>heart_disease</th>\n",
       "      <th>avg_glucose_level</th>\n",
       "      <th>bmi</th>\n",
       "      <th>smoking_status</th>\n",
       "      <th>stroke</th>\n",
       "    </tr>\n",
       "  </thead>\n",
       "  <tbody>\n",
       "    <tr>\n",
       "      <th>count</th>\n",
       "      <td>5109.000000</td>\n",
       "      <td>5109.000000</td>\n",
       "      <td>5109.000000</td>\n",
       "      <td>5109.000000</td>\n",
       "      <td>5109.000000</td>\n",
       "      <td>5109.000000</td>\n",
       "      <td>4908.00000</td>\n",
       "      <td>3565.000000</td>\n",
       "      <td>5109.000000</td>\n",
       "    </tr>\n",
       "    <tr>\n",
       "      <th>mean</th>\n",
       "      <td>2554.390096</td>\n",
       "      <td>36513.985516</td>\n",
       "      <td>43.229986</td>\n",
       "      <td>0.097475</td>\n",
       "      <td>0.054022</td>\n",
       "      <td>106.140399</td>\n",
       "      <td>28.89456</td>\n",
       "      <td>0.690603</td>\n",
       "      <td>0.048738</td>\n",
       "    </tr>\n",
       "    <tr>\n",
       "      <th>std</th>\n",
       "      <td>1475.397748</td>\n",
       "      <td>21162.008804</td>\n",
       "      <td>22.613575</td>\n",
       "      <td>0.296633</td>\n",
       "      <td>0.226084</td>\n",
       "      <td>45.285004</td>\n",
       "      <td>7.85432</td>\n",
       "      <td>0.810242</td>\n",
       "      <td>0.215340</td>\n",
       "    </tr>\n",
       "    <tr>\n",
       "      <th>min</th>\n",
       "      <td>0.000000</td>\n",
       "      <td>67.000000</td>\n",
       "      <td>0.080000</td>\n",
       "      <td>0.000000</td>\n",
       "      <td>0.000000</td>\n",
       "      <td>55.120000</td>\n",
       "      <td>10.30000</td>\n",
       "      <td>0.000000</td>\n",
       "      <td>0.000000</td>\n",
       "    </tr>\n",
       "    <tr>\n",
       "      <th>25%</th>\n",
       "      <td>1277.000000</td>\n",
       "      <td>17740.000000</td>\n",
       "      <td>25.000000</td>\n",
       "      <td>0.000000</td>\n",
       "      <td>0.000000</td>\n",
       "      <td>77.240000</td>\n",
       "      <td>23.50000</td>\n",
       "      <td>0.000000</td>\n",
       "      <td>0.000000</td>\n",
       "    </tr>\n",
       "    <tr>\n",
       "      <th>50%</th>\n",
       "      <td>2554.000000</td>\n",
       "      <td>36922.000000</td>\n",
       "      <td>45.000000</td>\n",
       "      <td>0.000000</td>\n",
       "      <td>0.000000</td>\n",
       "      <td>91.880000</td>\n",
       "      <td>28.10000</td>\n",
       "      <td>0.000000</td>\n",
       "      <td>0.000000</td>\n",
       "    </tr>\n",
       "    <tr>\n",
       "      <th>75%</th>\n",
       "      <td>3832.000000</td>\n",
       "      <td>54643.000000</td>\n",
       "      <td>61.000000</td>\n",
       "      <td>0.000000</td>\n",
       "      <td>0.000000</td>\n",
       "      <td>114.090000</td>\n",
       "      <td>33.10000</td>\n",
       "      <td>1.000000</td>\n",
       "      <td>0.000000</td>\n",
       "    </tr>\n",
       "    <tr>\n",
       "      <th>max</th>\n",
       "      <td>5109.000000</td>\n",
       "      <td>72940.000000</td>\n",
       "      <td>82.000000</td>\n",
       "      <td>1.000000</td>\n",
       "      <td>1.000000</td>\n",
       "      <td>271.740000</td>\n",
       "      <td>97.60000</td>\n",
       "      <td>2.000000</td>\n",
       "      <td>1.000000</td>\n",
       "    </tr>\n",
       "  </tbody>\n",
       "</table>\n",
       "</div>"
      ],
      "text/plain": [
       "             index            id          age  hypertension  heart_disease  \\\n",
       "count  5109.000000   5109.000000  5109.000000   5109.000000    5109.000000   \n",
       "mean   2554.390096  36513.985516    43.229986      0.097475       0.054022   \n",
       "std    1475.397748  21162.008804    22.613575      0.296633       0.226084   \n",
       "min       0.000000     67.000000     0.080000      0.000000       0.000000   \n",
       "25%    1277.000000  17740.000000    25.000000      0.000000       0.000000   \n",
       "50%    2554.000000  36922.000000    45.000000      0.000000       0.000000   \n",
       "75%    3832.000000  54643.000000    61.000000      0.000000       0.000000   \n",
       "max    5109.000000  72940.000000    82.000000      1.000000       1.000000   \n",
       "\n",
       "       avg_glucose_level         bmi  smoking_status       stroke  \n",
       "count        5109.000000  4908.00000     3565.000000  5109.000000  \n",
       "mean          106.140399    28.89456        0.690603     0.048738  \n",
       "std            45.285004     7.85432        0.810242     0.215340  \n",
       "min            55.120000    10.30000        0.000000     0.000000  \n",
       "25%            77.240000    23.50000        0.000000     0.000000  \n",
       "50%            91.880000    28.10000        0.000000     0.000000  \n",
       "75%           114.090000    33.10000        1.000000     0.000000  \n",
       "max           271.740000    97.60000        2.000000     1.000000  "
      ]
     },
     "execution_count": 7,
     "metadata": {},
     "output_type": "execute_result"
    }
   ],
   "source": [
    "df.describe()"
   ]
  },
  {
   "cell_type": "markdown",
   "metadata": {},
   "source": [
    "### Data Quality"
   ]
  },
  {
   "cell_type": "markdown",
   "metadata": {},
   "source": [
    "#### Duplicate Values"
   ]
  },
  {
   "cell_type": "markdown",
   "metadata": {},
   "source": [
    "The first thing we'll want to do to check the quality of the data is to check for duplicates. First, let's make sure there are no duplicate IDs in the dataset."
   ]
  },
  {
   "cell_type": "code",
   "execution_count": 8,
   "metadata": {
    "scrolled": true
   },
   "outputs": [
    {
     "name": "stdout",
     "output_type": "stream",
     "text": [
      "No duplicate IDs\n"
     ]
    }
   ],
   "source": [
    "if df.id.unique().size == df.id.size:\n",
    "    print(\"No duplicate IDs\")"
   ]
  },
  {
   "cell_type": "markdown",
   "metadata": {},
   "source": [
    "Now that we know there are no duplicate IDs, let's check if there are any rows with identical values (excluding the ID)."
   ]
  },
  {
   "cell_type": "code",
   "execution_count": 9,
   "metadata": {},
   "outputs": [
    {
     "data": {
      "text/plain": [
       "Series([], dtype: bool)"
      ]
     },
     "execution_count": 9,
     "metadata": {},
     "output_type": "execute_result"
    }
   ],
   "source": [
    "cols = df.columns.drop('id')\n",
    "\n",
    "s = df.duplicated(subset=cols, keep='first')\n",
    "\n",
    "s[s]"
   ]
  },
  {
   "cell_type": "markdown",
   "metadata": {},
   "source": [
    "Seems like the dataset has no exact duplicates. We feel safe assuming that, finding no exact duplicates, each entry in the dataset is unique."
   ]
  },
  {
   "cell_type": "markdown",
   "metadata": {},
   "source": [
    "#### Missing Values"
   ]
  },
  {
   "cell_type": "markdown",
   "metadata": {},
   "source": [
    "The second thing to check the dataset for is missing values. We can see them by checking df.info()."
   ]
  },
  {
   "cell_type": "code",
   "execution_count": 10,
   "metadata": {},
   "outputs": [
    {
     "name": "stdout",
     "output_type": "stream",
     "text": [
      "<class 'pandas.core.frame.DataFrame'>\n",
      "RangeIndex: 5109 entries, 0 to 5108\n",
      "Data columns (total 13 columns):\n",
      " #   Column             Non-Null Count  Dtype  \n",
      "---  ------             --------------  -----  \n",
      " 0   index              5109 non-null   int64  \n",
      " 1   id                 5109 non-null   int64  \n",
      " 2   gender             5109 non-null   object \n",
      " 3   age                5109 non-null   float64\n",
      " 4   hypertension       5109 non-null   int64  \n",
      " 5   heart_disease      5109 non-null   int64  \n",
      " 6   ever_married       5109 non-null   object \n",
      " 7   work_type          5109 non-null   object \n",
      " 8   residence_type     5109 non-null   object \n",
      " 9   avg_glucose_level  5109 non-null   float64\n",
      " 10  bmi                4908 non-null   float64\n",
      " 11  smoking_status     3565 non-null   float64\n",
      " 12  stroke             5109 non-null   int64  \n",
      "dtypes: float64(4), int64(5), object(4)\n",
      "memory usage: 519.0+ KB\n"
     ]
    }
   ],
   "source": [
    "df.info()"
   ]
  },
  {
   "cell_type": "markdown",
   "metadata": {},
   "source": [
    "This shows us that we're missing data from two columns: smoking_status and bmi. Now let's take a look at both of the columns with missing data and see if we want to impute or delete them."
   ]
  },
  {
   "cell_type": "markdown",
   "metadata": {},
   "source": [
    "##### BMI"
   ]
  },
  {
   "cell_type": "markdown",
   "metadata": {},
   "source": [
    "Let's first look at the inital data from the column."
   ]
  },
  {
   "cell_type": "code",
   "execution_count": 11,
   "metadata": {},
   "outputs": [
    {
     "data": {
      "text/plain": [
       "count    4908.00000\n",
       "mean       28.89456\n",
       "std         7.85432\n",
       "min        10.30000\n",
       "25%        23.50000\n",
       "50%        28.10000\n",
       "75%        33.10000\n",
       "max        97.60000\n",
       "Name: bmi, dtype: float64"
      ]
     },
     "execution_count": 11,
     "metadata": {},
     "output_type": "execute_result"
    }
   ],
   "source": [
    "df.bmi.describe()"
   ]
  },
  {
   "cell_type": "markdown",
   "metadata": {},
   "source": [
    "Now let's attempt to impute the bmi column using KNNImputer with the numerical and boolean columns of the dataset."
   ]
  },
  {
   "cell_type": "code",
   "execution_count": 12,
   "metadata": {
    "scrolled": true
   },
   "outputs": [
    {
     "name": "stdout",
     "output_type": "stream",
     "text": [
      "----- Original -----\n",
      "count    4908.00000\n",
      "mean       28.89456\n",
      "std         7.85432\n",
      "min        10.30000\n",
      "25%        23.50000\n",
      "50%        28.10000\n",
      "75%        33.10000\n",
      "max        97.60000\n",
      "Name: bmi, dtype: float64\n",
      "----- Imputed ------\n",
      "count    5109.000000\n",
      "mean       28.950714\n",
      "std         7.783311\n",
      "min        10.300000\n",
      "25%        23.700000\n",
      "50%        28.200000\n",
      "75%        33.100000\n",
      "max        97.600000\n",
      "Name: bmi, dtype: float64\n"
     ]
    }
   ],
   "source": [
    "from sklearn.impute import KNNImputer\n",
    "import copy\n",
    "\n",
    "knn = KNNImputer(n_neighbors=3)\n",
    "\n",
    "temp = df[[\n",
    "    'age',\n",
    "    'hypertension',\n",
    "    'heart_disease',\n",
    "    'avg_glucose_level',\n",
    "    'bmi',\n",
    "    'stroke'\n",
    "]].to_numpy()\n",
    "\n",
    "temp_imputed = knn.fit_transform(temp)\n",
    "\n",
    "df_imputed = copy.deepcopy(df)\n",
    "df_imputed[[\n",
    "    'age',\n",
    "    'hypertension',\n",
    "    'heart_disease',\n",
    "    'avg_glucose_level',\n",
    "    'bmi',\n",
    "    'stroke'\n",
    "]] = temp_imputed\n",
    "\n",
    "df_imputed.bmi = df_imputed.bmi.apply(lambda x: round(x, 1))\n",
    "print(\"----- Original -----\")\n",
    "print(df.bmi.describe())\n",
    "print(\"----- Imputed ------\")\n",
    "print(df_imputed.bmi.describe())"
   ]
  },
  {
   "cell_type": "markdown",
   "metadata": {},
   "source": [
    "From the averages and five number summary of the dataset before and after the imputation, we see that there is very little difference. The dataset seemed to impute slightly more datapoints just above the mean and in a tighter grouping. Let's now visualize the imputation using a histogram."
   ]
  },
  {
   "cell_type": "code",
   "execution_count": 13,
   "metadata": {
    "scrolled": true
   },
   "outputs": [
    {
     "data": {
      "image/png": "[encoded data removed]",
      "text/plain": [
       "<Figure size 432x288 with 1 Axes>"
      ]
     },
     "metadata": {
      "needs_background": "light"
     },
     "output_type": "display_data"
    }
   ],
   "source": [
    "import matplotlib\n",
    "import matplotlib.pyplot as plt\n",
    "import warnings\n",
    "warnings.simplefilter('ignore', DeprecationWarning)\n",
    "%matplotlib inline \n",
    "\n",
    "df_imputed.bmi.plot(kind='hist', alpha=0.5, label=\"imputed\",bins=100)\n",
    "df.bmi.plot(kind='hist', alpha=0.5, label=\"original\",bins=100)\n",
    "plt.legend()\n",
    "plt.show()"
   ]
  },
  {
   "cell_type": "markdown",
   "metadata": {},
   "source": [
    "The imputation looks very successful from this visualization, so we have decided to use the imputed data for our visualizations."
   ]
  },
  {
   "cell_type": "code",
   "execution_count": 14,
   "metadata": {},
   "outputs": [
    {
     "name": "stdout",
     "output_type": "stream",
     "text": [
      "<class 'pandas.core.frame.DataFrame'>\n",
      "RangeIndex: 5109 entries, 0 to 5108\n",
      "Data columns (total 13 columns):\n",
      " #   Column             Non-Null Count  Dtype  \n",
      "---  ------             --------------  -----  \n",
      " 0   index              5109 non-null   int64  \n",
      " 1   id                 5109 non-null   int64  \n",
      " 2   gender             5109 non-null   object \n",
      " 3   age                5109 non-null   float64\n",
      " 4   hypertension       5109 non-null   float64\n",
      " 5   heart_disease      5109 non-null   float64\n",
      " 6   ever_married       5109 non-null   object \n",
      " 7   work_type          5109 non-null   object \n",
      " 8   residence_type     5109 non-null   object \n",
      " 9   avg_glucose_level  5109 non-null   float64\n",
      " 10  bmi                5109 non-null   float64\n",
      " 11  smoking_status     3565 non-null   float64\n",
      " 12  stroke             5109 non-null   float64\n",
      "dtypes: float64(7), int64(2), object(4)\n",
      "memory usage: 519.0+ KB\n"
     ]
    }
   ],
   "source": [
    "df = df_imputed\n",
    "df.info()"
   ]
  },
  {
   "cell_type": "markdown",
   "metadata": {},
   "source": [
    "##### SMOKING_STATUS"
   ]
  },
  {
   "cell_type": "markdown",
   "metadata": {},
   "source": [
    "Let's first look at the inital data from the column."
   ]
  },
  {
   "cell_type": "code",
   "execution_count": 15,
   "metadata": {},
   "outputs": [
    {
     "data": {
      "text/plain": [
       "count    3565.000000\n",
       "mean        0.690603\n",
       "std         0.810242\n",
       "min         0.000000\n",
       "25%         0.000000\n",
       "50%         0.000000\n",
       "75%         1.000000\n",
       "max         2.000000\n",
       "Name: smoking_status, dtype: float64"
      ]
     },
     "execution_count": 15,
     "metadata": {},
     "output_type": "execute_result"
    }
   ],
   "source": [
    "df.smoking_status.describe()"
   ]
  },
  {
   "cell_type": "markdown",
   "metadata": {},
   "source": [
    "Now let's attempt to impute the smoking_status column using KNNImputer with the numerical and boolean columns of the dataset."
   ]
  },
  {
   "cell_type": "code",
   "execution_count": 16,
   "metadata": {},
   "outputs": [
    {
     "name": "stdout",
     "output_type": "stream",
     "text": [
      "----- Original -----\n",
      "count    3565.000000\n",
      "mean        0.690603\n",
      "std         0.810242\n",
      "min         0.000000\n",
      "25%         0.000000\n",
      "50%         0.000000\n",
      "75%         1.000000\n",
      "max         2.000000\n",
      "Name: smoking_status, dtype: float64\n",
      "----- Imputed ------\n",
      "count    5109.000000\n",
      "mean        0.624193\n",
      "std         0.746756\n",
      "min         0.000000\n",
      "25%         0.000000\n",
      "50%         0.000000\n",
      "75%         1.000000\n",
      "max         2.000000\n",
      "Name: smoking_status, dtype: float64\n"
     ]
    }
   ],
   "source": [
    "temp = df[[\n",
    "    'age',\n",
    "    'hypertension',\n",
    "    'heart_disease',\n",
    "    'avg_glucose_level',\n",
    "    'smoking_status',\n",
    "    'stroke'\n",
    "]].to_numpy()\n",
    "\n",
    "temp_imputed = knn.fit_transform(temp)\n",
    "\n",
    "df_imputed = copy.deepcopy(df)\n",
    "df_imputed[[\n",
    "    'age',\n",
    "    'hypertension',\n",
    "    'heart_disease',\n",
    "    'avg_glucose_level',\n",
    "    'smoking_status',\n",
    "    'stroke'\n",
    "]] = temp_imputed\n",
    "\n",
    "df_imputed.smoking_status = df_imputed.smoking_status.apply(lambda x: round(x))\n",
    "print(\"----- Original -----\")\n",
    "print(df.smoking_status.describe())\n",
    "print(\"----- Imputed ------\")\n",
    "print(df_imputed.smoking_status.describe())"
   ]
  },
  {
   "cell_type": "code",
   "execution_count": 17,
   "metadata": {},
   "outputs": [
    {
     "data": {
      "image/png": "[encoded data removed]",
      "text/plain": [
       "<Figure size 432x288 with 1 Axes>"
      ]
     },
     "metadata": {
      "needs_background": "light"
     },
     "output_type": "display_data"
    }
   ],
   "source": [
    "warnings.simplefilter('ignore', DeprecationWarning)\n",
    "%matplotlib inline \n",
    "\n",
    "df_imputed.smoking_status.plot(kind='hist', alpha=0.5, label=\"imputed\", bins=3)\n",
    "df.smoking_status.plot(kind='hist', alpha=0.5, label=\"original\",bins=3)\n",
    "plt.legend()\n",
    "plt.show()"
   ]
  },
  {
   "cell_type": "markdown",
   "metadata": {},
   "source": [
    "This imputation seems to be much less successful than the previous one, imputing significantly more non-smoking and former-smoking datapoints than smoking datapoints. However, taking into account both how large the population with missing data is, and also real world factors that may influence this distribution, we have decided to use this imputated data as well. Regarding the real world factors, it seems plausible that smokers are more likely to be recorded as smokers due to the relevance of smoking to general health, whereas former- or non-smokers might not have that data recorded as often."
   ]
  },
  {
   "cell_type": "markdown",
   "metadata": {},
   "source": [
    "## Part III - Data Visualization"
   ]
  },
  {
   "cell_type": "markdown",
   "metadata": {},
   "source": [
    "### Basic Visualizations"
   ]
  },
  {
   "cell_type": "markdown",
   "metadata": {},
   "source": [
    "#### Visualization 1"
   ]
  },
  {
   "cell_type": "code",
   "execution_count": 18,
   "metadata": {},
   "outputs": [
    {
     "data": {
      "text/plain": [
       "Text(0.5, 1.0, 'Age / Stroke')"
      ]
     },
     "execution_count": 18,
     "metadata": {},
     "output_type": "execute_result"
    },
    {
     "data": {
      "image/png": "[encoded data removed]",
      "text/plain": [
       "<Figure size 1440x576 with 3 Axes>"
      ]
     },
     "metadata": {
      "needs_background": "light"
     },
     "output_type": "display_data"
    }
   ],
   "source": [
    "import seaborn as sns\n",
    "\n",
    "fig, axes = plt.subplots(1, 3, figsize=(20, 8), sharey=True)\n",
    "fig.suptitle('Comparing Age to Various Health Conditions')\n",
    "\n",
    "sns.boxplot(ax = axes[0], x=\"hypertension\", y=\"age\", data=df_imputed)\n",
    "axes[0].set_title('Age / Hypertension')\n",
    "\n",
    "sns.boxplot(ax = axes[1], x=\"heart_disease\", y=\"age\", data=df_imputed)\n",
    "axes[1].set_title('Age / Heart Disease')\n",
    "\n",
    "sns.boxplot(ax = axes[2], x=\"stroke\", y=\"age\", data=df_imputed)\n",
    "axes[2].set_title('Age / Stroke')"
   ]
  },
  {
   "cell_type": "markdown",
   "metadata": {},
   "source": [
    "This boxplot shows the relationship between age and various health conditions such as hypertension, heart disease, and occurrences of stroke. By analyzing the data, we can see how the majority of people with hypertension and heart disease fall into similar age groups (between about 50 to 80 years of age). This same age group is apparent with the people who have had a stroke before as well - they fall into the 60-80 years of age (for the majority). This can allow us to conclude how an older age factors into the occurrence of more health conditions like strokes, hypertension, and heart disease."
   ]
  },
  {
   "cell_type": "markdown",
   "metadata": {},
   "source": [
    "#### Visualization 2"
   ]
  },
  {
   "cell_type": "code",
   "execution_count": 19,
   "metadata": {
    "scrolled": false
   },
   "outputs": [
    {
     "data": {
      "text/html": [
       "<div>\n",
       "<style scoped>\n",
       "    .dataframe tbody tr th:only-of-type {\n",
       "        vertical-align: middle;\n",
       "    }\n",
       "\n",
       "    .dataframe tbody tr th {\n",
       "        vertical-align: top;\n",
       "    }\n",
       "\n",
       "    .dataframe thead th {\n",
       "        text-align: right;\n",
       "    }\n",
       "</style>\n",
       "<table border=\"1\" class=\"dataframe\">\n",
       "  <thead>\n",
       "    <tr style=\"text-align: right;\">\n",
       "      <th></th>\n",
       "      <th>hypertension</th>\n",
       "      <th>False</th>\n",
       "      <th>True</th>\n",
       "    </tr>\n",
       "    <tr>\n",
       "      <th>gender</th>\n",
       "      <th>ever_married</th>\n",
       "      <th></th>\n",
       "      <th></th>\n",
       "    </tr>\n",
       "  </thead>\n",
       "  <tbody>\n",
       "    <tr>\n",
       "      <th rowspan=\"2\" valign=\"top\">female</th>\n",
       "      <th>no</th>\n",
       "      <td>96.777442</td>\n",
       "      <td>3.222558</td>\n",
       "    </tr>\n",
       "    <tr>\n",
       "      <th>yes</th>\n",
       "      <td>87.806097</td>\n",
       "      <td>12.193903</td>\n",
       "    </tr>\n",
       "    <tr>\n",
       "      <th rowspan=\"2\" valign=\"top\">male</th>\n",
       "      <th>no</th>\n",
       "      <td>97.247706</td>\n",
       "      <td>2.752294</td>\n",
       "    </tr>\n",
       "    <tr>\n",
       "      <th>yes</th>\n",
       "      <td>85.133136</td>\n",
       "      <td>14.866864</td>\n",
       "    </tr>\n",
       "  </tbody>\n",
       "</table>\n",
       "</div>"
      ],
      "text/plain": [
       "hypertension             False      True \n",
       "gender ever_married                      \n",
       "female no            96.777442   3.222558\n",
       "       yes           87.806097  12.193903\n",
       "male   no            97.247706   2.752294\n",
       "       yes           85.133136  14.866864"
      ]
     },
     "metadata": {},
     "output_type": "display_data"
    },
    {
     "data": {
      "image/png": "[encoded data removed]",
      "text/plain": [
       "<Figure size 720x360 with 1 Axes>"
      ]
     },
     "metadata": {
      "needs_background": "light"
     },
     "output_type": "display_data"
    },
    {
     "data": {
      "text/html": [
       "<div>\n",
       "<style scoped>\n",
       "    .dataframe tbody tr th:only-of-type {\n",
       "        vertical-align: middle;\n",
       "    }\n",
       "\n",
       "    .dataframe tbody tr th {\n",
       "        vertical-align: top;\n",
       "    }\n",
       "\n",
       "    .dataframe thead th {\n",
       "        text-align: right;\n",
       "    }\n",
       "</style>\n",
       "<table border=\"1\" class=\"dataframe\">\n",
       "  <thead>\n",
       "    <tr style=\"text-align: right;\">\n",
       "      <th></th>\n",
       "      <th>heart_disease</th>\n",
       "      <th>False</th>\n",
       "      <th>True</th>\n",
       "    </tr>\n",
       "    <tr>\n",
       "      <th>gender</th>\n",
       "      <th>ever_married</th>\n",
       "      <th></th>\n",
       "      <th></th>\n",
       "    </tr>\n",
       "  </thead>\n",
       "  <tbody>\n",
       "    <tr>\n",
       "      <th rowspan=\"2\" valign=\"top\">female</th>\n",
       "      <th>no</th>\n",
       "      <td>98.288016</td>\n",
       "      <td>1.711984</td>\n",
       "    </tr>\n",
       "    <tr>\n",
       "      <th>yes</th>\n",
       "      <td>95.202399</td>\n",
       "      <td>4.797601</td>\n",
       "    </tr>\n",
       "    <tr>\n",
       "      <th rowspan=\"2\" valign=\"top\">male</th>\n",
       "      <th>no</th>\n",
       "      <td>98.034076</td>\n",
       "      <td>1.965924</td>\n",
       "    </tr>\n",
       "    <tr>\n",
       "      <th>yes</th>\n",
       "      <td>89.053254</td>\n",
       "      <td>10.946746</td>\n",
       "    </tr>\n",
       "  </tbody>\n",
       "</table>\n",
       "</div>"
      ],
      "text/plain": [
       "heart_disease            False      True \n",
       "gender ever_married                      \n",
       "female no            98.288016   1.711984\n",
       "       yes           95.202399   4.797601\n",
       "male   no            98.034076   1.965924\n",
       "       yes           89.053254  10.946746"
      ]
     },
     "metadata": {},
     "output_type": "display_data"
    },
    {
     "data": {
      "image/png": "[encoded data removed]",
      "text/plain": [
       "<Figure size 720x360 with 1 Axes>"
      ]
     },
     "metadata": {
      "needs_background": "light"
     },
     "output_type": "display_data"
    },
    {
     "data": {
      "text/html": [
       "<div>\n",
       "<style scoped>\n",
       "    .dataframe tbody tr th:only-of-type {\n",
       "        vertical-align: middle;\n",
       "    }\n",
       "\n",
       "    .dataframe tbody tr th {\n",
       "        vertical-align: top;\n",
       "    }\n",
       "\n",
       "    .dataframe thead th {\n",
       "        text-align: right;\n",
       "    }\n",
       "</style>\n",
       "<table border=\"1\" class=\"dataframe\">\n",
       "  <thead>\n",
       "    <tr style=\"text-align: right;\">\n",
       "      <th></th>\n",
       "      <th>stroke</th>\n",
       "      <th>False</th>\n",
       "      <th>True</th>\n",
       "    </tr>\n",
       "    <tr>\n",
       "      <th>gender</th>\n",
       "      <th>ever_married</th>\n",
       "      <th></th>\n",
       "      <th></th>\n",
       "    </tr>\n",
       "  </thead>\n",
       "  <tbody>\n",
       "    <tr>\n",
       "      <th rowspan=\"2\" valign=\"top\">female</th>\n",
       "      <th>no</th>\n",
       "      <td>97.885196</td>\n",
       "      <td>2.114804</td>\n",
       "    </tr>\n",
       "    <tr>\n",
       "      <th>yes</th>\n",
       "      <td>94.002999</td>\n",
       "      <td>5.997001</td>\n",
       "    </tr>\n",
       "    <tr>\n",
       "      <th rowspan=\"2\" valign=\"top\">male</th>\n",
       "      <th>no</th>\n",
       "      <td>98.951507</td>\n",
       "      <td>1.048493</td>\n",
       "    </tr>\n",
       "    <tr>\n",
       "      <th>yes</th>\n",
       "      <td>92.603550</td>\n",
       "      <td>7.396450</td>\n",
       "    </tr>\n",
       "  </tbody>\n",
       "</table>\n",
       "</div>"
      ],
      "text/plain": [
       "stroke                   False     True \n",
       "gender ever_married                     \n",
       "female no            97.885196  2.114804\n",
       "       yes           94.002999  5.997001\n",
       "male   no            98.951507  1.048493\n",
       "       yes           92.603550  7.396450"
      ]
     },
     "metadata": {},
     "output_type": "display_data"
    },
    {
     "data": {
      "image/png": "[encoded data removed]",
      "text/plain": [
       "<Figure size 720x360 with 1 Axes>"
      ]
     },
     "metadata": {
      "needs_background": "light"
     },
     "output_type": "display_data"
    }
   ],
   "source": [
    "hyper = pd.crosstab([df_imputed['gender'], df_imputed['ever_married']], df_imputed.hypertension.astype(bool)).apply(lambda r: r/r.sum()*100, axis=1)\n",
    "hyper_ = hyper.plot.bar(figsize=(10,5),stacked=True)\n",
    "display(hyper)\n",
    "\n",
    "for rec in hyper_.patches:\n",
    "    height = rec.get_height()\n",
    "    hyper_.text(rec.get_x() + rec.get_width() / 2, \n",
    "              rec.get_y() + height / 2,\n",
    "              \"{:.0f}%\".format(height),\n",
    "              ha='center', \n",
    "              va='bottom')\n",
    "\n",
    "plt.title('Hypertension as a Result of Gender and Being Married or Unmarried')\n",
    "plt.xlabel('Gender, Ever Married')\n",
    "plt.ylabel('Percentage')\n",
    "plt.show()\n",
    "\n",
    "heart= pd.crosstab([df_imputed['gender'], df_imputed['ever_married']], df_imputed.heart_disease.astype(bool)).apply(lambda r: r/r.sum()*100, axis=1)\n",
    "heart_ = heart.plot.bar(figsize=(10,5),stacked=True)\n",
    "display(heart)\n",
    "\n",
    "for rec in heart_.patches:\n",
    "    height = rec.get_height()\n",
    "    heart_.text(rec.get_x() + rec.get_width() / 2, \n",
    "              rec.get_y() + height / 2,\n",
    "              \"{:.0f}%\".format(height),\n",
    "              ha='center', \n",
    "              va='bottom')\n",
    "\n",
    "plt.title('Heart Disease as a Result of Gender and Being Married or Unmarried')\n",
    "plt.xlabel('Gender, Ever Married')\n",
    "plt.ylabel('Percentage')\n",
    "plt.show()\n",
    "\n",
    "gender = pd.crosstab([df_imputed['gender'], df_imputed['ever_married']], df_imputed.stroke.astype(bool)).apply(lambda r: r/r.sum()*100, axis=1)\n",
    "gender_ = gender.plot.bar(figsize=(10,5),stacked=True)\n",
    "display(gender)\n",
    "\n",
    "for rec in gender_.patches:\n",
    "    height = rec.get_height()\n",
    "    gender_.text(rec.get_x() + rec.get_width() / 2, \n",
    "              rec.get_y() + height / 2,\n",
    "              \"{:.0f}%\".format(height),\n",
    "              ha='center', \n",
    "              va='bottom')\n",
    "\n",
    "plt.title('Stroke as a Result of Gender and Being Married or Unmarried')\n",
    "plt.xlabel('Gender, Ever Married')\n",
    "plt.ylabel('Percentage')\n",
    "plt.show()"
   ]
  },
  {
   "cell_type": "markdown",
   "metadata": {},
   "source": [
    "The above visuals exemplify the presence of hypertension, heart disease, and strokes in married and unmarried individuals of the genders male and female. We felt this would be an interesting and slightly comedic correlation to explore and the results actually confirm our hypothesis that married individuals would report to have higher levels of hypertension, heart disease, and risk for stroke. Overall, however, most of the data explored in the above visuals of the relationship between married and unmarried indviduals and hypertension, heart disease, and stroke supports that there is very little correlation, as there is overwhelmingly little overlap between being married and suffering from hypertension, heart disease, and stroke. However, in the cases where individuals report to suffer from one or more of the three, the percentages reflect that married individuals reported higher rate of suffering from hypertension, heart disease, and stroke than the unmarried individuals. So, while there is not strong correlation, it is interesting to see these higher rates in the married individuals.  "
   ]
  },
  {
   "cell_type": "markdown",
   "metadata": {},
   "source": [
    "#### Visualization 3"
   ]
  },
  {
   "cell_type": "code",
   "execution_count": 20,
   "metadata": {
    "scrolled": false
   },
   "outputs": [
    {
     "data": {
      "image/png": "[encoded data removed]",
      "text/plain": [
       "<Figure size 432x288 with 1 Axes>"
      ]
     },
     "metadata": {
      "needs_background": "light"
     },
     "output_type": "display_data"
    }
   ],
   "source": [
    "ages = df_imputed.age.unique()\n",
    "ages.sort()\n",
    "v = np.vectorize(lambda x: int(x))\n",
    "ages = list(set(v(ages)))\n",
    "ages.pop(0)\n",
    "\n",
    "def stroke_probability_for(a):\n",
    "    p_a_b = len(df_imputed[(df_imputed.age <= a) & (df_imputed.age > a - 1) & (df_imputed.stroke == 1.)])\n",
    "    p_a   = len(df_imputed[(df_imputed.age <= a) & (df_imputed.age > a - 1)])\n",
    "    return p_a_b / p_a\n",
    "\n",
    "age_prob = list(map(lambda x: [x, stroke_probability_for(x)], ages))\n",
    "\n",
    "stroke_age_data = pd.DataFrame(age_prob, columns=['age','probability of stroke'])\n",
    "\n",
    "sns.lineplot(data=stroke_age_data, x=\"age\", y=\"probability of stroke\").set_title(\"Probability of Stroke vs. Age\")\n",
    "\n",
    "plt.show()"
   ]
  },
  {
   "cell_type": "markdown",
   "metadata": {},
   "source": [
    "This visualization shows the year by year conditional probability of an individual having a stroke, or in other words, the proportion of people who have had a stroke that are the same age. For example, if there were ten 80 year olds, and three of them have had a stroke in their life, then the conditional probability of having a stroke as an 80 year old would be 0.3, or 30%. This plot shows very clearly how much age is a factor in an individual's risk of stroke. As we move along the X-axis, the probability rises very quickly, from under 5 percent up to an individuals late 40's, to almost a quarter of all people in their late 70's. The data from year to year is quite \"jittery\" for lack of a better word, and this is likely due to smaller sample sizes of certain ages, however the trend of the line is still very clear despite this, and shows quite a tight correlation."
   ]
  },
  {
   "cell_type": "markdown",
   "metadata": {},
   "source": [
    "### Exploratory Visualizations"
   ]
  },
  {
   "cell_type": "markdown",
   "metadata": {},
   "source": [
    "**Question 1: What is more influential feature for stroke likelihood: hypertension, heart disease, or smoking status?**"
   ]
  },
  {
   "cell_type": "code",
   "execution_count": 21,
   "metadata": {},
   "outputs": [
    {
     "data": {
      "text/html": [
       "<div>\n",
       "<style scoped>\n",
       "    .dataframe tbody tr th:only-of-type {\n",
       "        vertical-align: middle;\n",
       "    }\n",
       "\n",
       "    .dataframe tbody tr th {\n",
       "        vertical-align: top;\n",
       "    }\n",
       "\n",
       "    .dataframe thead th {\n",
       "        text-align: right;\n",
       "    }\n",
       "</style>\n",
       "<table border=\"1\" class=\"dataframe\">\n",
       "  <thead>\n",
       "    <tr style=\"text-align: right;\">\n",
       "      <th>stroke</th>\n",
       "      <th>False</th>\n",
       "      <th>True</th>\n",
       "    </tr>\n",
       "    <tr>\n",
       "      <th>hypertension</th>\n",
       "      <th></th>\n",
       "      <th></th>\n",
       "    </tr>\n",
       "  </thead>\n",
       "  <tbody>\n",
       "    <tr>\n",
       "      <th>0.0</th>\n",
       "      <td>96.031230</td>\n",
       "      <td>3.968770</td>\n",
       "    </tr>\n",
       "    <tr>\n",
       "      <th>1.0</th>\n",
       "      <td>86.746988</td>\n",
       "      <td>13.253012</td>\n",
       "    </tr>\n",
       "  </tbody>\n",
       "</table>\n",
       "</div>"
      ],
      "text/plain": [
       "stroke            False      True \n",
       "hypertension                      \n",
       "0.0           96.031230   3.968770\n",
       "1.0           86.746988  13.253012"
      ]
     },
     "metadata": {},
     "output_type": "display_data"
    },
    {
     "data": {
      "text/html": [
       "<div>\n",
       "<style scoped>\n",
       "    .dataframe tbody tr th:only-of-type {\n",
       "        vertical-align: middle;\n",
       "    }\n",
       "\n",
       "    .dataframe tbody tr th {\n",
       "        vertical-align: top;\n",
       "    }\n",
       "\n",
       "    .dataframe thead th {\n",
       "        text-align: right;\n",
       "    }\n",
       "</style>\n",
       "<table border=\"1\" class=\"dataframe\">\n",
       "  <thead>\n",
       "    <tr style=\"text-align: right;\">\n",
       "      <th>stroke</th>\n",
       "      <th>False</th>\n",
       "      <th>True</th>\n",
       "    </tr>\n",
       "    <tr>\n",
       "      <th>heart_disease</th>\n",
       "      <th></th>\n",
       "      <th></th>\n",
       "    </tr>\n",
       "  </thead>\n",
       "  <tbody>\n",
       "    <tr>\n",
       "      <th>0.0</th>\n",
       "      <td>95.820401</td>\n",
       "      <td>4.179599</td>\n",
       "    </tr>\n",
       "    <tr>\n",
       "      <th>1.0</th>\n",
       "      <td>82.971014</td>\n",
       "      <td>17.028986</td>\n",
       "    </tr>\n",
       "  </tbody>\n",
       "</table>\n",
       "</div>"
      ],
      "text/plain": [
       "stroke             False      True \n",
       "heart_disease                      \n",
       "0.0            95.820401   4.179599\n",
       "1.0            82.971014  17.028986"
      ]
     },
     "metadata": {},
     "output_type": "display_data"
    },
    {
     "data": {
      "text/html": [
       "<div>\n",
       "<style scoped>\n",
       "    .dataframe tbody tr th:only-of-type {\n",
       "        vertical-align: middle;\n",
       "    }\n",
       "\n",
       "    .dataframe tbody tr th {\n",
       "        vertical-align: top;\n",
       "    }\n",
       "\n",
       "    .dataframe thead th {\n",
       "        text-align: right;\n",
       "    }\n",
       "</style>\n",
       "<table border=\"1\" class=\"dataframe\">\n",
       "  <thead>\n",
       "    <tr style=\"text-align: right;\">\n",
       "      <th>stroke</th>\n",
       "      <th>False</th>\n",
       "      <th>True</th>\n",
       "    </tr>\n",
       "    <tr>\n",
       "      <th>smoking_status</th>\n",
       "      <th></th>\n",
       "      <th></th>\n",
       "    </tr>\n",
       "  </thead>\n",
       "  <tbody>\n",
       "    <tr>\n",
       "      <th>0</th>\n",
       "      <td>96.065574</td>\n",
       "      <td>3.934426</td>\n",
       "    </tr>\n",
       "    <tr>\n",
       "      <th>1</th>\n",
       "      <td>93.762183</td>\n",
       "      <td>6.237817</td>\n",
       "    </tr>\n",
       "    <tr>\n",
       "      <th>2</th>\n",
       "      <td>94.545455</td>\n",
       "      <td>5.454545</td>\n",
       "    </tr>\n",
       "  </tbody>\n",
       "</table>\n",
       "</div>"
      ],
      "text/plain": [
       "stroke              False     True \n",
       "smoking_status                     \n",
       "0               96.065574  3.934426\n",
       "1               93.762183  6.237817\n",
       "2               94.545455  5.454545"
      ]
     },
     "metadata": {},
     "output_type": "display_data"
    },
    {
     "data": {
      "image/png": "[encoded data removed]",
      "text/plain": [
       "<Figure size 360x360 with 1 Axes>"
      ]
     },
     "metadata": {
      "needs_background": "light"
     },
     "output_type": "display_data"
    },
    {
     "data": {
      "image/png": "[encoded data removed]",
      "text/plain": [
       "<Figure size 360x360 with 1 Axes>"
      ]
     },
     "metadata": {
      "needs_background": "light"
     },
     "output_type": "display_data"
    },
    {
     "data": {
      "image/png": "[encoded data removed]",
      "text/plain": [
       "<Figure size 360x360 with 1 Axes>"
      ]
     },
     "metadata": {
      "needs_background": "light"
     },
     "output_type": "display_data"
    }
   ],
   "source": [
    "import matplotlib.ticker as mtick\n",
    "from matplotlib.ticker import PercentFormatter\n",
    "from matplotlib.ticker import FuncFormatter\n",
    "\n",
    "ax1= pd.crosstab([df_imputed['hypertension']],df_imputed.stroke.astype(bool)).apply(lambda r: r/r.sum()*100, axis=1)\n",
    "ax_1 = ax1.plot.bar(figsize=(5,5),stacked=True)\n",
    "\n",
    "for rec in ax_1.patches:\n",
    "    height = rec.get_height()\n",
    "    ax_1.text(rec.get_x() + rec.get_width() / 2, \n",
    "              rec.get_y() + height / 2,\n",
    "              \"{:.0f}%\".format(height),\n",
    "              ha='center', \n",
    "              va='bottom')\n",
    "\n",
    "ax2= pd.crosstab([df_imputed['heart_disease']],df_imputed.stroke.astype(bool)).apply(lambda r: r/r.sum()*100, axis=1)\n",
    "ax_2 = ax2.plot.bar(figsize=(5,5),stacked=True)\n",
    "\n",
    "for rec in ax_2.patches:\n",
    "    height = rec.get_height()\n",
    "    ax_2.text(rec.get_x() + rec.get_width() / 2, \n",
    "              rec.get_y() + height / 2,\n",
    "              \"{:.0f}%\".format(height),\n",
    "              ha='center', \n",
    "              va='bottom')\n",
    "\n",
    "ax3 = pd.crosstab([df_imputed['smoking_status']],df_imputed.stroke.astype(bool)).apply(lambda r: r/r.sum()*100, axis=1)\n",
    "ax_3 = ax3.plot.bar(figsize=(5,5),stacked=True)\n",
    "\n",
    "display(ax1, ax2, ax3)\n",
    "for rec in ax_3.patches:\n",
    "    height = rec.get_height()\n",
    "    ax_3.text(rec.get_x() + rec.get_width() / 2, \n",
    "              rec.get_y() + height / 2,\n",
    "              \"{:.0f}%\".format(height),\n",
    "              ha='center', \n",
    "              va='bottom')"
   ]
  },
  {
   "cell_type": "markdown",
   "metadata": {},
   "source": [
    "By observing the percentages on each chart, we can see how there was about 13% and 17% of individuals with hypertension and heart disease, respectively, who also had a stroke. The values for smoking status are lower - those who formerly smoked have a higher percentage of strokes, whereas those who never smoked or currently smoke have the same percentages of stroke occurrences. Therefore, we can conclude that heart disease was probably the strongest influencing factor for the likelihood of a stroke, compared to the other two health conditions."
   ]
  },
  {
   "cell_type": "markdown",
   "metadata": {},
   "source": [
    "**Question 2: Does the combination of different health conditions indicate a higher likelihood of having a stroke?**\n"
   ]
  },
  {
   "cell_type": "code",
   "execution_count": 22,
   "metadata": {},
   "outputs": [
    {
     "data": {
      "text/html": [
       "<div>\n",
       "<style scoped>\n",
       "    .dataframe tbody tr th:only-of-type {\n",
       "        vertical-align: middle;\n",
       "    }\n",
       "\n",
       "    .dataframe tbody tr th {\n",
       "        vertical-align: top;\n",
       "    }\n",
       "\n",
       "    .dataframe thead th {\n",
       "        text-align: right;\n",
       "    }\n",
       "</style>\n",
       "<table border=\"1\" class=\"dataframe\">\n",
       "  <thead>\n",
       "    <tr style=\"text-align: right;\">\n",
       "      <th></th>\n",
       "      <th>stroke</th>\n",
       "      <th>False</th>\n",
       "      <th>True</th>\n",
       "    </tr>\n",
       "    <tr>\n",
       "      <th>hypertension</th>\n",
       "      <th>heart_disease</th>\n",
       "      <th></th>\n",
       "      <th></th>\n",
       "    </tr>\n",
       "  </thead>\n",
       "  <tbody>\n",
       "    <tr>\n",
       "      <th rowspan=\"2\" valign=\"top\">0.0</th>\n",
       "      <th>0.0</th>\n",
       "      <td>96.612867</td>\n",
       "      <td>3.387133</td>\n",
       "    </tr>\n",
       "    <tr>\n",
       "      <th>1.0</th>\n",
       "      <td>83.962264</td>\n",
       "      <td>16.037736</td>\n",
       "    </tr>\n",
       "    <tr>\n",
       "      <th rowspan=\"2\" valign=\"top\">1.0</th>\n",
       "      <th>0.0</th>\n",
       "      <td>87.788018</td>\n",
       "      <td>12.211982</td>\n",
       "    </tr>\n",
       "    <tr>\n",
       "      <th>1.0</th>\n",
       "      <td>79.687500</td>\n",
       "      <td>20.312500</td>\n",
       "    </tr>\n",
       "  </tbody>\n",
       "</table>\n",
       "</div>"
      ],
      "text/plain": [
       "stroke                          False      True \n",
       "hypertension heart_disease                      \n",
       "0.0          0.0            96.612867   3.387133\n",
       "             1.0            83.962264  16.037736\n",
       "1.0          0.0            87.788018  12.211982\n",
       "             1.0            79.687500  20.312500"
      ]
     },
     "metadata": {},
     "output_type": "display_data"
    },
    {
     "data": {
      "image/png": "[encoded data removed]",
      "text/plain": [
       "<Figure size 720x360 with 1 Axes>"
      ]
     },
     "metadata": {
      "needs_background": "light"
     },
     "output_type": "display_data"
    }
   ],
   "source": [
    "ax1= pd.crosstab([df_imputed['hypertension'], df_imputed['heart_disease']],df_imputed.stroke.astype(bool)).apply(lambda r: r/r.sum()*100, axis=1)\n",
    "ax_1 = ax1.plot.bar(figsize=(10,5),stacked=True)\n",
    "display(ax1)\n",
    "\n",
    "for rec in ax_1.patches:\n",
    "    height = rec.get_height()\n",
    "    ax_1.text(rec.get_x() + rec.get_width() / 2, \n",
    "              rec.get_y() + height / 2,\n",
    "              \"{:.0f}%\".format(height),\n",
    "              ha='center', \n",
    "              va='bottom')\n",
    "    \n",
    "plt.ylabel('Percentage of People')\n",
    "plt.xlabel('(Hypertension, Heart Disease)')\n",
    "\n",
    "plt.show()"
   ]
  },
  {
   "cell_type": "code",
   "execution_count": 23,
   "metadata": {},
   "outputs": [
    {
     "data": {
      "text/html": [
       "<div>\n",
       "<style scoped>\n",
       "    .dataframe tbody tr th:only-of-type {\n",
       "        vertical-align: middle;\n",
       "    }\n",
       "\n",
       "    .dataframe tbody tr th {\n",
       "        vertical-align: top;\n",
       "    }\n",
       "\n",
       "    .dataframe thead th {\n",
       "        text-align: right;\n",
       "    }\n",
       "</style>\n",
       "<table border=\"1\" class=\"dataframe\">\n",
       "  <thead>\n",
       "    <tr style=\"text-align: right;\">\n",
       "      <th></th>\n",
       "      <th>stroke</th>\n",
       "      <th>False</th>\n",
       "      <th>True</th>\n",
       "    </tr>\n",
       "    <tr>\n",
       "      <th>hypertension</th>\n",
       "      <th>smoking_status</th>\n",
       "      <th></th>\n",
       "      <th></th>\n",
       "    </tr>\n",
       "  </thead>\n",
       "  <tbody>\n",
       "    <tr>\n",
       "      <th rowspan=\"3\" valign=\"top\">0.0</th>\n",
       "      <th>0</th>\n",
       "      <td>96.956348</td>\n",
       "      <td>3.043652</td>\n",
       "    </tr>\n",
       "    <tr>\n",
       "      <th>1</th>\n",
       "      <td>94.729242</td>\n",
       "      <td>5.270758</td>\n",
       "    </tr>\n",
       "    <tr>\n",
       "      <th>2</th>\n",
       "      <td>95.336077</td>\n",
       "      <td>4.663923</td>\n",
       "    </tr>\n",
       "    <tr>\n",
       "      <th rowspan=\"3\" valign=\"top\">1.0</th>\n",
       "      <th>0</th>\n",
       "      <td>87.096774</td>\n",
       "      <td>12.903226</td>\n",
       "    </tr>\n",
       "    <tr>\n",
       "      <th>1</th>\n",
       "      <td>85.064935</td>\n",
       "      <td>14.935065</td>\n",
       "    </tr>\n",
       "    <tr>\n",
       "      <th>2</th>\n",
       "      <td>88.541667</td>\n",
       "      <td>11.458333</td>\n",
       "    </tr>\n",
       "  </tbody>\n",
       "</table>\n",
       "</div>"
      ],
      "text/plain": [
       "stroke                           False      True \n",
       "hypertension smoking_status                      \n",
       "0.0          0               96.956348   3.043652\n",
       "             1               94.729242   5.270758\n",
       "             2               95.336077   4.663923\n",
       "1.0          0               87.096774  12.903226\n",
       "             1               85.064935  14.935065\n",
       "             2               88.541667  11.458333"
      ]
     },
     "metadata": {},
     "output_type": "display_data"
    },
    {
     "data": {
      "image/png": "[encoded data removed]",
      "text/plain": [
       "<Figure size 1080x360 with 1 Axes>"
      ]
     },
     "metadata": {
      "needs_background": "light"
     },
     "output_type": "display_data"
    }
   ],
   "source": [
    "ax2= pd.crosstab([df_imputed['hypertension'], df_imputed['smoking_status']],df_imputed.stroke.astype(bool)).apply(lambda r: r/r.sum()*100, axis=1)\n",
    "ax_2 = ax2.plot.bar(figsize=(15,5),stacked=True)\n",
    "display(ax2)\n",
    "\n",
    "for rec in ax_2.patches:\n",
    "    height = rec.get_height()\n",
    "    ax_2.text(rec.get_x() + rec.get_width() / 2, \n",
    "              rec.get_y() + height / 2,\n",
    "              \"{:.0f}%\".format(height),\n",
    "              ha='center', \n",
    "              va='bottom')\n",
    "\n",
    "plt.ylabel('Number of People')\n",
    "plt.xlabel('(Hypertension, Smoking Status)')\n",
    "\n",
    "plt.show()"
   ]
  },
  {
   "cell_type": "code",
   "execution_count": 24,
   "metadata": {},
   "outputs": [
    {
     "data": {
      "text/html": [
       "<div>\n",
       "<style scoped>\n",
       "    .dataframe tbody tr th:only-of-type {\n",
       "        vertical-align: middle;\n",
       "    }\n",
       "\n",
       "    .dataframe tbody tr th {\n",
       "        vertical-align: top;\n",
       "    }\n",
       "\n",
       "    .dataframe thead th {\n",
       "        text-align: right;\n",
       "    }\n",
       "</style>\n",
       "<table border=\"1\" class=\"dataframe\">\n",
       "  <thead>\n",
       "    <tr style=\"text-align: right;\">\n",
       "      <th></th>\n",
       "      <th>stroke</th>\n",
       "      <th>False</th>\n",
       "      <th>True</th>\n",
       "    </tr>\n",
       "    <tr>\n",
       "      <th>heart_disease</th>\n",
       "      <th>smoking_status</th>\n",
       "      <th></th>\n",
       "      <th></th>\n",
       "    </tr>\n",
       "  </thead>\n",
       "  <tbody>\n",
       "    <tr>\n",
       "      <th rowspan=\"3\" valign=\"top\">0.0</th>\n",
       "      <th>0</th>\n",
       "      <td>96.405600</td>\n",
       "      <td>3.594400</td>\n",
       "    </tr>\n",
       "    <tr>\n",
       "      <th>1</th>\n",
       "      <td>94.545455</td>\n",
       "      <td>5.454545</td>\n",
       "    </tr>\n",
       "    <tr>\n",
       "      <th>2</th>\n",
       "      <td>96.184211</td>\n",
       "      <td>3.815789</td>\n",
       "    </tr>\n",
       "    <tr>\n",
       "      <th rowspan=\"3\" valign=\"top\">1.0</th>\n",
       "      <th>0</th>\n",
       "      <td>87.254902</td>\n",
       "      <td>12.745098</td>\n",
       "    </tr>\n",
       "    <tr>\n",
       "      <th>1</th>\n",
       "      <td>83.486239</td>\n",
       "      <td>16.513761</td>\n",
       "    </tr>\n",
       "    <tr>\n",
       "      <th>2</th>\n",
       "      <td>75.384615</td>\n",
       "      <td>24.615385</td>\n",
       "    </tr>\n",
       "  </tbody>\n",
       "</table>\n",
       "</div>"
      ],
      "text/plain": [
       "stroke                            False      True \n",
       "heart_disease smoking_status                      \n",
       "0.0           0               96.405600   3.594400\n",
       "              1               94.545455   5.454545\n",
       "              2               96.184211   3.815789\n",
       "1.0           0               87.254902  12.745098\n",
       "              1               83.486239  16.513761\n",
       "              2               75.384615  24.615385"
      ]
     },
     "metadata": {},
     "output_type": "display_data"
    },
    {
     "data": {
      "image/png": "[encoded data removed]",
      "text/plain": [
       "<Figure size 1080x360 with 1 Axes>"
      ]
     },
     "metadata": {
      "needs_background": "light"
     },
     "output_type": "display_data"
    }
   ],
   "source": [
    "ax3= pd.crosstab([df_imputed['heart_disease'], df_imputed['smoking_status']],df_imputed.stroke.astype(bool)).apply(lambda r: r/r.sum()*100, axis=1)\n",
    "ax_3 = ax3.plot.bar(figsize=(15,5),stacked=True)\n",
    "display(ax3)\n",
    "\n",
    "for rec in ax_3.patches:\n",
    "    height = rec.get_height()\n",
    "    ax_3.text(rec.get_x() + rec.get_width() / 2, \n",
    "              rec.get_y() + height / 2,\n",
    "              \"{:.0f}%\".format(height),\n",
    "              ha='center', \n",
    "              va='bottom')\n",
    "\n",
    "plt.ylabel('Number of People')\n",
    "plt.xlabel('(Heart Disease, Smoking Status)')\n",
    "\n",
    "plt.show()"
   ]
  },
  {
   "cell_type": "markdown",
   "metadata": {},
   "source": [
    "We can see how those with both heart disease and a current smoking habit have the highest percentage of having a stroke (25%) compared to any other combination of health conditions. The second-largest percentage came from those who have hypertension and heart disease, proving how the combination of the two conditions may contribute to a higher chance of having a stroke. It also seems that those with neither hypertension nor heart_disease but have/had smoking habits had fairly low percentages of having a stroke. Those with heart disease and previous/current smoking habits have a greater chance of having a stroke compared to those with hypertension and previous/current smoking habits. We can conclude that those with combinations of diseases generally had a greater chance of having a stroke, with the combination of smoking and heart_disease being the more likely combination for a stroke, followed by hypertension and heart disease."
   ]
  },
  {
   "cell_type": "markdown",
   "metadata": {},
   "source": [
    "**Question 3: What are the best indicators of whether a person will or will not have a stroke?**"
   ]
  },
  {
   "cell_type": "code",
   "execution_count": 25,
   "metadata": {
    "scrolled": true
   },
   "outputs": [
    {
     "data": {
      "image/png": "[encoded data removed]",
      "text/plain": [
       "<Figure size 720x720 with 1 Axes>"
      ]
     },
     "metadata": {
      "needs_background": "light"
     },
     "output_type": "display_data"
    }
   ],
   "source": [
    "con_prob = []\n",
    "\n",
    "dfv = copy.deepcopy(df_imputed)\n",
    "\n",
    "dfv.hypertension.replace(0., \"no hypertension\", inplace=True)\n",
    "dfv.hypertension.replace(1., \"hypertension\", inplace=True)\n",
    "dfv.heart_disease.replace(0., \"no heart disease\", inplace=True)\n",
    "dfv.heart_disease.replace(1., \"heart disease\", inplace=True)\n",
    "dfv.ever_married.replace(\"yes\", \"married\", inplace=True)\n",
    "dfv.ever_married.replace(\"no\", \"never married\", inplace=True)\n",
    "dfv.work_type.replace(\"private\", \"privately employed\", inplace=True)\n",
    "dfv.work_type.replace(\"govt_job\", \"government job\", inplace=True)\n",
    "dfv.work_type.replace(\"never_worked\", \"never worked\", inplace=True)\n",
    "dfv.work_type.replace(\"children\", \"never worked\", inplace=True)\n",
    "dfv.smoking_status.replace(0, \"never smoked\", inplace=True)\n",
    "dfv.smoking_status.replace(1, \"formerly smoked\", inplace=True)\n",
    "dfv.smoking_status.replace(2, \"smokes\", inplace=True)\n",
    "\n",
    "dfv[\"bmi\"] = pd.qcut(dfv[\"bmi\"],3, \n",
    "        labels=[\"low bmi\", \"normal bmi\", \"high bmi\"])\n",
    "dfv[\"avg_glucose_level\"] = pd.qcut(dfv[\"avg_glucose_level\"],3, \n",
    "        labels=[\"low avg glucose level\", \"normal avg glucose level\", \"high avg glucose level\"])\n",
    "dfv[\"age\"] = pd.cut(dfv[\"age\"],bins=[0,2,18,35,55,dfv.age.max()],\n",
    "        labels=[\"baby\",\"child\",\"young adult\",\"adult\",\"elderly\"])\n",
    "\n",
    "cols = [\n",
    "    \"gender\",\n",
    "    \"hypertension\",\n",
    "    \"heart_disease\",\n",
    "    \"ever_married\",\n",
    "    \"work_type\",\n",
    "    \"residence_type\",\n",
    "    \"smoking_status\",\n",
    "    \"bmi\",\n",
    "    \"avg_glucose_level\",\n",
    "    \"age\"\n",
    "]\n",
    "\n",
    "for c in cols:\n",
    "    for v in dfv[c].unique():\n",
    "        p_a_b = len(dfv[(dfv[c] == v) & (dfv[\"stroke\"] == 1.)].index)\n",
    "        p_b   = len(dfv[dfv[c] == v].index)\n",
    "        con_prob.append([c, v, (p_a_b / p_b)])\n",
    "        \n",
    "con_prob = pd.DataFrame(con_prob, columns=['column', 'value', 'probability'])\n",
    "con_prob.sort_values(\"probability\", ascending=False, inplace=True)\n",
    "\n",
    "fig, ax = plt.subplots(figsize = (10,10))\n",
    "ax = sns.barplot(ax=ax, y=\"value\", x=\"probability\", hue=\"column\", dodge=False, ci=None, data=con_prob)"
   ]
  },
  {
   "cell_type": "markdown",
   "metadata": {},
   "source": [
    "Building upon the two previous visuals, we utilized the visual above to explore which attribute(s) are the strongest indicators of having a stroke. According to the visual above, heart disease reflects gives the greatest indication of stroke, with hypertension and being eldery coming in right behind, with conditional probabilities all greater than 12%. It is important to note that, after these three attributes, the probability of the remaining attributes is significantly lower. The next ranked attribute,  being self-employed, reflects a probability of around 8%, a steep 4% drop off from the first three indicators. This visual very clearly displays three attributes with a significantly higher probability of indicating stroke. This data could be very useful in allowing people to monitor their own risk of stroke in a much simpler, easier to follow way, and attempt to avoid the conditions in which a stroke is very likely."
   ]
  },
  {
   "cell_type": "markdown",
   "metadata": {},
   "source": [
    "## Part IV - Exceptional Work"
   ]
  },
  {
   "cell_type": "markdown",
   "metadata": {},
   "source": [
    "### UMAP Dimensionality Reduction Visualization"
   ]
  },
  {
   "cell_type": "code",
   "execution_count": null,
   "metadata": {},
   "outputs": [],
   "source": [
    "import umap\n",
    "from sklearn.preprocessing import StandardScaler\n",
    "\n",
    "df_imputed.ever_married.replace(to_replace= ['no', 'yes'], value = [0, 1], inplace=True)\n",
    "df_imputed.gender.replace(to_replace= ['male', 'female'], value = [0, 1], inplace=True)\n",
    "\n",
    "num_data = df_imputed[\n",
    "    [\n",
    "        \"hypertension\",\n",
    "        \"heart_disease\",\n",
    "        \"stroke\",\n",
    "        \"gender\",\n",
    "        \"ever_married\",\n",
    "        \"smoking_status\",\n",
    "        \"bmi\",\n",
    "        \"avg_glucose_level\",\n",
    "        \"age\",\n",
    "    ]\n",
    "]\n",
    "\n",
    "standard_num_data = StandardScaler().fit_transform(num_data)\n",
    "embedding = umap.UMAP().fit_transform(standard_num_data)\n",
    "embedding"
   ]
  },
  {
   "cell_type": "code",
   "execution_count": null,
   "metadata": {
    "scrolled": false
   },
   "outputs": [],
   "source": [
    "df_imputed.info()\n",
    "\n",
    "df_new = pd.DataFrame(standard_num_data[:,0:3], columns=[\n",
    "        \"hypertension_num\",\n",
    "        \"heart_disease_num\",\n",
    "        \"stroke_num\"\n",
    "])\n",
    "\n",
    "result = pd.concat([df_new, df_imputed[[\n",
    "        \"hypertension\",\n",
    "        \"heart_disease\",\n",
    "        \"stroke\"\n",
    "]]], axis=1)\n",
    "\n",
    "def get_color(array):\n",
    "    string = \"\"\n",
    "    for s in array:\n",
    "        string += str(int(s))\n",
    "    return int(string,2)\n",
    "\n",
    "result['color'] = result[[\n",
    "        \"hypertension\",\n",
    "        \"heart_disease\",\n",
    "        \"stroke\"]].apply(get_color, axis=1)\n",
    "\n",
    "colors = {\n",
    "    'gray': '#C9C9C9',\n",
    "    'red': '#FF0000', \n",
    "    'green': '#00FF00', \n",
    "    'yellow': '#FFFF00',\n",
    "    'blue': '#0000FF',\n",
    "    'purple': '#FF00FF',\n",
    "    'cyan': '#00FFFF',\n",
    "    'black': '#000000'\n",
    "}\n",
    "\n",
    "chart_colors = [\n",
    "    colors['gray'],   # healthy\n",
    "    colors['red'],    # stroke\n",
    "    colors['green'],  # heart_disease\n",
    "    colors['yellow'], # stroke and heart_disease\n",
    "    colors['blue'],   # hypertension\n",
    "    colors['purple'], # hypertension and stroke\n",
    "    colors['cyan'],   # hypertension and heart_disease\n",
    "    colors['black']   # all three\n",
    "]\n",
    "\n",
    "plt.scatter(\n",
    "    embedding[:, 0],\n",
    "    embedding[:, 1],\n",
    "    c=[chart_colors[x] for x in result.color]\n",
    ")"
   ]
  },
  {
   "cell_type": "markdown",
   "metadata": {},
   "source": [
    "The clusters reported in the resulting UMAP from our dataset represent the datapoints projected onto a 2-dimensional plane. The reduced components used to represent and group these datapoints are an individual's history of hypertension, stroke, and heart disease, the individual's gender, whether they have ever been married, their smoking status, body mass index, average glucose level, and finally, their age. "
   ]
  },
  {
   "cell_type": "markdown",
   "metadata": {},
   "source": [
    "The UMAP is colored according to whether the individual has had a stroke, heart disease, hypertension, or any combination of the three. We discovered, through trial and error, that these factors are the most highly clustered attributes in the data set. Thus, we see clusters represented by the same reduced component very close together on the UMAP. However, we see combinations of these components, like hypertension and heart disease, plotted farther away from one of the parent components, like hypertension, than would be hypothesized. This distance is explained by the other attributes stored in each datapoint; individuals with both hypertension and heart disease have more similar remaining attributes than individuals with just hypertension. In contrast, it seems that all individuals with heart disease and a stroke in their history are grouped very tightly together, regardless of whether they have had hypertension or not."
   ]
  },
  {
   "cell_type": "markdown",
   "metadata": {},
   "source": [
    "Other factors did seem to have some influence on the clustering (gender and marriage status more than most others), however we found that coloring the clusters based on their history of these three medical conditions was by far the clearest outline of how the clusters were separated, while also being the most pertinent information in the dataset."
   ]
  },
  {
   "cell_type": "markdown",
   "metadata": {},
   "source": [
    "### Explanation of UMAP dimensionality reduction methods"
   ]
  },
  {
   "cell_type": "markdown",
   "metadata": {},
   "source": [
    "One of the main problems in Machine Learning is that having a large number of features makes training algorithms slow and makes it difficult to find a good solution. This is known as the curse of dimensionality and the Dimensionality Reduction is the concept of reducing the number of features to the most relevant ones. UMAP is very effective for visualizing clusters or groups of data points, and is defined as a nonlinear dimensionality reduction method. It is based on manifold learning techniques and ideas from topological data analysis. The UMAP algorithm consists of first constructing a fuzzy topological representation, which captures the topology of the manifold underlying the data. This is performed by computing the (approximate) nearest neighbors efficiently, even in high dimensional spaces, which can be done using the Nearest-Neighbor-Descent algorithm of Dong et al. The remaining computations only deal with local neighbors of each point and are thus more efficient. The second part of the algorithm involves optimizing the low dimensional representation to have as close a fuzzy topological representation as possible. The stochastic gradient descent can be used for this optimization process. These essential parts of the algorithm allow us to create a fast and scalable dimensionality reduction method like UMAP."
   ]
  },
  {
   "cell_type": "markdown",
   "metadata": {},
   "source": [
    "Sources: \n",
    "https://umap-learn.readthedocs.io/en/latest/how_umap_works.html\n",
    "https://towardsdatascience.com/dimensionality-reduction-for-data-visualization-pca-vs-tsne-vs-umap-be4aa7b1cb29"
   ]
  }
 ],
 "metadata": {
  "kernelspec": {
   "display_name": "Python 3",
   "language": "python",
   "name": "python3"
  },
  "language_info": {
   "codemirror_mode": {
    "name": "ipython",
    "version": 3
   },
   "file_extension": ".py",
   "mimetype": "text/x-python",
   "name": "python",
   "nbconvert_exporter": "python",
   "pygments_lexer": "ipython3",
   "version": "3.7.9"
  }
 },
 "nbformat": 4,
 "nbformat_minor": 4
}
