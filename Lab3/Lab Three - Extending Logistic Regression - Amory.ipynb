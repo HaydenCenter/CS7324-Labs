{
 "cells": [
  {
   "cell_type": "markdown",
   "metadata": {},
   "source": [
    "# Lab Three - Extending Logistic Regression"
   ]
  },
  {
   "cell_type": "markdown",
   "metadata": {},
   "source": [
    "In this lab, you will compare the performance of logistic regression optimization programmed in scikit-learn and via your own implementation. You will also modify the optimization procedure for logistic regression. \n",
    "\n",
    "This report is worth 10% of the final grade. Please upload a report (<b>one per team</b>) with all code used, visualizations, and text in a rendered Jupyter notebook. Any visualizations that cannot be embedded in the notebook, please provide screenshots of the output. The results should be reproducible using your report. Please carefully describe every assumption and every step in your report."
   ]
  },
  {
   "cell_type": "markdown",
   "metadata": {},
   "source": [
    "<b>Dataset Selection</b>\n",
    "\n",
    "Select a dataset identically to the way you selected for the lab one (i.e., table data). You are not required to use the same dataset that you used in the past, but you are encouraged. You must identify a classification task from the dataset that contains <b>three or more classes to predict</b>. That is it cannot be a binary classification; it must be multi-class prediction. "
   ]
  },
  {
   "cell_type": "markdown",
   "metadata": {},
   "source": [
    "## Preparation and Overview (3pt)"
   ]
  },
  {
   "cell_type": "markdown",
   "metadata": {},
   "source": [
    "<ul>\n",
    "    <li>[<b>2 points</b>] Explain the task and what business-case or use-case it is designed to solve (or designed to investigate). Detail exactly what the classification task is and what parties would be interested in the results. For example, would the model be deployed or used mostly for offline analysis? </li>\n",
    "    <li>[<b>.5 points</b>] (<i>mostly the same processes as from previous labs</i>) Define and prepare your class variables. Use proper variable representations (int, float, one-hot, etc.). Use pre-processing methods (as needed) for dimensionality reduction, scaling, etc. Remove variables that are not needed/useful for the analysis. Describe the final dataset that is used for classification/regression (include a description of any newly formed variables you created). </li>\n",
    "    <li>[<b>.5 points</b>] Divide you data into training and testing data using an 80% training and 20% testing split. Use the cross validation modules that are part of scikit-learn. <b>Argue \"for\" or \"against\" splitting your data using an 80/20 split. That is, why is the 80/20 split appropriate (or not) for your dataset?</b></li>\n",
    "</ul>"
   ]
  },
  {
   "cell_type": "markdown",
   "metadata": {},
   "source": [
    "### Use Case\n",
    "\n",
    "Our task will be looking at a patients information and determining whether they are likely to have a stroke, heart disease, or hypertension. The use-case for this classifier would be to flag at-risk patients and enable some kind of response to be made to prevent serious medical emergencies that these conditions might cause or prevent the conditions in the first place.\n",
    "\n",
    "For example, if a person were to be flagged as very likely to have a stroke, the doctor could contact the patient in an attempt to prevent the stroke by prescribing them medication or alerting the patient's family to monitor them in case they were to have a stroke. Similar actions could be taken for hypertension and heart disease.\n",
    "\n",
    "Alernatively, some kind of application could be made to allow people to enter their information and determine how at risk they might be for these conditions, giving people more clear information about their health and the issues that are likely to affect them."
   ]
  },
  {
   "cell_type": "code",
   "execution_count": null,
   "metadata": {},
   "outputs": [],
   "source": [
    "# Importing packages and reading in dataset\n",
    "import numpy as np\n",
    "import pandas as pd\n",
    "\n",
    "print('Pandas:', pd.__version__)\n",
    "print('Numpy:',  np.__version__)\n",
    "\n",
    "raw_data = pd.read_csv('healthcare-dataset-stroke-data.csv')\n",
    "raw_data.head()"
   ]
  },
  {
   "cell_type": "code",
   "execution_count": null,
   "metadata": {},
   "outputs": [],
   "source": [
    "# Dropping categorical column 'work_type'; not very useful and\n",
    "# doesn't translate nicely into ordinal numbers\n",
    "df = raw_data.drop('work_type', axis = 1)\n",
    "\n",
    "# Dropping 1 observation of person with gender 'Other' to simplify\n",
    "# using the gender column to calculate, impute, or visualize\n",
    "df.drop(df[df.gender == 'Other'].index, inplace=True)\n",
    "\n",
    "# Making values' format consistent\n",
    "for c in df.columns:\n",
    "    if df[c].dtype == 'object':\n",
    "        df[c] = df[c].str.lower()\n",
    "\n",
    "# Adding numbers to smoking_status values to order them properly\n",
    "# when they will get passed through the SKLearn LabelEncoder\n",
    "df.smoking_status.replace(to_replace= ['never smoked', 'formerly smoked', 'smokes', 'Unknown'],\n",
    "                          value     = ['0_never_smoked', '1_formerly_smoked', '2_smokes', '3_Unknown'],\n",
    "                          inplace=True)"
   ]
  },
  {
   "cell_type": "code",
   "execution_count": null,
   "metadata": {},
   "outputs": [],
   "source": [
    "from sklearn.preprocessing import LabelEncoder\n",
    "\n",
    "# Encoding all of the non-numeric columns\n",
    "le = {}\n",
    "\n",
    "for col in df.columns:\n",
    "    if df[col].dtype == 'object':\n",
    "        le[col] = LabelEncoder()\n",
    "        df[col] = le[col].fit_transform(df[col])\n",
    "\n",
    "# Call le[col].inverse_transform(df[col]) for any column name\n",
    "# to convert numbers back to their labels\n",
    "\n",
    "# Converting all 'Unknown' values in smoking status to NaN so\n",
    "# that we can impute the missing values.\n",
    "df.smoking_status.mask(df.smoking_status == 3, np.nan, inplace=True)\n",
    "               \n",
    "df.head()"
   ]
  },
  {
   "cell_type": "code",
   "execution_count": null,
   "metadata": {},
   "outputs": [],
   "source": [
    "# Imputing missing values\n",
    "from sklearn.impute import KNNImputer\n",
    "import copy\n",
    "\n",
    "knn = KNNImputer(n_neighbors=3)\n",
    "\n",
    "# Imputing on all columns except id\n",
    "columns = list(df.columns)\n",
    "columns.remove('id')\n",
    "\n",
    "df_imputed = copy.deepcopy(df)\n",
    "df_imputed[columns] = knn.fit_transform(df[columns])\n",
    "\n",
    "# Rounding imputed values to be compatible with LabelEncoder\n",
    "# for smoking_status and to match the format of other values\n",
    "# for bmi\n",
    "df_imputed.smoking_status = df_imputed.smoking_status.apply(lambda x: round(x, 0))\n",
    "df_imputed.bmi = df_imputed.bmi.apply(lambda x: round(x, 1))"
   ]
  },
  {
   "cell_type": "code",
   "execution_count": null,
   "metadata": {},
   "outputs": [],
   "source": [
    "# Using df_imputed as the primary dataset\n",
    "df = df_imputed\n",
    "\n",
    "# Changing columns modified by KNN Imputer back to integers from floats\n",
    "columns = [\n",
    "    'gender',\n",
    "    'hypertension',\n",
    "    'heart_disease',\n",
    "    'ever_married',\n",
    "    'residence_type',\n",
    "    'smoking_status',\n",
    "    'stroke'\n",
    "]\n",
    "\n",
    "for col in columns:\n",
    "    df[col] = df[col].astype(int)"
   ]
  },
  {
   "cell_type": "markdown",
   "metadata": {},
   "source": [
    "To prep this dataset, one attribute was removed due to it being relatively unimportant and not encoding nicely into an ordinal set of integers. All categorical variables were converted to numeric data using SKLearn's LabelEncoder class. Missing values for bmi and smoking_status were imputed using KNN Imputer. One record was dropped for being the only entry with gender 'Other'. Removing this record will make visualizing the gender data simpler and will have little impact on the training, as having an outlier like that might cause other attributes to be slightly undervalued in comparison."
   ]
  },
  {
   "cell_type": "markdown",
   "metadata": {},
   "source": [
    "Here is a table of the LabelEncoder encoded variables.\n",
    "\n",
    "| value | gender | ever_married | residence_type | smoking_status    |\n",
    "|-------|--------|--------------|----------------|-------------------|\n",
    "| 0     | female | no           | rural          | 0_never_smoked    |\n",
    "| 1     | male   | yes          | urban          | 1_formerly_smoked |\n",
    "| 2     |   -    |      -       |       -        | 2_smokes          |\n"
   ]
  },
  {
   "cell_type": "code",
   "execution_count": null,
   "metadata": {},
   "outputs": [],
   "source": [
    "df.head()"
   ]
  },
  {
   "cell_type": "code",
   "execution_count": null,
   "metadata": {},
   "outputs": [],
   "source": [
    "# THIS IS NOT FINAL, LOOKING INTO CROSS VALIDATION AS METHOD\n",
    "\n",
    "from sklearn.model_selection import cross_validate\n",
    "# from sklearn.linear_model import LogisticRegression\n",
    "\n",
    "columns = list(df.columns).remove('id')\n",
    "X = df\n",
    "y = df[\"stroke\"]\n",
    "y\n",
    "# y = df[[\"stroke\", \"heart_disease\", \"hypertension\"]]\n",
    "\n",
    "# clf = LogisticRegression(solver='liblinear')\n",
    "# scores = cross_validate(clf, X, y, scoring=scoring)\n",
    "# sorted(scores.keys())"
   ]
  },
  {
   "cell_type": "markdown",
   "metadata": {},
   "source": [
    "## Modeling (5pt)"
   ]
  },
  {
   "cell_type": "markdown",
   "metadata": {},
   "source": [
    "<ul>\n",
    "    <li>The implementation of logistic regression must be written only from the examples given to you by the instructor. No credit will be assigned to teams that copy implementations from another source, regardless of if the code is properly cited.</li>\n",
    "    <li>[<b>2 points</b>] Create a custom, one-versus-all logistic regression classifier using numpy and scipy to optimize. Use object oriented conventions identical to scikit-learn. You should start with the template developed by the instructor in the course. You should add the following functionality to the logistic regression classifier:\n",
    "    <ul>\n",
    "        <li>Ability to choose optimization technique when class is instantiated: either steepest descent, stochastic gradient descent, or Newton's method. </li>\n",
    "        <li>Update the gradient calculation to include a customizable regularization term (either using no regularization, L1 regularization, L2 regularization, or both L1 and L2 regularization). Associate a cost with the regularization term, \"C\", that can be adjusted when the class is instantiated.  </li>\n",
    "    </ul>\n",
    "    </li>\n",
    "    <li>[<b>1.5 points</b>] Train your classifier to achieve good generalization performance. That is, adjust the <b>optimization technique</b> and the value of the <b>regularization term \"C\"</b> to achieve the best performance on your test set. Visualize the performance of the classifier versus the parameters you investigated. Is your method of selecting parameters justified? That is, do you think there is any \"data snooping\" involved with this method of selecting parameters?</li>\n",
    "    <li>[<b>1.5 points</b>] Compare the performance of your \"best\" logistic regression optimization procedure to the procedure used in scikit-learn. Visualize the performance differences in terms of training time and classification performance. <b>Discuss the results</b>. </li>\n",
    "</ul>"
   ]
  },
  {
   "cell_type": "code",
   "execution_count": null,
   "metadata": {},
   "outputs": [],
   "source": [
    "class BinaryLogisticRegressionBase:\n",
    "    # private:\n",
    "    def __init__(self, optimization='bgd', eta = 0.01, iterations=20, regularization='ridge', c=0):\n",
    "        self.eta = eta\n",
    "        self.iters = iterations\n",
    "        self.opt = optimization\n",
    "        self.reg = regularization\n",
    "        self.c = c\n",
    "        # internally we will store the weights as self.w_ to keep with sklearn conventions\n",
    "    \n",
    "    def __str__(self):\n",
    "        return 'Base Binary Logistic Regression Object, Not Trainable'\n",
    "    \n",
    "    # convenience, private and static:\n",
    "    @staticmethod\n",
    "    def _sigmoid(theta):\n",
    "        return 1/(1+np.exp(-theta)) \n",
    "    \n",
    "    @staticmethod\n",
    "    def _add_bias(X):\n",
    "        return np.hstack((np.ones((X.shape[0],1)),X)) # add bias term\n",
    "    \n",
    "    # public:\n",
    "    def predict_proba(self,X,add_bias=True):\n",
    "        # add bias term if requested\n",
    "        Xb = self._add_bias(X) if add_bias else X\n",
    "        return self._sigmoid(Xb @ self.w_) # return the probability y=1\n",
    "    \n",
    "    def predict(self,X):\n",
    "        return (self.predict_proba(X)>0.5) #return the actual prediction\n",
    "    "
   ]
  },
  {
   "cell_type": "code",
   "execution_count": null,
   "metadata": {},
   "outputs": [],
   "source": [
    "class BinaryLogisticRegression(BinaryLogisticRegressionBase):\n",
    "    #private:\n",
    "    def __str__(self):\n",
    "        if(hasattr(self,'w_')):\n",
    "            return 'Binary Logistic Regression Object with coefficients:\\n'+ str(self.w_) # is we have trained the object\n",
    "        else:\n",
    "            return 'Untrained Binary Logistic Regression Object'\n",
    "        \n",
    "    #optimization methods\n",
    "    def _get_gradient(self, X, y):\n",
    "        \n",
    "        gradient = None\n",
    "        if self.opt == 'bgd': gradient = self.batch_gradient_descent\n",
    "        elif self.opt == 'sgd': gradient = self.stochastic_gradient_descent\n",
    "        elif self.opt == 'newton': gradient = self.newton\n",
    "        elif self.opt == 'hessian': gradient = self.hessian\n",
    "            \n",
    "        return gradient(X,y)\n",
    "    \n",
    "    def batch_gradient_descent(self,X,y):\n",
    "        ydiff = y-self.predict_proba(X,add_bias=False).ravel() # get y difference\n",
    "        gradient = np.mean(X * ydiff[:,np.newaxis], axis=0) # make ydiff a column vector and multiply through\n",
    "        gradient = gradient.reshape(self.w_.shape)\n",
    "        gradient[1:] += self.c * self._get_reg_gradient()\n",
    "        \n",
    "        return gradient\n",
    "    \n",
    "    def stochastic_gradient_descent(self,X,y):\n",
    "       # idx = int(np.random.rand()*len(y)) # grab random instance\\\n",
    "        idx = np.random.randint(len(y))\n",
    "        ydiff = y[idx]-self.predict_proba(X[idx],add_bias=False) # get y difference (now scalar)\n",
    "        gradient = X[idx] * ydiff[:,np.newaxis] # make ydiff a column vector and multiply through\n",
    "        \n",
    "        gradient = gradient.reshape(self.w_.shape)\n",
    "        gradient[1:] += self.c * self._get_reg_gradient()\n",
    "        \n",
    "        return gradient\n",
    "    \n",
    "    def newton(self,X,y):\n",
    "        sigmoid_z = (sigma1*X + sigma2).astype(\"float_\")\n",
    "        sigmoid = 1.0/(1.0 + np.exp(-z))\n",
    "        return np.sum(y * np.log(sigmoid) + (1 - y) * np.log(1 - sigmoid))\n",
    "    \n",
    "    def hessian(self, X, y):\n",
    "        g = self.predict_proba(X,add_bias=False).ravel() # get sigmoid value for all classes\n",
    "        hessian = X.T @ np.diag(g*(1-g)) @ X - 2 * self.c  # calculate the hessian\n",
    "\n",
    "        ydiff = y-g # get y difference\n",
    "        gradient = np.sum(X * ydiff[:,np.newaxis], axis=0) # make ydiff a column vector and multiply through\n",
    "        gradient = gradient.reshape(self.w_.shape)\n",
    "        gradient[1:] +=  self._get_reg_gradient()\n",
    "        \n",
    "        return pinv(hessian) @ gradient\n",
    "    \n",
    "    @staticmethod\n",
    "    def _sigmoid(theta):\n",
    "        # increase stability, redefine sigmoid operation\n",
    "        return expit(theta) #1/(1+np.exp(-theta))\n",
    "    \n",
    "    #regularization methods\n",
    "    def _get_reg_gradient(self):\n",
    "        if self.reg == 'ridge': return -2 * self.w_[1:]\n",
    "        elif self.reg == 'lasso': return np.sign(self.w_[1:])\n",
    "        elif self.reg == 'elastic_net': return -2 * self.w_[1:] + np.sign(self.w_[1:])\n",
    "    \n",
    "    # public:\n",
    "    def fit(self, X, y):\n",
    "        Xb = self._add_bias(X) # add bias term\n",
    "        num_samples, num_features = Xb.shape\n",
    "        \n",
    "        self.w_ = np.zeros((num_features,1)) # init weight vector to zeros\n",
    "        \n",
    "        # for as many as the max iterations\n",
    "        for _ in range(self.iters):\n",
    "            gradient = self._get_gradient(Xb,y)\n",
    "            self.w_ += gradient*self.eta # multiply by learning rate "
   ]
  },
  {
   "cell_type": "code",
   "execution_count": null,
   "metadata": {},
   "outputs": [],
   "source": [
    "class StochasticLogisticRegression(BinaryLogisticRegression):\n",
    "    # stochastic gradient calculation \n",
    "    def _get_gradient(self,X,y):\n",
    "        idx = int(np.random.rand()*len(y)) # grab random instance\n",
    "        ydiff = y[idx]-self.predict_proba(X[idx],add_bias=False) # get y difference (now scalar)\n",
    "        gradient = X[idx] * ydiff[:,np.newaxis] # make ydiff a column vector and multiply through\n",
    "        \n",
    "        gradient = gradient.reshape(self.w_.shape)\n",
    "        gradient[1:] += -2 * self.w_[1:] * self.C\n",
    "        \n",
    "        return gradient"
   ]
  },
  {
   "cell_type": "code",
   "execution_count": null,
   "metadata": {},
   "outputs": [],
   "source": [
    "from numpy.linalg import pinv\n",
    "class HessianBinaryLogisticRegression(BinaryLogisticRegression):\n",
    "    # just overwrite gradient function\n",
    "    def _get_gradient(self,X,y):\n",
    "        g = self.predict_proba(X,add_bias=False).ravel() # get sigmoid value for all classes\n",
    "        hessian = X.T @ np.diag(g*(1-g)) @ X - 2 * self.C # calculate the hessian\n",
    "\n",
    "        ydiff = y-g # get y difference\n",
    "        gradient = np.sum(X * ydiff[:,np.newaxis], axis=0) # make ydiff a column vector and multiply through\n",
    "        gradient = gradient.reshape(self.w_.shape)\n",
    "        gradient[1:] += -2 * self.w_[1:] * self.C\n",
    "        \n",
    "        return pinv(hessian) @ gradient"
   ]
  },
  {
   "cell_type": "code",
   "execution_count": null,
   "metadata": {},
   "outputs": [],
   "source": [
    "from scipy.special import expit\n",
    "class VectorBinaryLogisticRegression(BinaryLogisticRegression):\n",
    "    # inherit from our previous class to get same functionality\n",
    "    @staticmethod\n",
    "    def _sigmoid(theta):\n",
    "        # increase stability, redefine sigmoid operation\n",
    "        return expit(theta) #1/(1+np.exp(-theta))\n",
    "    \n",
    "    # but overwrite the gradient calculation\n",
    "    def _get_gradient(self,X,y):\n",
    "        ydiff = y-self.predict_proba(X,add_bias=False).ravel() # get y difference\n",
    "        gradient = np.mean(X * ydiff[:,np.newaxis], axis=0) # make ydiff a column vector and multiply through\n",
    "        \n",
    "        return gradient.reshape(self.w_.shape)"
   ]
  },
  {
   "cell_type": "markdown",
   "metadata": {},
   "source": [
    "# Logisitic Regression Class"
   ]
  },
  {
   "cell_type": "code",
   "execution_count": null,
   "metadata": {},
   "outputs": [],
   "source": [
    "class LogisticRegression:\n",
    "    \n",
    "    def __init__(self, optimization='bgd', eta = 0.01, iterations=20, regularization='ridge', c=0):\n",
    "    \n",
    "        self.eta = eta\n",
    "        self.iters = iterations\n",
    "        self.opt = optimization\n",
    "        self.reg = regularization\n",
    "        self.encodings = {}\n",
    "        self.c = c\n",
    "        \n",
    "    \n",
    "    def __str__(self):\n",
    "        if(hasattr(self,'w_')):\n",
    "            return 'MultiClass Logistic Regression Object with coefficients:\\n'+ str(self.w_) # is we have trained the object\n",
    "        else:\n",
    "            return 'Untrained MultiClass Logistic Regression Object'\n",
    "    \n",
    "    def fit(self,X,y):\n",
    "        num_samples, num_features = X.shape\n",
    "        self.unique_ = np.unique(y) # get each unique class value\n",
    "        num_unique_classes = len(self.unique_)\n",
    "        self.classifiers_ = [] # will fill this array with binary classifiers\n",
    "        \n",
    "        for i,yval in enumerate(self.unique_): # for each unique value\n",
    "            self.encodings[yval] = i\n",
    "            y_binary = (y==yval) # create a binary problem\n",
    "            # train the binary classifier for this class\n",
    "            blr = BinaryLogisticRegression(self.opt, self.eta, self.iters, self.reg, self.c )\n",
    "            blr.fit(X,y_binary)\n",
    "            # add the trained classifier to the list\n",
    "            self.classifiers_.append(blr)\n",
    "            \n",
    "        # save all the weights into one matrix, separate column for each class\n",
    "        self.w_ = np.hstack([x.w_ for x in self.classifiers_]).T\n",
    "        \n",
    "    def predict_proba(self,X):\n",
    "        probs = []\n",
    "        for blr in self.classifiers_:\n",
    "            probs.append(blr.predict_proba(X)) # get probability for each classifier\n",
    "        \n",
    "        return np.hstack(probs) # make into single matrix\n",
    "    \n",
    "    def predict(self,X):\n",
    "        return np.argmax(self.predict_proba(X),axis=1) # take argmax along row\n",
    "    \n",
    "    \n",
    "lr = LogisticRegression('bgd',0.01, 100, 'ridge')\n",
    "print(lr)"
   ]
  },
  {
   "cell_type": "code",
   "execution_count": null,
   "metadata": {},
   "outputs": [],
   "source": [
    "df_temp = df\n",
    "X_ = pd.get_dummies(df_temp.drop(['stroke'],axis=1))\n",
    "X_"
   ]
  },
  {
   "cell_type": "code",
   "execution_count": null,
   "metadata": {},
   "outputs": [],
   "source": [
    "from sklearn.model_selection import train_test_split\n",
    "\n",
    "X_train, X_test, y_train, y_test = train_test_split(X_, y, test_size=.20, random_state=42)\n",
    "X_train = X_train.to_numpy()\n",
    "X_test = X_test.to_numpy()\n",
    "y_train = y_train.to_numpy()\n",
    "y_test = y_test.to_numpy()"
   ]
  },
  {
   "cell_type": "code",
   "execution_count": null,
   "metadata": {},
   "outputs": [],
   "source": [
    "from sklearn.metrics import accuracy_score\n",
    "lr = LogisticRegression(optimization='bgd',eta=0.1, regularization='ridge', iterations=10)\n",
    "lr.fit(X_train, y_train)\n",
    "print(lr)\n",
    "yhat = lr.predict(X_train)\n",
    "print(\"Accuracy of Training Dataset (10 iterations): \", accuracy_score(y_train,yhat))"
   ]
  },
  {
   "cell_type": "code",
   "execution_count": null,
   "metadata": {},
   "outputs": [],
   "source": [
    "#can we do better with more iterations?\n",
    "lr = LogisticRegression(optimization='bgd',eta=0.1, regularization='ridge', iterations=499)\n",
    "lr.fit(X_train, y_train)\n",
    "print(lr)\n",
    "yhat = lr.predict(X_train)\n",
    "print(\"Accuracy of Training Dataset (499 iterations): \", accuracy_score(y_train,yhat))"
   ]
  },
  {
   "cell_type": "code",
   "execution_count": null,
   "metadata": {},
   "outputs": [],
   "source": [
    "lr = LogisticRegression(optimization='bgd',eta=0.1, regularization='ridge', iterations=500)\n",
    "lr.fit(X_test, y_test)\n",
    "print(lr)\n",
    "yhat = lr.predict(X_test)\n",
    "encode = lambda x: lr.encodings[x]\n",
    "y_test_encode = np.array(list(map(encode, y_test)))\n",
    "test_ = accuracy_score(y_test_encode, yhat)\n",
    "print(\"Accuracy of Testing Dataset (500 iterations): \", test_)"
   ]
  },
  {
   "cell_type": "code",
   "execution_count": null,
   "metadata": {},
   "outputs": [],
   "source": [
    "eVals = [0.000001, 0.00001, 0.0001, 0.001, 0.01, 0.1]\n",
    "optimizations = [\"bgd\", \"sgd\", \"hessian\"]\n",
    "regularizations = [\"ridge\", \"lasso\", \"elastic_net\"]\n",
    "results = []\n",
    "\n",
    "for e in eVals:\n",
    "    print(\"Eta: \", e, \", Optimization: \", optimizations[0])\n",
    "    lr = LogisticRegression(optimization='bgd',eta=e, regularization='ridge', iterations=499)\n",
    "    lr.fit(X_train, y_train)\n",
    "    yhat = lr.predict(X_train)\n",
    "    encode = lambda x: lr.encodings[x]\n",
    "    y_train_encode = np.array(list(map(encode, y_train)))\n",
    "    train = accuracy_score(y_train_encode, yhat)\n",
    "    print(\"Training: {}, regularization: {}\".format(train, \"ridge\"))\n",
    "    results.append([train,e,\"bgd\",\"ridge\"])\n",
    "    \n",
    "    lr = LogisticRegression(optimization='bgd',eta=e, regularization='lasso', iterations=499)\n",
    "    lr.fit(X_train, y_train)\n",
    "    pred = lr.predict(X_train)\n",
    "    encode = lambda x: lr.encodings[x]\n",
    "    y_train_encode = np.array(list(map(encode, y_train)))\n",
    "    train = accuracy_score(y_train_encode, pred)\n",
    "    print(\"Training: {}, regularization: {}\".format(train,\"lasso\"))\n",
    "    results.append([train,e,\"bgd\",\"lasso\"])\n",
    "    \n",
    "    lr = LogisticRegression(optimization='bgd',eta=e, regularization='elastic_net', iterations=499)\n",
    "    lr.fit(X_train, y_train)\n",
    "    pred = lr.predict(X_train)\n",
    "    encode = lambda x: lr.encodings[x]\n",
    "    y_train_encode = np.array(list(map(encode, y_train)))\n",
    "    train = accuracy_score(y_train_encode, pred)\n",
    "    print(\"Training: {}, regularization: {}\".format(train,\"elastic_net\"))\n",
    "    results.append([train,e,\"bgd\",\"elastic_net\"])\n",
    "    print(\"\\n\")\n",
    "    \n",
    "    print(\"Eta: \", e, \", Optimization: \", optimizations[1])\n",
    "    lr = LogisticRegression(optimization='sgd',eta=e, regularization='ridge', iterations=499)\n",
    "    lr.fit(X_train, y_train)\n",
    "    yhat = lr.predict(X_train)\n",
    "    encode = lambda x: lr.encodings[x]\n",
    "    y_train_encode = np.array(list(map(encode, y_train)))\n",
    "    train = accuracy_score(y_train_encode, yhat)\n",
    "    print(\"Training: {}, regularization: {}\".format(train, \"ridge\"))\n",
    "    results.append([train,e,\"bgd\",\"ridge\"])\n",
    "    \n",
    "    lr = LogisticRegression(optimization='sgd',eta=e, regularization='lasso', iterations=499)\n",
    "    lr.fit(X_train, y_train)\n",
    "    pred = lr.predict(X_train)\n",
    "    encode = lambda x: lr.encodings[x]\n",
    "    y_train_encode = np.array(list(map(encode, y_train)))\n",
    "    train = accuracy_score(y_train_encode, pred)\n",
    "    print(\"Training: {}, regularization: {}\".format(train,\"lasso\"))\n",
    "    results.append([train,e,\"bgd\",\"lasso\"])\n",
    "    \n",
    "    lr = LogisticRegression(optimization='sgd',eta=e, regularization='elastic_net', iterations=499)\n",
    "    lr.fit(X_train, y_train)\n",
    "    pred = lr.predict(X_train)\n",
    "    encode = lambda x: lr.encodings[x]\n",
    "    y_train_encode = np.array(list(map(encode, y_train)))\n",
    "    train = accuracy_score(y_train_encode, pred)\n",
    "    print(\"Training: {}, regularization: {}\".format(train,\"elastic_net\"))\n",
    "    results.append([train,e,\"bgd\",\"elastic_net\"])\n",
    "    print(\"\\n\")"
   ]
  },
  {
   "cell_type": "markdown",
   "metadata": {},
   "source": [
    "## Deployment (1pt)"
   ]
  },
  {
   "cell_type": "code",
   "execution_count": null,
   "metadata": {},
   "outputs": [],
   "source": []
  },
  {
   "cell_type": "markdown",
   "metadata": {},
   "source": [
    "<ul>\n",
    "    <li>Which implementation of logistic regression would you advise be used in a deployed machine learning model, your implementation or scikit-learn (or other third party)? Why?</li>\n",
    "</ul>"
   ]
  },
  {
   "cell_type": "code",
   "execution_count": null,
   "metadata": {},
   "outputs": [],
   "source": []
  },
  {
   "cell_type": "markdown",
   "metadata": {},
   "source": [
    "## Exceptional Work (1pt)"
   ]
  },
  {
   "cell_type": "markdown",
   "metadata": {},
   "source": [
    "<ul>\n",
    "    <li>You have free reign to provide additional analyses. <b>One idea</b>: Update the code to use either \"one-versus-all\" or \"one-versus-one\" extensions of binary to multi-class classification. </li>\n",
    "    <li><b>Required for 7000 level students</b>: Choose ONE of the following:\n",
    "    <ul>\n",
    "        <li><b>Option One</b>: Implement an optimization technique for logistic regression using <b>mean square error</b> as your objective function (instead of binary cross entropy). Derive the gradient updates for the Hessian and use Newton's method to update the values of \"w\". Then answer, is this process better than using binary cross entropy? </li>\n",
    "        <li><b>Option Two</b>: Implement the BFGS algorithm from scratch to optimize logistic regression. That is, use BFGS without the use of an external package (for example, do not use SciPy). Compare your performance accuracy and runtime to the BFGS implementation in SciPy (that we used in lecture). </li>\n",
    "    </ul>\n",
    "    </li>\n",
    "</ul>"
   ]
  },
  {
   "cell_type": "code",
   "execution_count": null,
   "metadata": {},
   "outputs": [],
   "source": []
  }
 ],
 "metadata": {
  "kernelspec": {
   "display_name": "Python 3",
   "language": "python",
   "name": "python3"
  },
  "language_info": {
   "codemirror_mode": {
    "name": "ipython",
    "version": 3
   },
   "file_extension": ".py",
   "mimetype": "text/x-python",
   "name": "python",
   "nbconvert_exporter": "python",
   "pygments_lexer": "ipython3",
   "version": "3.8.5"
  }
 },
 "nbformat": 4,
 "nbformat_minor": 4
}
