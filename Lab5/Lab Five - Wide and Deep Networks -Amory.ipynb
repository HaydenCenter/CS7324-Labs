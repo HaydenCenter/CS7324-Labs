{
 "cells": [
  {
   "cell_type": "markdown",
   "metadata": {},
   "source": [
    "# Lab Five: Wide and Deep Network Architectures"
   ]
  },
  {
   "cell_type": "markdown",
   "metadata": {},
   "source": [
    "In this lab, you will select a prediction task to perform on your dataset, evaluate two different deep learning architectures and tune hyper-parameters for each architecture. If any part of the assignment is not clear, ask the instructor to clarify. \n",
    "\n",
    "This report is worth 10% of the final grade. Please upload a report (<b>one per team</b>) with all code used, visualizations, and text in a rendered Jupyter notebook. Any visualizations that cannot be embedded in the notebook, please provide screenshots of the output. The results should be reproducible using your report. Please carefully describe every assumption and every step in your report.\n",
    "\n",
    "<b>Dataset Selection</b>\n",
    "\n",
    "Select a dataset similarly to lab one. That is, the dataset must be table data. In terms of generalization performance, it is helpful to have a large dataset for building a wide and deep network. It is also helpful to have many different categorical features to create the embeddings and cross-product embeddings. It is fine to perform binary classification, multi-class classification, or regression."
   ]
  },
  {
   "cell_type": "markdown",
   "metadata": {},
   "source": [
    "## Preparation (4 pts)"
   ]
  },
  {
   "cell_type": "markdown",
   "metadata": {},
   "source": [
    "<ul>\n",
    "    <li>[<b>1 points</b>] Define and prepare your class variables. Use proper variable representations (int, float, one-hot, etc.). Use pre-processing methods (as needed) for dimensionality reduction, scaling, etc. Remove variables that are not needed/useful for the analysis. Describe the final dataset that is used for classification/regression (include a description of any newly formed variables you created). \n",
    "    <li>[<b>1 points</b>] Identify groups of features in your data that should be combined into cross-product features. Provide justification for why these features should be crossed (or why some features should not be crossed).</li>\n",
    "    <li>[<b>1 points</b>] Choose and explain what metric(s) you will use to evaluate your algorithm’s performance. You should give a <b>detailed argument for why this (these) metric(s) are appropriate on your data</b>. That is, why is the metric appropriate for the task (e.g., in terms of the business case for the task). Please note: rarely is accuracy the best evaluation metric to use. Think deeply about an appropriate measure of performance.</li>\n",
    "    <li>[<b>1 points</b>] Choose the method you will use for dividing your data into training and testing (i.e., are you using Stratified 10-fold cross validation? Shuffle splits? Why?). <b>Explain why your chosen method is appropriate or use more than one method as appropriate</b>. Argue why your cross validation method is a realistic mirroring of how an algorithm would be used in practice. </li>\n",
    "</ul>"
   ]
  },
  {
   "cell_type": "markdown",
   "metadata": {},
   "source": [
    "### Dataset Preparation & Preprocessing"
   ]
  },
  {
   "cell_type": "code",
   "execution_count": 1,
   "metadata": {},
   "outputs": [
    {
     "name": "stdout",
     "output_type": "stream",
     "text": [
      "Pandas: 1.1.0\n",
      "Numpy: 1.19.5\n"
     ]
    }
   ],
   "source": [
    "# Importing packages and reading in dataset\n",
    "import numpy as np\n",
    "import pandas as pd\n",
    "\n",
    "print('Pandas:', pd.__version__)\n",
    "print('Numpy:',  np.__version__)"
   ]
  },
  {
   "cell_type": "code",
   "execution_count": 2,
   "metadata": {},
   "outputs": [
    {
     "name": "stdout",
     "output_type": "stream",
     "text": [
      "<class 'pandas.core.frame.DataFrame'>\n",
      "Int64Index: 13119 entries, 2968 to 6083\n",
      "Data columns (total 9 columns):\n",
      " #   Column        Non-Null Count  Dtype  \n",
      "---  ------        --------------  -----  \n",
      " 0   model         13119 non-null  object \n",
      " 1   year          13119 non-null  int64  \n",
      " 2   price         13119 non-null  int64  \n",
      " 3   transmission  13119 non-null  object \n",
      " 4   mileage       13119 non-null  int64  \n",
      " 5   fuelType      13119 non-null  object \n",
      " 6   tax           13119 non-null  int64  \n",
      " 7   mpg           13119 non-null  float64\n",
      " 8   engineSize    13119 non-null  float64\n",
      "dtypes: float64(2), int64(4), object(3)\n",
      "memory usage: 1.0+ MB\n",
      "None\n"
     ]
    }
   ],
   "source": [
    "#read in csv file\n",
    "merc_info = pd.read_csv('merc.csv')\n",
    "\n",
    "#shuffle data\n",
    "merc_info = merc_info.sample(frac=1)\n",
    "\n",
    "#no null values, therefore do not need to impute any data\n",
    "print(merc_info.info(null_counts=True))"
   ]
  },
  {
   "cell_type": "code",
   "execution_count": 3,
   "metadata": {},
   "outputs": [
    {
     "name": "stdout",
     "output_type": "stream",
     "text": [
      "<class 'pandas.core.frame.DataFrame'>\n",
      "Int64Index: 13119 entries, 2968 to 6083\n",
      "Data columns (total 12 columns):\n",
      " #   Column            Non-Null Count  Dtype  \n",
      "---  ------            --------------  -----  \n",
      " 0   model             13119 non-null  object \n",
      " 1   year              13119 non-null  float64\n",
      " 2   transmission      13119 non-null  object \n",
      " 3   mileage           13119 non-null  float64\n",
      " 4   fuelType          13119 non-null  object \n",
      " 5   tax               13119 non-null  float64\n",
      " 6   mpg               13119 non-null  float64\n",
      " 7   engineSize        13119 non-null  float64\n",
      " 8   log_price         13119 non-null  float64\n",
      " 9   model_int         13119 non-null  int64  \n",
      " 10  transmission_int  13119 non-null  int64  \n",
      " 11  fuelType_int      13119 non-null  int64  \n",
      "dtypes: float64(6), int64(3), object(3)\n",
      "memory usage: 1.3+ MB\n",
      "None\n"
     ]
    },
    {
     "data": {
      "text/html": [
       "<div>\n",
       "<style scoped>\n",
       "    .dataframe tbody tr th:only-of-type {\n",
       "        vertical-align: middle;\n",
       "    }\n",
       "\n",
       "    .dataframe tbody tr th {\n",
       "        vertical-align: top;\n",
       "    }\n",
       "\n",
       "    .dataframe thead th {\n",
       "        text-align: right;\n",
       "    }\n",
       "</style>\n",
       "<table border=\"1\" class=\"dataframe\">\n",
       "  <thead>\n",
       "    <tr style=\"text-align: right;\">\n",
       "      <th></th>\n",
       "      <th>model</th>\n",
       "      <th>year</th>\n",
       "      <th>transmission</th>\n",
       "      <th>mileage</th>\n",
       "      <th>fuelType</th>\n",
       "      <th>tax</th>\n",
       "      <th>mpg</th>\n",
       "      <th>engineSize</th>\n",
       "      <th>log_price</th>\n",
       "      <th>model_int</th>\n",
       "      <th>transmission_int</th>\n",
       "      <th>fuelType_int</th>\n",
       "    </tr>\n",
       "  </thead>\n",
       "  <tbody>\n",
       "    <tr>\n",
       "      <th>2968</th>\n",
       "      <td>E Class</td>\n",
       "      <td>-0.133186</td>\n",
       "      <td>Semi-Auto</td>\n",
       "      <td>-0.071996</td>\n",
       "      <td>Diesel</td>\n",
       "      <td>0.230284</td>\n",
       "      <td>0.410273</td>\n",
       "      <td>-0.124964</td>\n",
       "      <td>10.042380</td>\n",
       "      <td>8</td>\n",
       "      <td>3</td>\n",
       "      <td>0</td>\n",
       "    </tr>\n",
       "    <tr>\n",
       "      <th>8012</th>\n",
       "      <td>C Class</td>\n",
       "      <td>0.765843</td>\n",
       "      <td>Semi-Auto</td>\n",
       "      <td>-0.920562</td>\n",
       "      <td>Diesel</td>\n",
       "      <td>0.230284</td>\n",
       "      <td>0.088318</td>\n",
       "      <td>-0.124964</td>\n",
       "      <td>10.315564</td>\n",
       "      <td>2</td>\n",
       "      <td>3</td>\n",
       "      <td>0</td>\n",
       "    </tr>\n",
       "    <tr>\n",
       "      <th>6968</th>\n",
       "      <td>CLS Class</td>\n",
       "      <td>-0.133186</td>\n",
       "      <td>Semi-Auto</td>\n",
       "      <td>0.235715</td>\n",
       "      <td>Diesel</td>\n",
       "      <td>0.230284</td>\n",
       "      <td>0.167164</td>\n",
       "      <td>0.049738</td>\n",
       "      <td>9.903488</td>\n",
       "      <td>7</td>\n",
       "      <td>3</td>\n",
       "      <td>0</td>\n",
       "    </tr>\n",
       "    <tr>\n",
       "      <th>6200</th>\n",
       "      <td>B Class</td>\n",
       "      <td>0.765843</td>\n",
       "      <td>Semi-Auto</td>\n",
       "      <td>-0.458051</td>\n",
       "      <td>Diesel</td>\n",
       "      <td>0.230284</td>\n",
       "      <td>0.016042</td>\n",
       "      <td>-0.124964</td>\n",
       "      <td>10.038455</td>\n",
       "      <td>1</td>\n",
       "      <td>3</td>\n",
       "      <td>0</td>\n",
       "    </tr>\n",
       "    <tr>\n",
       "      <th>10910</th>\n",
       "      <td>A Class</td>\n",
       "      <td>-0.582700</td>\n",
       "      <td>Manual</td>\n",
       "      <td>-0.042386</td>\n",
       "      <td>Diesel</td>\n",
       "      <td>-1.685196</td>\n",
       "      <td>1.133030</td>\n",
       "      <td>-0.998472</td>\n",
       "      <td>9.495444</td>\n",
       "      <td>0</td>\n",
       "      <td>1</td>\n",
       "      <td>0</td>\n",
       "    </tr>\n",
       "    <tr>\n",
       "      <th>...</th>\n",
       "      <td>...</td>\n",
       "      <td>...</td>\n",
       "      <td>...</td>\n",
       "      <td>...</td>\n",
       "      <td>...</td>\n",
       "      <td>...</td>\n",
       "      <td>...</td>\n",
       "      <td>...</td>\n",
       "      <td>...</td>\n",
       "      <td>...</td>\n",
       "      <td>...</td>\n",
       "      <td>...</td>\n",
       "    </tr>\n",
       "    <tr>\n",
       "      <th>4613</th>\n",
       "      <td>GLC Class</td>\n",
       "      <td>-0.582700</td>\n",
       "      <td>Semi-Auto</td>\n",
       "      <td>0.551219</td>\n",
       "      <td>Diesel</td>\n",
       "      <td>-0.076193</td>\n",
       "      <td>0.088318</td>\n",
       "      <td>0.049738</td>\n",
       "      <td>10.064330</td>\n",
       "      <td>13</td>\n",
       "      <td>3</td>\n",
       "      <td>0</td>\n",
       "    </tr>\n",
       "    <tr>\n",
       "      <th>5736</th>\n",
       "      <td>A Class</td>\n",
       "      <td>0.765843</td>\n",
       "      <td>Semi-Auto</td>\n",
       "      <td>-0.800425</td>\n",
       "      <td>Diesel</td>\n",
       "      <td>0.230284</td>\n",
       "      <td>0.692806</td>\n",
       "      <td>-0.998472</td>\n",
       "      <td>9.952040</td>\n",
       "      <td>0</td>\n",
       "      <td>3</td>\n",
       "      <td>0</td>\n",
       "    </tr>\n",
       "    <tr>\n",
       "      <th>1702</th>\n",
       "      <td>E Class</td>\n",
       "      <td>-0.133186</td>\n",
       "      <td>Semi-Auto</td>\n",
       "      <td>0.011732</td>\n",
       "      <td>Diesel</td>\n",
       "      <td>-1.685196</td>\n",
       "      <td>1.133030</td>\n",
       "      <td>-0.124964</td>\n",
       "      <td>9.899580</td>\n",
       "      <td>8</td>\n",
       "      <td>3</td>\n",
       "      <td>0</td>\n",
       "    </tr>\n",
       "    <tr>\n",
       "      <th>1356</th>\n",
       "      <td>A Class</td>\n",
       "      <td>0.316329</td>\n",
       "      <td>Semi-Auto</td>\n",
       "      <td>0.013669</td>\n",
       "      <td>Petrol</td>\n",
       "      <td>0.230284</td>\n",
       "      <td>-0.187644</td>\n",
       "      <td>-0.823771</td>\n",
       "      <td>9.811920</td>\n",
       "      <td>0</td>\n",
       "      <td>3</td>\n",
       "      <td>3</td>\n",
       "    </tr>\n",
       "    <tr>\n",
       "      <th>6083</th>\n",
       "      <td>SL CLASS</td>\n",
       "      <td>0.765843</td>\n",
       "      <td>Semi-Auto</td>\n",
       "      <td>-0.885475</td>\n",
       "      <td>Petrol</td>\n",
       "      <td>0.230284</td>\n",
       "      <td>-0.529311</td>\n",
       "      <td>-0.124964</td>\n",
       "      <td>10.295361</td>\n",
       "      <td>19</td>\n",
       "      <td>3</td>\n",
       "      <td>3</td>\n",
       "    </tr>\n",
       "  </tbody>\n",
       "</table>\n",
       "<p>13119 rows × 12 columns</p>\n",
       "</div>"
      ],
      "text/plain": [
       "            model      year transmission   mileage fuelType       tax  \\\n",
       "2968      E Class -0.133186    Semi-Auto -0.071996   Diesel  0.230284   \n",
       "8012      C Class  0.765843    Semi-Auto -0.920562   Diesel  0.230284   \n",
       "6968    CLS Class -0.133186    Semi-Auto  0.235715   Diesel  0.230284   \n",
       "6200      B Class  0.765843    Semi-Auto -0.458051   Diesel  0.230284   \n",
       "10910     A Class -0.582700       Manual -0.042386   Diesel -1.685196   \n",
       "...           ...       ...          ...       ...      ...       ...   \n",
       "4613    GLC Class -0.582700    Semi-Auto  0.551219   Diesel -0.076193   \n",
       "5736      A Class  0.765843    Semi-Auto -0.800425   Diesel  0.230284   \n",
       "1702      E Class -0.133186    Semi-Auto  0.011732   Diesel -1.685196   \n",
       "1356      A Class  0.316329    Semi-Auto  0.013669   Petrol  0.230284   \n",
       "6083     SL CLASS  0.765843    Semi-Auto -0.885475   Petrol  0.230284   \n",
       "\n",
       "            mpg  engineSize  log_price  model_int  transmission_int  \\\n",
       "2968   0.410273   -0.124964  10.042380          8                 3   \n",
       "8012   0.088318   -0.124964  10.315564          2                 3   \n",
       "6968   0.167164    0.049738   9.903488          7                 3   \n",
       "6200   0.016042   -0.124964  10.038455          1                 3   \n",
       "10910  1.133030   -0.998472   9.495444          0                 1   \n",
       "...         ...         ...        ...        ...               ...   \n",
       "4613   0.088318    0.049738  10.064330         13                 3   \n",
       "5736   0.692806   -0.998472   9.952040          0                 3   \n",
       "1702   1.133030   -0.124964   9.899580          8                 3   \n",
       "1356  -0.187644   -0.823771   9.811920          0                 3   \n",
       "6083  -0.529311   -0.124964  10.295361         19                 3   \n",
       "\n",
       "       fuelType_int  \n",
       "2968              0  \n",
       "8012              0  \n",
       "6968              0  \n",
       "6200              0  \n",
       "10910             0  \n",
       "...             ...  \n",
       "4613              0  \n",
       "5736              0  \n",
       "1702              0  \n",
       "1356              3  \n",
       "6083              3  \n",
       "\n",
       "[13119 rows x 12 columns]"
      ]
     },
     "execution_count": 3,
     "metadata": {},
     "output_type": "execute_result"
    }
   ],
   "source": [
    "from sklearn.preprocessing import LabelEncoder\n",
    "from sklearn.preprocessing import StandardScaler\n",
    "\n",
    "merc_info[\"log_price\"] = np.log(merc_info[\"price\"])\n",
    "del merc_info[\"price\"]\n",
    "\n",
    "# define objects that can encode each variable as integer\n",
    "categorical = [\"model\", \"transmission\", \"fuelType\"]\n",
    "encoders = dict()\n",
    "\n",
    "# train all encoders\n",
    "for cat in categorical:\n",
    "    # integer encoded variables\n",
    "    encoders[cat] = LabelEncoder() # save the encoder\n",
    "    merc_info[cat+'_int'] = encoders[cat].fit_transform(merc_info[cat])\n",
    "\n",
    "# scale the numeric, continuous variables\n",
    "numerical = [\"year\", \"mileage\", \"tax\", \"mpg\", \"engineSize\"]\n",
    "\n",
    "for num in numerical:\n",
    "    merc_info[num] = merc_info[num].astype(np.float)\n",
    "    ss = StandardScaler()\n",
    "    merc_info[num] = ss.fit_transform(merc_info[num].values.reshape(-1, 1))\n",
    "    \n",
    "categorical_headers_ints = [x+'_int' for x in categorical]\n",
    "feature_columns = categorical_headers_ints + numerical\n",
    "\n",
    "# Define features and target\n",
    "X = merc_info.drop(\"log_price\", axis=1)\n",
    "y = merc_info[\"log_price\"]\n",
    "\n",
    "print(merc_info.info(null_counts=True))\n",
    "merc_info"
   ]
  },
  {
   "cell_type": "markdown",
   "metadata": {},
   "source": [
    "#### Explanation of Final Data Set\n",
    "\n",
    "Our dataset is a table of information about different models of Mercedes cars. Information included in this table is the model name, the year it was made, the price of the car, the type of transmission in the car, the mileage of the car, the type of fuel the car uses, the tax on the car, the mpg of the car, and the size of the engine of the car. \n",
    "\n",
    "In terms of preparation of the data, we label encodeded the data and applied a log normalization to the price data (i.e. target values) to account for skewed data and to improve ease of fitting our model. We further utilized a standard scalar to scale the numerical data.\n",
    "\n",
    "We are using the dataset to perform a regression task; the task we deemed most useful in a real world application would be determining the price of a car based on factors such as mpg, engine size, year made, etc. A model that can accurately determine the price of a car based on factors such as these would be useful in a real world application because the price of a used car could be determined more accurately, more efficiently, and with less bias than a human technician, mechanic, etc. "
   ]
  },
  {
   "cell_type": "markdown",
   "metadata": {},
   "source": [
    "### Making Crossed Columns"
   ]
  },
  {
   "cell_type": "code",
   "execution_count": 4,
   "metadata": {},
   "outputs": [],
   "source": [
    "cross_columns = [['model', 'fuelType'],\n",
    "                 ['transmission','fuelType'],\n",
    "                 ['model','transmission']\n",
    "                ]\n",
    "\n",
    "cross_col_names = []\n",
    "for cols_list in cross_columns:\n",
    "    enc = LabelEncoder()\n",
    "    \n",
    "    X_crossed = merc_info[cols_list].apply(lambda x: '_'.join(x), axis=1)\n",
    "    \n",
    "    cross_col_name = '_'.join(cols_list)\n",
    "    enc.fit(X_crossed)\n",
    "    \n",
    "    merc_info[cross_col_name] = enc.transform(X_crossed)\n",
    "    \n",
    "    # keep track of the new names of the crossed columns\n",
    "    cross_col_names.append(cross_col_name)"
   ]
  },
  {
   "cell_type": "markdown",
   "metadata": {},
   "source": [
    "#### Explanation of Cross Columns"
   ]
  },
  {
   "cell_type": "markdown",
   "metadata": {},
   "source": [
    "### Split Dataset into Training and Testing"
   ]
  },
  {
   "cell_type": "code",
   "execution_count": 5,
   "metadata": {},
   "outputs": [],
   "source": [
    "from sklearn.model_selection import train_test_split\n",
    "\n",
    "X_train,X_test,y_train,y_test=train_test_split(merc_info,y,test_size=0.2,random_state=123)\n",
    "\n",
    "X_train_df = pd.DataFrame(X_train, columns= merc_info.columns)\n",
    "X_test_df = pd.DataFrame(X_test, columns= merc_info.columns)"
   ]
  },
  {
   "cell_type": "markdown",
   "metadata": {},
   "source": [
    "#### Explanation of Dataset Split\n",
    "Our dataset is very large; it is made up of about 13,100 instances. Therefore, due to the size of our dataset, a 80-20 split is sufficient. "
   ]
  },
  {
   "cell_type": "markdown",
   "metadata": {},
   "source": [
    "#### Explanation of Evaluation Metrics\n",
    "MSE cuz regression"
   ]
  },
  {
   "cell_type": "markdown",
   "metadata": {},
   "source": [
    "## Modeling (5 pts)"
   ]
  },
  {
   "cell_type": "markdown",
   "metadata": {},
   "source": [
    "<ul>\n",
    "    <li>[<b>2 points</b>] Create at least three combined wide and deep networks to classify your data using Keras. Visualize the performance of the network on the training data and validation data in the same plot versus the training iterations. Note: use the \"history\" return parameter that is part of Keras \"fit\" function to easily access this data. </li> \n",
    "    <li>[<b>2 points</b>] Investigate generalization performance by altering the number of layers in the deep branch of the network. Try at least two different number of layers. Use the method of cross validation and evaluation metric that you argued for at the beginning of the lab to select the number of layers that performs superiorly. </li>\n",
    "    <li>[<b>1 points</b>] Compare the performance of your best wide and deep network to a standard multi-layer perceptron (MLP). For classification tasks, use the receiver operating characteristic and area under the curve. For regression tasks, use Bland-Altman plots and residual variance calculations.  Use proper statistical method to compare the performance of different models.  </li>\n",
    "</ul>"
   ]
  },
  {
   "cell_type": "markdown",
   "metadata": {},
   "source": [
    "### Creating the Deep Network"
   ]
  },
  {
   "cell_type": "code",
   "execution_count": 6,
   "metadata": {
    "scrolled": true
   },
   "outputs": [],
   "source": [
    "import tensorflow as tf\n",
    "from tensorflow.keras.layers import Dense, Activation, Input\n",
    "from tensorflow.keras.layers import Embedding, Flatten, concatenate\n",
    "from tensorflow.keras.models import Model\n",
    "from tensorflow.keras.utils import plot_model\n",
    "from tensorflow.keras.callbacks import EarlyStopping\n",
    "\n",
    "optimizer = 'adam'\n",
    "initializer = tf.keras.initializers.GlorotUniform()\n",
    "loss = 'mean_squared_error'\n",
    "metrics = 'mean_squared_error'\n",
    "epochs = 256\n",
    "batch_size = 512\n",
    "verbose = 1\n",
    "callbacks = [EarlyStopping(monitor='mean_squared_error', patience=8)]\n",
    "\n",
    "X_train_cat = X_train_df[categorical_headers_ints].to_numpy()\n",
    "X_train_num = X_train_df[numerical].to_numpy()\n",
    "X_test_cat  = X_test_df[categorical_headers_ints].to_numpy()\n",
    "X_test_num  = X_test_df[numerical].to_numpy()"
   ]
  },
  {
   "cell_type": "code",
   "execution_count": 7,
   "metadata": {
    "scrolled": true
   },
   "outputs": [
    {
     "name": "stdout",
     "output_type": "stream",
     "text": [
      "Epoch 1/256\n",
      "21/21 [==============================] - 3s 44ms/step - loss: 99.3323 - mean_squared_error: 99.3323 - val_loss: 94.2545 - val_mean_squared_error: 94.2545\n",
      "Epoch 2/256\n",
      "21/21 [==============================] - 0s 9ms/step - loss: 92.0882 - mean_squared_error: 92.0882 - val_loss: 82.3658 - val_mean_squared_error: 82.3658\n",
      "Epoch 3/256\n",
      "21/21 [==============================] - 0s 7ms/step - loss: 77.4748 - mean_squared_error: 77.4748 - val_loss: 56.5715 - val_mean_squared_error: 56.5715\n",
      "Epoch 4/256\n",
      "21/21 [==============================] - 0s 6ms/step - loss: 46.7972 - mean_squared_error: 46.7972 - val_loss: 15.2553 - val_mean_squared_error: 15.2553\n",
      "Epoch 5/256\n",
      "21/21 [==============================] - 0s 5ms/step - loss: 8.3576 - mean_squared_error: 8.3576 - val_loss: 0.8544 - val_mean_squared_error: 0.8544\n",
      "Epoch 6/256\n",
      "21/21 [==============================] - 0s 8ms/step - loss: 0.8273 - mean_squared_error: 0.8273 - val_loss: 0.0965 - val_mean_squared_error: 0.0965\n",
      "Epoch 7/256\n",
      "21/21 [==============================] - 0s 8ms/step - loss: 0.1215 - mean_squared_error: 0.1215 - val_loss: 0.0792 - val_mean_squared_error: 0.0792\n",
      "Epoch 8/256\n",
      "21/21 [==============================] - 0s 7ms/step - loss: 0.0708 - mean_squared_error: 0.0708 - val_loss: 0.0561 - val_mean_squared_error: 0.0561\n",
      "Epoch 9/256\n",
      "21/21 [==============================] - 0s 6ms/step - loss: 0.0504 - mean_squared_error: 0.0504 - val_loss: 0.0427 - val_mean_squared_error: 0.0427\n",
      "Epoch 10/256\n",
      "21/21 [==============================] - 0s 5ms/step - loss: 0.0426 - mean_squared_error: 0.0426 - val_loss: 0.0371 - val_mean_squared_error: 0.0371\n",
      "Epoch 11/256\n",
      "21/21 [==============================] - 0s 6ms/step - loss: 0.0341 - mean_squared_error: 0.0341 - val_loss: 0.0329 - val_mean_squared_error: 0.0329\n",
      "Epoch 12/256\n",
      "21/21 [==============================] - 0s 6ms/step - loss: 0.0302 - mean_squared_error: 0.0302 - val_loss: 0.0304 - val_mean_squared_error: 0.0304\n",
      "Epoch 13/256\n",
      "21/21 [==============================] - 0s 7ms/step - loss: 0.0319 - mean_squared_error: 0.0319 - val_loss: 0.0288 - val_mean_squared_error: 0.0288\n",
      "Epoch 14/256\n",
      "21/21 [==============================] - 0s 7ms/step - loss: 0.0263 - mean_squared_error: 0.0263 - val_loss: 0.0271 - val_mean_squared_error: 0.0271\n",
      "Epoch 15/256\n",
      "21/21 [==============================] - 0s 6ms/step - loss: 0.0249 - mean_squared_error: 0.0249 - val_loss: 0.0288 - val_mean_squared_error: 0.0288\n",
      "Epoch 16/256\n",
      "21/21 [==============================] - 0s 6ms/step - loss: 0.0262 - mean_squared_error: 0.0262 - val_loss: 0.0261 - val_mean_squared_error: 0.0261\n",
      "Epoch 17/256\n",
      "21/21 [==============================] - 0s 6ms/step - loss: 0.0231 - mean_squared_error: 0.0231 - val_loss: 0.0258 - val_mean_squared_error: 0.0258\n",
      "Epoch 18/256\n",
      "21/21 [==============================] - 0s 5ms/step - loss: 0.0317 - mean_squared_error: 0.0317 - val_loss: 0.0255 - val_mean_squared_error: 0.0255\n",
      "Epoch 19/256\n",
      "21/21 [==============================] - 0s 5ms/step - loss: 0.0278 - mean_squared_error: 0.0278 - val_loss: 0.0247 - val_mean_squared_error: 0.0247\n",
      "Epoch 20/256\n",
      "21/21 [==============================] - 0s 5ms/step - loss: 0.0251 - mean_squared_error: 0.0251 - val_loss: 0.0249 - val_mean_squared_error: 0.0249\n",
      "Epoch 21/256\n",
      "21/21 [==============================] - 0s 6ms/step - loss: 0.0233 - mean_squared_error: 0.0233 - val_loss: 0.0257 - val_mean_squared_error: 0.0257\n",
      "Epoch 22/256\n",
      "21/21 [==============================] - 0s 6ms/step - loss: 0.0276 - mean_squared_error: 0.0276 - val_loss: 0.0240 - val_mean_squared_error: 0.0240\n",
      "Epoch 23/256\n",
      "21/21 [==============================] - 0s 5ms/step - loss: 0.0229 - mean_squared_error: 0.0229 - val_loss: 0.0245 - val_mean_squared_error: 0.0245\n",
      "Epoch 24/256\n",
      "21/21 [==============================] - 0s 6ms/step - loss: 0.0251 - mean_squared_error: 0.0251 - val_loss: 0.0249 - val_mean_squared_error: 0.0249\n",
      "Epoch 25/256\n",
      "21/21 [==============================] - 0s 7ms/step - loss: 0.0256 - mean_squared_error: 0.0256 - val_loss: 0.0237 - val_mean_squared_error: 0.0237\n",
      "Epoch 26/256\n",
      "21/21 [==============================] - 0s 8ms/step - loss: 0.0248 - mean_squared_error: 0.0248 - val_loss: 0.0239 - val_mean_squared_error: 0.0239\n",
      "Epoch 27/256\n",
      "21/21 [==============================] - 0s 7ms/step - loss: 0.0250 - mean_squared_error: 0.0250 - val_loss: 0.0239 - val_mean_squared_error: 0.0239\n",
      "Epoch 28/256\n",
      "21/21 [==============================] - 0s 7ms/step - loss: 0.0239 - mean_squared_error: 0.0239 - val_loss: 0.0244 - val_mean_squared_error: 0.0244\n",
      "Epoch 29/256\n",
      "21/21 [==============================] - 0s 6ms/step - loss: 0.0231 - mean_squared_error: 0.0231 - val_loss: 0.0243 - val_mean_squared_error: 0.0243\n",
      "Epoch 30/256\n",
      "21/21 [==============================] - 0s 5ms/step - loss: 0.0226 - mean_squared_error: 0.0226 - val_loss: 0.0243 - val_mean_squared_error: 0.0243\n",
      "Epoch 31/256\n",
      "21/21 [==============================] - 0s 6ms/step - loss: 0.0267 - mean_squared_error: 0.0267 - val_loss: 0.0235 - val_mean_squared_error: 0.0235\n",
      "Epoch 32/256\n",
      "21/21 [==============================] - 0s 11ms/step - loss: 0.0216 - mean_squared_error: 0.0216 - val_loss: 0.0262 - val_mean_squared_error: 0.0262\n",
      "Epoch 33/256\n",
      "21/21 [==============================] - 0s 12ms/step - loss: 0.0257 - mean_squared_error: 0.0257 - val_loss: 0.0239 - val_mean_squared_error: 0.0239\n",
      "Epoch 34/256\n",
      "21/21 [==============================] - 0s 9ms/step - loss: 0.0247 - mean_squared_error: 0.0247 - val_loss: 0.0237 - val_mean_squared_error: 0.0237\n",
      "Epoch 35/256\n",
      "21/21 [==============================] - 0s 8ms/step - loss: 0.0227 - mean_squared_error: 0.0227 - val_loss: 0.0244 - val_mean_squared_error: 0.0244\n",
      "Epoch 36/256\n",
      "21/21 [==============================] - 0s 8ms/step - loss: 0.0231 - mean_squared_error: 0.0231 - val_loss: 0.0246 - val_mean_squared_error: 0.0246\n",
      "Epoch 37/256\n",
      "21/21 [==============================] - 0s 7ms/step - loss: 0.0229 - mean_squared_error: 0.0229 - val_loss: 0.0237 - val_mean_squared_error: 0.0237\n",
      "Epoch 38/256\n",
      "21/21 [==============================] - 0s 7ms/step - loss: 0.0218 - mean_squared_error: 0.0218 - val_loss: 0.0240 - val_mean_squared_error: 0.0240\n",
      "Epoch 39/256\n",
      "21/21 [==============================] - 0s 6ms/step - loss: 0.0267 - mean_squared_error: 0.0267 - val_loss: 0.0243 - val_mean_squared_error: 0.0243\n",
      "Epoch 40/256\n",
      "21/21 [==============================] - 0s 5ms/step - loss: 0.0291 - mean_squared_error: 0.0291 - val_loss: 0.0228 - val_mean_squared_error: 0.0228\n",
      "Epoch 41/256\n",
      "21/21 [==============================] - 0s 6ms/step - loss: 0.0225 - mean_squared_error: 0.0225 - val_loss: 0.0250 - val_mean_squared_error: 0.0250\n",
      "Epoch 42/256\n",
      "21/21 [==============================] - 0s 6ms/step - loss: 0.0251 - mean_squared_error: 0.0251 - val_loss: 0.0237 - val_mean_squared_error: 0.0237\n",
      "Epoch 43/256\n",
      "21/21 [==============================] - 0s 5ms/step - loss: 0.0255 - mean_squared_error: 0.0255 - val_loss: 0.0236 - val_mean_squared_error: 0.0236\n",
      "Epoch 44/256\n",
      "21/21 [==============================] - 0s 5ms/step - loss: 0.0220 - mean_squared_error: 0.0220 - val_loss: 0.0256 - val_mean_squared_error: 0.0256\n",
      "Epoch 45/256\n",
      "21/21 [==============================] - 0s 7ms/step - loss: 0.0238 - mean_squared_error: 0.0238 - val_loss: 0.0242 - val_mean_squared_error: 0.0242\n",
      "Epoch 46/256\n",
      "21/21 [==============================] - 0s 5ms/step - loss: 0.0288 - mean_squared_error: 0.0288 - val_loss: 0.0238 - val_mean_squared_error: 0.0238\n",
      "Epoch 47/256\n",
      "21/21 [==============================] - 0s 5ms/step - loss: 0.0256 - mean_squared_error: 0.0256 - val_loss: 0.0239 - val_mean_squared_error: 0.0239\n",
      "Epoch 48/256\n",
      "21/21 [==============================] - 0s 4ms/step - loss: 0.0273 - mean_squared_error: 0.0273 - val_loss: 0.0248 - val_mean_squared_error: 0.0248\n",
      "CPU times: user 9.54 s, sys: 726 ms, total: 10.3 s\n",
      "Wall time: 9.2 s\n"
     ]
    }
   ],
   "source": [
    "%%time\n",
    "\n",
    "all_branch_outputs = [] # this is where we will keep track of output of each branch\n",
    "\n",
    "# feed in the entire matrix of categorical variables\n",
    "input_cat = Input(shape=(X_train_cat.shape[1],), name='categorical', dtype='int64')\n",
    "\n",
    "# for each categorical variable\n",
    "for idx,col in enumerate(categorical_headers_ints):\n",
    "    \n",
    "    # what the maximum integer value for this variable?\n",
    "    # which is the same as the number of categories\n",
    "    N = max(X_train_df[col].max(),X_test_df[col].max())+1 \n",
    "    \n",
    "    # this line of code does this: input_cat[:,idx]\n",
    "    x = tf.gather(input_cat, idx, axis=1)\n",
    "    \n",
    "    # now use an embedding to deal with integers as if they were one hot encoded\n",
    "    x = Embedding(input_dim=N, \n",
    "                  output_dim=int(np.sqrt(N)), \n",
    "                  input_length=1, name=col+'_embed')(x)\n",
    "    \n",
    "    # save these outputs in list to concatenate later\n",
    "    all_branch_outputs.append(x)\n",
    "    \n",
    "input_num = Input(shape=(X_train_num.shape[1],), name='numeric')\n",
    "x_dense = Dense(units=10, kernel_initializer=initializer, name='num_1')(input_num)\n",
    "\n",
    "all_branch_outputs.append(x_dense)\n",
    "        \n",
    "# now concatenate the outputs and add a fully connected layer\n",
    "deep_branch_0 = concatenate(all_branch_outputs, name='deep_concat')\n",
    "deep_branch_1 = Dense(units=10, kernel_initializer=initializer, name='deep_1')(deep_branch_0)\n",
    "deep_branch_2 = Dense(units=10, kernel_initializer=initializer, name='deep_2')(deep_branch_1)\n",
    "deep_branch_3 = Dense(units=10,  kernel_initializer=initializer, name='deep_3')(deep_branch_2)\n",
    "\n",
    "final_branch = Dense(units=1, name='output')(deep_branch_3)\n",
    "\n",
    "model = Model(inputs=[input_cat, input_num], outputs=final_branch)\n",
    "\n",
    "model.compile(optimizer=optimizer,\n",
    "              loss=loss,\n",
    "              metrics=metrics)\n",
    "\n",
    "history = model.fit([X_train_cat, X_train_num], y_train,\n",
    "                    epochs=epochs, batch_size=batch_size, verbose=verbose, callbacks=callbacks,\n",
    "                    validation_data=([X_test_cat, X_test_num], y_test))"
   ]
  },
  {
   "cell_type": "code",
   "execution_count": 8,
   "metadata": {},
   "outputs": [
    {
     "name": "stdout",
     "output_type": "stream",
     "text": [
      "('Failed to import pydot. You must `pip install pydot` and install graphviz (https://graphviz.gitlab.io/download/), ', 'for `pydotprint` to work.')\n"
     ]
    }
   ],
   "source": [
    "plot_model(\n",
    "    model, to_file='model.png', show_shapes=True, show_layer_names=True,\n",
    "    rankdir='LR', expand_nested=False, dpi=96\n",
    ")"
   ]
  },
  {
   "cell_type": "code",
   "execution_count": 9,
   "metadata": {},
   "outputs": [
    {
     "data": {
      "text/plain": [
       "Text(0.5, 1.0, 'Validation')"
      ]
     },
     "execution_count": 9,
     "metadata": {},
     "output_type": "execute_result"
    },
    {
     "data": {
      "image/png": "[encoded data removed]",
      "text/plain": [
       "<Figure size 720x288 with 2 Axes>"
      ]
     },
     "metadata": {
      "needs_background": "light"
     },
     "output_type": "display_data"
    }
   ],
   "source": [
    "from matplotlib import pyplot as plt\n",
    "\n",
    "%matplotlib inline\n",
    "\n",
    "plt.figure(figsize=(10,4))\n",
    "plt.subplot(1,2,1)\n",
    "plt.yscale('log')\n",
    "plt.plot(history.history['mean_squared_error'])\n",
    "plt.ylabel('Mean Squared Error')\n",
    "\n",
    "plt.title('Training')\n",
    "plt.subplot(1,2,2)\n",
    "plt.yscale('log')\n",
    "plt.plot(history.history['val_mean_squared_error'])\n",
    "plt.title('Validation')"
   ]
  },
  {
   "cell_type": "markdown",
   "metadata": {},
   "source": [
    "### Creating the Wide Networks"
   ]
  },
  {
   "cell_type": "code",
   "execution_count": 10,
   "metadata": {},
   "outputs": [],
   "source": [
    "def crossed_outputs(idx, input_crossed):\n",
    "    col = cross_col_names[idx]\n",
    "    N = merc_info[col].max()+1\n",
    "    x = tf.gather(input_crossed, 0, axis=1)\n",
    "    x = Embedding(input_dim=N, \n",
    "                  output_dim=int(np.sqrt(N)), \n",
    "                  input_length=1, name=col+'_embed')(x)\n",
    "    return x"
   ]
  },
  {
   "cell_type": "code",
   "execution_count": 11,
   "metadata": {
    "scrolled": true
   },
   "outputs": [
    {
     "name": "stdout",
     "output_type": "stream",
     "text": [
      "('Failed to import pydot. You must `pip install pydot` and install graphviz (https://graphviz.gitlab.io/download/), ', 'for `pydotprint` to work.')\n"
     ]
    }
   ],
   "source": [
    "X_train_crossed_0 = X_train_df[cross_col_names[0]].to_numpy()\n",
    "X_test_crossed_0  = X_test_df[cross_col_names[0]].to_numpy()\n",
    "input_crossed_0  = Input(shape=(1,), dtype='int64', name='crossed_categorical')\n",
    "output_crossed_0 = crossed_outputs(0, input_crossed_0)\n",
    "\n",
    "wide_branch_0 = Dense(units=1, kernel_initializer=initializer, name='wide_0')(output_crossed_0)\n",
    "\n",
    "model = Model(inputs=input_crossed_0, outputs=wide_branch_0)\n",
    "model.compile(optimizer=optimizer, loss=loss, metrics=metrics)\n",
    "plot_model(\n",
    "    model, to_file='model.png', show_shapes=True, show_layer_names=True,\n",
    "    rankdir='LR', expand_nested=False, dpi=96\n",
    ")"
   ]
  },
  {
   "cell_type": "code",
   "execution_count": 12,
   "metadata": {},
   "outputs": [
    {
     "name": "stdout",
     "output_type": "stream",
     "text": [
      "('Failed to import pydot. You must `pip install pydot` and install graphviz (https://graphviz.gitlab.io/download/), ', 'for `pydotprint` to work.')\n"
     ]
    }
   ],
   "source": [
    "X_train_crossed_1 = X_train_df[cross_col_names[1]].to_numpy()\n",
    "X_test_crossed_1  = X_test_df[cross_col_names[1]].to_numpy()\n",
    "input_crossed_1  = Input(shape=(1,), dtype='int64', name='crossed_categorical')\n",
    "output_crossed_1 = crossed_outputs(1, input_crossed_1)\n",
    "\n",
    "wide_branch_1 = Dense(units=1, kernel_initializer=initializer, name='wide_1')(output_crossed_1)\n",
    "\n",
    "model = Model(inputs=input_crossed_1, outputs=wide_branch_1)\n",
    "model.compile(optimizer=optimizer, loss=loss, metrics=metrics)\n",
    "plot_model(\n",
    "    model, to_file='model.png', show_shapes=True, show_layer_names=True,\n",
    "    rankdir='LR', expand_nested=False, dpi=96\n",
    ")"
   ]
  },
  {
   "cell_type": "code",
   "execution_count": 13,
   "metadata": {},
   "outputs": [
    {
     "name": "stdout",
     "output_type": "stream",
     "text": [
      "('Failed to import pydot. You must `pip install pydot` and install graphviz (https://graphviz.gitlab.io/download/), ', 'for `pydotprint` to work.')\n"
     ]
    }
   ],
   "source": [
    "X_train_crossed_2 = X_train_df[cross_col_names[2]].to_numpy()\n",
    "X_test_crossed_2  = X_test_df[cross_col_names[2]].to_numpy()\n",
    "input_crossed_2  = Input(shape=(1,), dtype='int64', name='crossed_categorical')\n",
    "output_crossed_2 = crossed_outputs(2, input_crossed_2)\n",
    "\n",
    "wide_branch_2 = Dense(units=1, kernel_initializer=initializer, name='wide_2')(output_crossed_2)\n",
    "\n",
    "model = Model(inputs=input_crossed_2, outputs=wide_branch_2)\n",
    "model.compile(optimizer=optimizer, loss=loss, metrics=metrics)\n",
    "plot_model(\n",
    "    model, to_file='model.png', show_shapes=True, show_layer_names=True,\n",
    "    rankdir='LR', expand_nested=False, dpi=96\n",
    ")"
   ]
  },
  {
   "cell_type": "code",
   "execution_count": 14,
   "metadata": {},
   "outputs": [
    {
     "name": "stdout",
     "output_type": "stream",
     "text": [
      "('Failed to import pydot. You must `pip install pydot` and install graphviz (https://graphviz.gitlab.io/download/), ', 'for `pydotprint` to work.')\n"
     ]
    }
   ],
   "source": [
    "X_train_crossed = X_train_df[cross_col_names].to_numpy()\n",
    "X_test_crossed  = X_test_df[cross_col_names].to_numpy()\n",
    "\n",
    "output_crossed = []\n",
    "input_crossed = Input(shape=(X_train_crossed.shape[1],), dtype='int64', name='crossed_categorical')\n",
    "for idx,col in enumerate(cross_col_names):\n",
    "    N = merc_info[col].max()+1\n",
    "    x = tf.gather(input_crossed, idx, axis=1)\n",
    "    x = Embedding(input_dim=N, \n",
    "                  output_dim=int(np.sqrt(N)), \n",
    "                  input_length=1, name=col+'_embed')(x)\n",
    "    output_crossed.append(x)\n",
    "\n",
    "wide_branch = concatenate(output_crossed, name='wide_concat')\n",
    "wide_branch_output = Dense(units=1, kernel_initializer=initializer, name='wide_output')(wide_branch)\n",
    "\n",
    "model = Model(inputs=input_crossed, outputs=wide_branch_output)\n",
    "model.compile(optimizer=optimizer, loss=loss, metrics=metrics)\n",
    "\n",
    "plot_model(\n",
    "    model, to_file='model.png', show_shapes=True, show_layer_names=True,\n",
    "    rankdir='LR', expand_nested=False, dpi=96\n",
    ")"
   ]
  },
  {
   "cell_type": "markdown",
   "metadata": {},
   "source": [
    "### Combining the Networks"
   ]
  },
  {
   "cell_type": "code",
   "execution_count": 15,
   "metadata": {
    "scrolled": true
   },
   "outputs": [
    {
     "name": "stdout",
     "output_type": "stream",
     "text": [
      "Epoch 1/256\n",
      "21/21 [==============================] - 1s 13ms/step - loss: 96.8160 - mean_squared_error: 96.8160 - val_loss: 78.2028 - val_mean_squared_error: 78.2028\n",
      "Epoch 2/256\n",
      "21/21 [==============================] - 0s 4ms/step - loss: 71.2585 - mean_squared_error: 71.2585 - val_loss: 47.8740 - val_mean_squared_error: 47.8740\n",
      "Epoch 3/256\n",
      "21/21 [==============================] - 0s 4ms/step - loss: 39.4681 - mean_squared_error: 39.4681 - val_loss: 14.8938 - val_mean_squared_error: 14.8938\n",
      "Epoch 4/256\n",
      "21/21 [==============================] - 0s 6ms/step - loss: 9.4476 - mean_squared_error: 9.4476 - val_loss: 0.1766 - val_mean_squared_error: 0.1766\n",
      "Epoch 5/256\n",
      "21/21 [==============================] - 0s 6ms/step - loss: 0.1397 - mean_squared_error: 0.1397 - val_loss: 0.2284 - val_mean_squared_error: 0.2284\n",
      "Epoch 6/256\n",
      "21/21 [==============================] - 0s 8ms/step - loss: 0.1287 - mean_squared_error: 0.1287 - val_loss: 0.0321 - val_mean_squared_error: 0.0321\n",
      "Epoch 7/256\n",
      "21/21 [==============================] - 0s 7ms/step - loss: 0.0350 - mean_squared_error: 0.0350 - val_loss: 0.0283 - val_mean_squared_error: 0.0283\n",
      "Epoch 8/256\n",
      "21/21 [==============================] - 0s 6ms/step - loss: 0.0258 - mean_squared_error: 0.0258 - val_loss: 0.0278 - val_mean_squared_error: 0.0278\n",
      "Epoch 9/256\n",
      "21/21 [==============================] - 0s 5ms/step - loss: 0.0276 - mean_squared_error: 0.0276 - val_loss: 0.0266 - val_mean_squared_error: 0.0266\n",
      "Epoch 10/256\n",
      "21/21 [==============================] - 0s 4ms/step - loss: 0.0254 - mean_squared_error: 0.0254 - val_loss: 0.0258 - val_mean_squared_error: 0.0258\n",
      "Epoch 11/256\n",
      "21/21 [==============================] - 0s 4ms/step - loss: 0.0253 - mean_squared_error: 0.0253 - val_loss: 0.0254 - val_mean_squared_error: 0.0254\n",
      "Epoch 12/256\n",
      "21/21 [==============================] - 0s 5ms/step - loss: 0.0230 - mean_squared_error: 0.0230 - val_loss: 0.0256 - val_mean_squared_error: 0.0256\n",
      "Epoch 13/256\n",
      "21/21 [==============================] - 0s 5ms/step - loss: 0.0239 - mean_squared_error: 0.0239 - val_loss: 0.0253 - val_mean_squared_error: 0.0253\n",
      "Epoch 14/256\n",
      "21/21 [==============================] - 0s 4ms/step - loss: 0.0276 - mean_squared_error: 0.0276 - val_loss: 0.0245 - val_mean_squared_error: 0.0245\n",
      "Epoch 15/256\n",
      "21/21 [==============================] - 0s 4ms/step - loss: 0.0228 - mean_squared_error: 0.0228 - val_loss: 0.0246 - val_mean_squared_error: 0.0246\n",
      "Epoch 16/256\n",
      "21/21 [==============================] - 0s 4ms/step - loss: 0.0238 - mean_squared_error: 0.0238 - val_loss: 0.0242 - val_mean_squared_error: 0.0242\n",
      "Epoch 17/256\n",
      "21/21 [==============================] - 0s 4ms/step - loss: 0.0220 - mean_squared_error: 0.0220 - val_loss: 0.0248 - val_mean_squared_error: 0.0248\n",
      "Epoch 18/256\n",
      "21/21 [==============================] - 0s 6ms/step - loss: 0.0228 - mean_squared_error: 0.0228 - val_loss: 0.0239 - val_mean_squared_error: 0.0239\n",
      "Epoch 19/256\n",
      "21/21 [==============================] - 0s 6ms/step - loss: 0.0241 - mean_squared_error: 0.0241 - val_loss: 0.0236 - val_mean_squared_error: 0.0236\n",
      "Epoch 20/256\n",
      "21/21 [==============================] - 0s 6ms/step - loss: 0.0235 - mean_squared_error: 0.0235 - val_loss: 0.0238 - val_mean_squared_error: 0.0238\n",
      "Epoch 21/256\n",
      "21/21 [==============================] - 0s 6ms/step - loss: 0.0246 - mean_squared_error: 0.0246 - val_loss: 0.0240 - val_mean_squared_error: 0.0240\n",
      "Epoch 22/256\n",
      "21/21 [==============================] - 0s 6ms/step - loss: 0.0270 - mean_squared_error: 0.0270 - val_loss: 0.0231 - val_mean_squared_error: 0.0231\n",
      "Epoch 23/256\n",
      "21/21 [==============================] - 0s 6ms/step - loss: 0.0273 - mean_squared_error: 0.0273 - val_loss: 0.0229 - val_mean_squared_error: 0.0229\n",
      "Epoch 24/256\n",
      "21/21 [==============================] - 0s 5ms/step - loss: 0.0274 - mean_squared_error: 0.0274 - val_loss: 0.0229 - val_mean_squared_error: 0.0229\n",
      "Epoch 25/256\n",
      "21/21 [==============================] - 0s 4ms/step - loss: 0.0246 - mean_squared_error: 0.0246 - val_loss: 0.0230 - val_mean_squared_error: 0.0230\n",
      "Epoch 26/256\n",
      "21/21 [==============================] - 0s 4ms/step - loss: 0.0231 - mean_squared_error: 0.0231 - val_loss: 0.0241 - val_mean_squared_error: 0.0241\n",
      "Epoch 27/256\n",
      "21/21 [==============================] - 0s 4ms/step - loss: 0.0260 - mean_squared_error: 0.0260 - val_loss: 0.0232 - val_mean_squared_error: 0.0232\n",
      "Epoch 28/256\n",
      "21/21 [==============================] - 0s 4ms/step - loss: 0.0287 - mean_squared_error: 0.0287 - val_loss: 0.0227 - val_mean_squared_error: 0.0227\n",
      "Epoch 29/256\n",
      "21/21 [==============================] - 0s 4ms/step - loss: 0.0213 - mean_squared_error: 0.0213 - val_loss: 0.0239 - val_mean_squared_error: 0.0239\n",
      "Epoch 30/256\n",
      "21/21 [==============================] - 0s 3ms/step - loss: 0.0210 - mean_squared_error: 0.0210 - val_loss: 0.0241 - val_mean_squared_error: 0.0241\n",
      "Epoch 31/256\n",
      "21/21 [==============================] - 0s 4ms/step - loss: 0.0258 - mean_squared_error: 0.0258 - val_loss: 0.0233 - val_mean_squared_error: 0.0233\n",
      "Epoch 32/256\n",
      "21/21 [==============================] - 0s 4ms/step - loss: 0.0228 - mean_squared_error: 0.0228 - val_loss: 0.0240 - val_mean_squared_error: 0.0240\n",
      "Epoch 33/256\n",
      "21/21 [==============================] - 0s 4ms/step - loss: 0.0226 - mean_squared_error: 0.0226 - val_loss: 0.0236 - val_mean_squared_error: 0.0236\n",
      "Epoch 34/256\n",
      "21/21 [==============================] - 0s 4ms/step - loss: 0.0218 - mean_squared_error: 0.0218 - val_loss: 0.0237 - val_mean_squared_error: 0.0237\n",
      "Epoch 35/256\n",
      "21/21 [==============================] - 0s 4ms/step - loss: 0.0236 - mean_squared_error: 0.0236 - val_loss: 0.0236 - val_mean_squared_error: 0.0236\n",
      "Epoch 36/256\n",
      "21/21 [==============================] - 0s 4ms/step - loss: 0.0241 - mean_squared_error: 0.0241 - val_loss: 0.0234 - val_mean_squared_error: 0.0234\n",
      "Epoch 37/256\n",
      "21/21 [==============================] - 0s 4ms/step - loss: 0.0213 - mean_squared_error: 0.0213 - val_loss: 0.0233 - val_mean_squared_error: 0.0233\n",
      "Epoch 38/256\n",
      "21/21 [==============================] - 0s 4ms/step - loss: 0.0231 - mean_squared_error: 0.0231 - val_loss: 0.0231 - val_mean_squared_error: 0.0231\n",
      "Epoch 39/256\n",
      "21/21 [==============================] - 0s 4ms/step - loss: 0.0213 - mean_squared_error: 0.0213 - val_loss: 0.0235 - val_mean_squared_error: 0.0235\n",
      "Epoch 40/256\n",
      "21/21 [==============================] - 0s 4ms/step - loss: 0.0227 - mean_squared_error: 0.0227 - val_loss: 0.0232 - val_mean_squared_error: 0.0232\n",
      "Epoch 41/256\n",
      "21/21 [==============================] - 0s 4ms/step - loss: 0.0250 - mean_squared_error: 0.0250 - val_loss: 0.0228 - val_mean_squared_error: 0.0228\n",
      "Epoch 42/256\n",
      "21/21 [==============================] - 0s 4ms/step - loss: 0.0260 - mean_squared_error: 0.0260 - val_loss: 0.0226 - val_mean_squared_error: 0.0226\n",
      "Epoch 43/256\n",
      "21/21 [==============================] - 0s 4ms/step - loss: 0.0232 - mean_squared_error: 0.0232 - val_loss: 0.0230 - val_mean_squared_error: 0.0230\n",
      "Epoch 44/256\n",
      "21/21 [==============================] - 0s 4ms/step - loss: 0.0223 - mean_squared_error: 0.0223 - val_loss: 0.0233 - val_mean_squared_error: 0.0233\n",
      "Epoch 45/256\n",
      "21/21 [==============================] - 0s 4ms/step - loss: 0.0219 - mean_squared_error: 0.0219 - val_loss: 0.0235 - val_mean_squared_error: 0.0235\n",
      "Epoch 46/256\n",
      "21/21 [==============================] - 0s 4ms/step - loss: 0.0211 - mean_squared_error: 0.0211 - val_loss: 0.0234 - val_mean_squared_error: 0.0234\n",
      "Epoch 47/256\n",
      "21/21 [==============================] - 0s 4ms/step - loss: 0.0217 - mean_squared_error: 0.0217 - val_loss: 0.0231 - val_mean_squared_error: 0.0231\n",
      "Epoch 48/256\n",
      "21/21 [==============================] - 0s 4ms/step - loss: 0.0221 - mean_squared_error: 0.0221 - val_loss: 0.0236 - val_mean_squared_error: 0.0236\n",
      "Epoch 49/256\n",
      "21/21 [==============================] - 0s 4ms/step - loss: 0.0215 - mean_squared_error: 0.0215 - val_loss: 0.0234 - val_mean_squared_error: 0.0234\n"
     ]
    }
   ],
   "source": [
    "wide_deep_0 = concatenate([output_crossed_0, deep_branch_3], axis=1)\n",
    "wide_deep_0 = Dense(units=1, kernel_initializer=initializer)(wide_deep_0)\n",
    "model = Model(inputs=[input_crossed_0, input_cat, input_num], outputs=wide_deep_0)\n",
    "model.compile(optimizer=optimizer, loss=loss, metrics=metrics)\n",
    "\n",
    "history = model.fit([X_train_crossed_0, X_train_cat, X_train_num], y_train,\n",
    "                    epochs=epochs, batch_size=batch_size, verbose=verbose, callbacks=callbacks,\n",
    "                    validation_data=([X_test_crossed_0, X_test_cat, X_test_num], y_test))"
   ]
  },
  {
   "cell_type": "code",
   "execution_count": 16,
   "metadata": {},
   "outputs": [
    {
     "data": {
      "text/plain": [
       "Text(0.5, 1.0, 'Validation')"
      ]
     },
     "execution_count": 16,
     "metadata": {},
     "output_type": "execute_result"
    },
    {
     "data": {
      "image/png": "[encoded data removed]",
      "text/plain": [
       "<Figure size 720x288 with 2 Axes>"
      ]
     },
     "metadata": {
      "needs_background": "light"
     },
     "output_type": "display_data"
    }
   ],
   "source": [
    "plt.figure(figsize=(10,4))\n",
    "plt.subplot(1,2,1)\n",
    "plt.yscale('log')\n",
    "plt.plot(history.history['mean_squared_error'])\n",
    "plt.ylabel('Mean Squared Error')\n",
    "\n",
    "plt.title('Training')\n",
    "plt.subplot(1,2,2)\n",
    "plt.yscale('log')\n",
    "plt.plot(history.history['val_mean_squared_error'])\n",
    "plt.title('Validation')"
   ]
  },
  {
   "cell_type": "code",
   "execution_count": 17,
   "metadata": {
    "scrolled": false
   },
   "outputs": [
    {
     "name": "stdout",
     "output_type": "stream",
     "text": [
      "('Failed to import pydot. You must `pip install pydot` and install graphviz (https://graphviz.gitlab.io/download/), ', 'for `pydotprint` to work.')\n"
     ]
    }
   ],
   "source": [
    "plot_model(\n",
    "    model, to_file='model.png', show_shapes=True, show_layer_names=True,\n",
    "    rankdir='LR', expand_nested=False, dpi=96\n",
    ")"
   ]
  },
  {
   "cell_type": "code",
   "execution_count": 18,
   "metadata": {
    "scrolled": true
   },
   "outputs": [
    {
     "name": "stdout",
     "output_type": "stream",
     "text": [
      "Epoch 1/256\n",
      "21/21 [==============================] - 1s 11ms/step - loss: 212.8490 - mean_squared_error: 212.8490 - val_loss: 151.2153 - val_mean_squared_error: 151.2153\n",
      "Epoch 2/256\n",
      "21/21 [==============================] - 0s 4ms/step - loss: 138.5149 - mean_squared_error: 138.5149 - val_loss: 106.2852 - val_mean_squared_error: 106.2852\n",
      "Epoch 3/256\n",
      "21/21 [==============================] - 0s 3ms/step - loss: 98.6867 - mean_squared_error: 98.6867 - val_loss: 76.8283 - val_mean_squared_error: 76.8283\n",
      "Epoch 4/256\n",
      "21/21 [==============================] - 0s 4ms/step - loss: 70.1738 - mean_squared_error: 70.1738 - val_loss: 49.5304 - val_mean_squared_error: 49.5304\n",
      "Epoch 5/256\n",
      "21/21 [==============================] - 0s 3ms/step - loss: 42.6388 - mean_squared_error: 42.6388 - val_loss: 21.9835 - val_mean_squared_error: 21.9835\n",
      "Epoch 6/256\n",
      "21/21 [==============================] - 0s 4ms/step - loss: 16.4636 - mean_squared_error: 16.4636 - val_loss: 3.4871 - val_mean_squared_error: 3.4871\n",
      "Epoch 7/256\n",
      "21/21 [==============================] - 0s 3ms/step - loss: 1.9249 - mean_squared_error: 1.9249 - val_loss: 0.0256 - val_mean_squared_error: 0.0256\n",
      "Epoch 8/256\n",
      "21/21 [==============================] - 0s 3ms/step - loss: 0.0576 - mean_squared_error: 0.0576 - val_loss: 0.0720 - val_mean_squared_error: 0.0720\n",
      "Epoch 9/256\n",
      "21/21 [==============================] - 0s 4ms/step - loss: 0.0507 - mean_squared_error: 0.0507 - val_loss: 0.0239 - val_mean_squared_error: 0.0239\n",
      "Epoch 10/256\n",
      "21/21 [==============================] - 0s 3ms/step - loss: 0.0264 - mean_squared_error: 0.0264 - val_loss: 0.0241 - val_mean_squared_error: 0.0241\n",
      "Epoch 11/256\n",
      "21/21 [==============================] - 0s 3ms/step - loss: 0.0236 - mean_squared_error: 0.0236 - val_loss: 0.0240 - val_mean_squared_error: 0.0240\n",
      "Epoch 12/256\n",
      "21/21 [==============================] - 0s 3ms/step - loss: 0.0278 - mean_squared_error: 0.0278 - val_loss: 0.0238 - val_mean_squared_error: 0.0238\n",
      "Epoch 13/256\n",
      "21/21 [==============================] - 0s 4ms/step - loss: 0.0218 - mean_squared_error: 0.0218 - val_loss: 0.0236 - val_mean_squared_error: 0.0236\n",
      "Epoch 14/256\n",
      "21/21 [==============================] - 0s 3ms/step - loss: 0.0251 - mean_squared_error: 0.0251 - val_loss: 0.0238 - val_mean_squared_error: 0.0238\n",
      "Epoch 15/256\n",
      "21/21 [==============================] - 0s 3ms/step - loss: 0.0222 - mean_squared_error: 0.0222 - val_loss: 0.0238 - val_mean_squared_error: 0.0238\n",
      "Epoch 16/256\n",
      "21/21 [==============================] - 0s 3ms/step - loss: 0.0234 - mean_squared_error: 0.0234 - val_loss: 0.0238 - val_mean_squared_error: 0.0238\n",
      "Epoch 17/256\n",
      "21/21 [==============================] - 0s 4ms/step - loss: 0.0241 - mean_squared_error: 0.0241 - val_loss: 0.0237 - val_mean_squared_error: 0.0237\n",
      "Epoch 18/256\n",
      "21/21 [==============================] - 0s 3ms/step - loss: 0.0229 - mean_squared_error: 0.0229 - val_loss: 0.0239 - val_mean_squared_error: 0.0239\n",
      "Epoch 19/256\n",
      "21/21 [==============================] - 0s 3ms/step - loss: 0.0268 - mean_squared_error: 0.0268 - val_loss: 0.0235 - val_mean_squared_error: 0.0235\n",
      "Epoch 20/256\n",
      "21/21 [==============================] - 0s 4ms/step - loss: 0.0232 - mean_squared_error: 0.0232 - val_loss: 0.0240 - val_mean_squared_error: 0.0240\n",
      "Epoch 21/256\n",
      "21/21 [==============================] - 0s 3ms/step - loss: 0.0228 - mean_squared_error: 0.0228 - val_loss: 0.0238 - val_mean_squared_error: 0.0238\n",
      "Epoch 22/256\n",
      "21/21 [==============================] - 0s 3ms/step - loss: 0.0217 - mean_squared_error: 0.0217 - val_loss: 0.0236 - val_mean_squared_error: 0.0236\n",
      "Epoch 23/256\n",
      "21/21 [==============================] - 0s 4ms/step - loss: 0.0212 - mean_squared_error: 0.0212 - val_loss: 0.0237 - val_mean_squared_error: 0.0237\n",
      "Epoch 24/256\n",
      "21/21 [==============================] - 0s 3ms/step - loss: 0.0221 - mean_squared_error: 0.0221 - val_loss: 0.0237 - val_mean_squared_error: 0.0237\n",
      "Epoch 25/256\n",
      "21/21 [==============================] - 0s 3ms/step - loss: 0.0275 - mean_squared_error: 0.0275 - val_loss: 0.0235 - val_mean_squared_error: 0.0235\n",
      "Epoch 26/256\n",
      "21/21 [==============================] - 0s 3ms/step - loss: 0.0270 - mean_squared_error: 0.0270 - val_loss: 0.0233 - val_mean_squared_error: 0.0233\n",
      "Epoch 27/256\n",
      "21/21 [==============================] - 0s 3ms/step - loss: 0.0214 - mean_squared_error: 0.0214 - val_loss: 0.0232 - val_mean_squared_error: 0.0232\n",
      "Epoch 28/256\n",
      "21/21 [==============================] - 0s 3ms/step - loss: 0.0233 - mean_squared_error: 0.0233 - val_loss: 0.0238 - val_mean_squared_error: 0.0238\n",
      "Epoch 29/256\n",
      "21/21 [==============================] - 0s 3ms/step - loss: 0.0219 - mean_squared_error: 0.0219 - val_loss: 0.0239 - val_mean_squared_error: 0.0239\n",
      "Epoch 30/256\n",
      "21/21 [==============================] - 0s 3ms/step - loss: 0.0292 - mean_squared_error: 0.0292 - val_loss: 0.0234 - val_mean_squared_error: 0.0234\n",
      "Epoch 31/256\n",
      "21/21 [==============================] - 0s 3ms/step - loss: 0.0226 - mean_squared_error: 0.0226 - val_loss: 0.0239 - val_mean_squared_error: 0.0239\n",
      "Epoch 32/256\n",
      "21/21 [==============================] - 0s 3ms/step - loss: 0.0214 - mean_squared_error: 0.0214 - val_loss: 0.0235 - val_mean_squared_error: 0.0235\n",
      "Epoch 33/256\n",
      "21/21 [==============================] - 0s 4ms/step - loss: 0.0241 - mean_squared_error: 0.0241 - val_loss: 0.0244 - val_mean_squared_error: 0.0244\n",
      "Epoch 34/256\n",
      "21/21 [==============================] - 0s 4ms/step - loss: 0.0250 - mean_squared_error: 0.0250 - val_loss: 0.0235 - val_mean_squared_error: 0.0235\n",
      "Epoch 35/256\n",
      "21/21 [==============================] - 0s 3ms/step - loss: 0.0218 - mean_squared_error: 0.0218 - val_loss: 0.0237 - val_mean_squared_error: 0.0237\n",
      "Epoch 36/256\n",
      "21/21 [==============================] - 0s 3ms/step - loss: 0.0231 - mean_squared_error: 0.0231 - val_loss: 0.0234 - val_mean_squared_error: 0.0234\n",
      "Epoch 37/256\n",
      "21/21 [==============================] - 0s 3ms/step - loss: 0.0239 - mean_squared_error: 0.0239 - val_loss: 0.0234 - val_mean_squared_error: 0.0234\n",
      "Epoch 38/256\n",
      "21/21 [==============================] - 0s 3ms/step - loss: 0.0295 - mean_squared_error: 0.0295 - val_loss: 0.0232 - val_mean_squared_error: 0.0232\n",
      "Epoch 39/256\n",
      "21/21 [==============================] - 0s 3ms/step - loss: 0.0212 - mean_squared_error: 0.0212 - val_loss: 0.0231 - val_mean_squared_error: 0.0231\n",
      "Epoch 40/256\n",
      "21/21 [==============================] - 0s 3ms/step - loss: 0.0246 - mean_squared_error: 0.0246 - val_loss: 0.0235 - val_mean_squared_error: 0.0235\n",
      "Epoch 41/256\n",
      "21/21 [==============================] - 0s 3ms/step - loss: 0.0250 - mean_squared_error: 0.0250 - val_loss: 0.0235 - val_mean_squared_error: 0.0235\n",
      "Epoch 42/256\n",
      "21/21 [==============================] - 0s 3ms/step - loss: 0.0235 - mean_squared_error: 0.0235 - val_loss: 0.0235 - val_mean_squared_error: 0.0235\n",
      "Epoch 43/256\n",
      "21/21 [==============================] - 0s 3ms/step - loss: 0.0230 - mean_squared_error: 0.0230 - val_loss: 0.0234 - val_mean_squared_error: 0.0234\n",
      "Epoch 44/256\n",
      "21/21 [==============================] - 0s 3ms/step - loss: 0.0276 - mean_squared_error: 0.0276 - val_loss: 0.0231 - val_mean_squared_error: 0.0231\n"
     ]
    }
   ],
   "source": [
    "wide_deep_1 = concatenate([output_crossed_1, deep_branch_3], axis=1)\n",
    "wide_deep_1 = Dense(units=1, kernel_initializer=initializer)(wide_deep_1)\n",
    "model = Model(inputs=[input_crossed_1, input_cat, input_num], outputs=wide_deep_1)\n",
    "model.compile(optimizer=optimizer, loss=loss, metrics=metrics)\n",
    "\n",
    "history = model.fit([X_train_crossed_1, X_train_cat, X_train_num], y_train,\n",
    "                    epochs=epochs, batch_size=batch_size, verbose=verbose, callbacks=callbacks,\n",
    "                    validation_data=([X_test_crossed_1, X_test_cat, X_test_num], y_test))"
   ]
  },
  {
   "cell_type": "code",
   "execution_count": 19,
   "metadata": {},
   "outputs": [
    {
     "data": {
      "text/plain": [
       "Text(0.5, 1.0, 'Validation')"
      ]
     },
     "execution_count": 19,
     "metadata": {},
     "output_type": "execute_result"
    },
    {
     "data": {
      "image/png": "[encoded data removed]",
      "text/plain": [
       "<Figure size 720x288 with 2 Axes>"
      ]
     },
     "metadata": {
      "needs_background": "light"
     },
     "output_type": "display_data"
    }
   ],
   "source": [
    "plt.figure(figsize=(10,4))\n",
    "plt.subplot(1,2,1)\n",
    "plt.yscale('log')\n",
    "plt.plot(history.history['mean_squared_error'])\n",
    "plt.ylabel('Mean Squared Error')\n",
    "\n",
    "plt.title('Training')\n",
    "plt.subplot(1,2,2)\n",
    "plt.yscale('log')\n",
    "plt.plot(history.history['val_mean_squared_error'])\n",
    "plt.title('Validation')"
   ]
  },
  {
   "cell_type": "code",
   "execution_count": 20,
   "metadata": {
    "scrolled": false
   },
   "outputs": [
    {
     "name": "stdout",
     "output_type": "stream",
     "text": [
      "('Failed to import pydot. You must `pip install pydot` and install graphviz (https://graphviz.gitlab.io/download/), ', 'for `pydotprint` to work.')\n"
     ]
    }
   ],
   "source": [
    "plot_model(\n",
    "    model, to_file='model.png', show_shapes=True, show_layer_names=True,\n",
    "    rankdir='LR', expand_nested=False, dpi=96\n",
    ")"
   ]
  },
  {
   "cell_type": "code",
   "execution_count": 21,
   "metadata": {
    "scrolled": true
   },
   "outputs": [
    {
     "name": "stdout",
     "output_type": "stream",
     "text": [
      "Epoch 1/256\n",
      "21/21 [==============================] - 1s 15ms/step - loss: 4.1215 - mean_squared_error: 4.1215 - val_loss: 0.5312 - val_mean_squared_error: 0.5312\n",
      "Epoch 2/256\n",
      "21/21 [==============================] - 0s 4ms/step - loss: 0.3414 - mean_squared_error: 0.3414 - val_loss: 0.0882 - val_mean_squared_error: 0.0882\n",
      "Epoch 3/256\n",
      "21/21 [==============================] - 0s 4ms/step - loss: 0.0634 - mean_squared_error: 0.0634 - val_loss: 0.0325 - val_mean_squared_error: 0.0325\n",
      "Epoch 4/256\n",
      "21/21 [==============================] - 0s 4ms/step - loss: 0.0288 - mean_squared_error: 0.0288 - val_loss: 0.0233 - val_mean_squared_error: 0.0233\n",
      "Epoch 5/256\n",
      "21/21 [==============================] - 0s 4ms/step - loss: 0.0222 - mean_squared_error: 0.0222 - val_loss: 0.0235 - val_mean_squared_error: 0.0235\n",
      "Epoch 6/256\n",
      "21/21 [==============================] - 0s 4ms/step - loss: 0.0223 - mean_squared_error: 0.0223 - val_loss: 0.0242 - val_mean_squared_error: 0.0242\n",
      "Epoch 7/256\n",
      "21/21 [==============================] - 0s 3ms/step - loss: 0.0254 - mean_squared_error: 0.0254 - val_loss: 0.0232 - val_mean_squared_error: 0.0232\n",
      "Epoch 8/256\n",
      "21/21 [==============================] - 0s 4ms/step - loss: 0.0216 - mean_squared_error: 0.0216 - val_loss: 0.0241 - val_mean_squared_error: 0.0241\n",
      "Epoch 9/256\n",
      "21/21 [==============================] - 0s 3ms/step - loss: 0.0217 - mean_squared_error: 0.0217 - val_loss: 0.0228 - val_mean_squared_error: 0.0228\n",
      "Epoch 10/256\n",
      "21/21 [==============================] - 0s 4ms/step - loss: 0.0303 - mean_squared_error: 0.0303 - val_loss: 0.0242 - val_mean_squared_error: 0.0242\n",
      "Epoch 11/256\n",
      "21/21 [==============================] - 0s 4ms/step - loss: 0.0232 - mean_squared_error: 0.0232 - val_loss: 0.0232 - val_mean_squared_error: 0.0232\n",
      "Epoch 12/256\n",
      "21/21 [==============================] - 0s 4ms/step - loss: 0.0216 - mean_squared_error: 0.0216 - val_loss: 0.0243 - val_mean_squared_error: 0.0243\n",
      "Epoch 13/256\n",
      "21/21 [==============================] - 0s 4ms/step - loss: 0.0234 - mean_squared_error: 0.0234 - val_loss: 0.0232 - val_mean_squared_error: 0.0232\n",
      "Epoch 14/256\n",
      "21/21 [==============================] - 0s 4ms/step - loss: 0.0264 - mean_squared_error: 0.0264 - val_loss: 0.0226 - val_mean_squared_error: 0.0226\n",
      "Epoch 15/256\n",
      "21/21 [==============================] - 0s 3ms/step - loss: 0.0212 - mean_squared_error: 0.0212 - val_loss: 0.0246 - val_mean_squared_error: 0.0246\n",
      "Epoch 16/256\n",
      "21/21 [==============================] - 0s 3ms/step - loss: 0.0248 - mean_squared_error: 0.0248 - val_loss: 0.0234 - val_mean_squared_error: 0.0234\n",
      "Epoch 17/256\n",
      "21/21 [==============================] - 0s 3ms/step - loss: 0.0216 - mean_squared_error: 0.0216 - val_loss: 0.0233 - val_mean_squared_error: 0.0233\n",
      "Epoch 18/256\n",
      "21/21 [==============================] - 0s 3ms/step - loss: 0.0255 - mean_squared_error: 0.0255 - val_loss: 0.0227 - val_mean_squared_error: 0.0227\n",
      "Epoch 19/256\n",
      "21/21 [==============================] - 0s 3ms/step - loss: 0.0233 - mean_squared_error: 0.0233 - val_loss: 0.0227 - val_mean_squared_error: 0.0227\n",
      "Epoch 20/256\n",
      "21/21 [==============================] - 0s 3ms/step - loss: 0.0232 - mean_squared_error: 0.0232 - val_loss: 0.0230 - val_mean_squared_error: 0.0230\n",
      "Epoch 21/256\n",
      "21/21 [==============================] - 0s 3ms/step - loss: 0.0203 - mean_squared_error: 0.0203 - val_loss: 0.0250 - val_mean_squared_error: 0.0250\n",
      "Epoch 22/256\n",
      "21/21 [==============================] - 0s 3ms/step - loss: 0.0232 - mean_squared_error: 0.0232 - val_loss: 0.0235 - val_mean_squared_error: 0.0235\n",
      "Epoch 23/256\n",
      "21/21 [==============================] - 0s 3ms/step - loss: 0.0262 - mean_squared_error: 0.0262 - val_loss: 0.0224 - val_mean_squared_error: 0.0224\n",
      "Epoch 24/256\n",
      "21/21 [==============================] - 0s 3ms/step - loss: 0.0218 - mean_squared_error: 0.0218 - val_loss: 0.0235 - val_mean_squared_error: 0.0235\n",
      "Epoch 25/256\n",
      "21/21 [==============================] - 0s 3ms/step - loss: 0.0214 - mean_squared_error: 0.0214 - val_loss: 0.0239 - val_mean_squared_error: 0.0239\n",
      "Epoch 26/256\n",
      "21/21 [==============================] - 0s 4ms/step - loss: 0.0207 - mean_squared_error: 0.0207 - val_loss: 0.0237 - val_mean_squared_error: 0.0237\n",
      "Epoch 27/256\n",
      "21/21 [==============================] - 0s 3ms/step - loss: 0.0210 - mean_squared_error: 0.0210 - val_loss: 0.0242 - val_mean_squared_error: 0.0242\n",
      "Epoch 28/256\n",
      "21/21 [==============================] - 0s 3ms/step - loss: 0.0214 - mean_squared_error: 0.0214 - val_loss: 0.0236 - val_mean_squared_error: 0.0236\n",
      "Epoch 29/256\n",
      "21/21 [==============================] - 0s 3ms/step - loss: 0.0259 - mean_squared_error: 0.0259 - val_loss: 0.0225 - val_mean_squared_error: 0.0225\n",
      "Epoch 30/256\n",
      "21/21 [==============================] - 0s 3ms/step - loss: 0.0217 - mean_squared_error: 0.0217 - val_loss: 0.0234 - val_mean_squared_error: 0.0234\n",
      "Epoch 31/256\n",
      "21/21 [==============================] - 0s 3ms/step - loss: 0.0208 - mean_squared_error: 0.0208 - val_loss: 0.0233 - val_mean_squared_error: 0.0233\n",
      "Epoch 32/256\n",
      "21/21 [==============================] - 0s 3ms/step - loss: 0.0226 - mean_squared_error: 0.0226 - val_loss: 0.0238 - val_mean_squared_error: 0.0238\n",
      "Epoch 33/256\n",
      "21/21 [==============================] - 0s 3ms/step - loss: 0.0272 - mean_squared_error: 0.0272 - val_loss: 0.0228 - val_mean_squared_error: 0.0228\n",
      "Epoch 34/256\n",
      "21/21 [==============================] - 0s 3ms/step - loss: 0.0229 - mean_squared_error: 0.0229 - val_loss: 0.0232 - val_mean_squared_error: 0.0232\n",
      "Epoch 35/256\n",
      "21/21 [==============================] - 0s 3ms/step - loss: 0.0219 - mean_squared_error: 0.0219 - val_loss: 0.0238 - val_mean_squared_error: 0.0238\n",
      "Epoch 36/256\n",
      "21/21 [==============================] - 0s 3ms/step - loss: 0.0208 - mean_squared_error: 0.0208 - val_loss: 0.0250 - val_mean_squared_error: 0.0250\n",
      "Epoch 37/256\n",
      "21/21 [==============================] - 0s 3ms/step - loss: 0.0227 - mean_squared_error: 0.0227 - val_loss: 0.0237 - val_mean_squared_error: 0.0237\n"
     ]
    }
   ],
   "source": [
    "wide_deep_2 = concatenate([output_crossed_2, deep_branch_3], axis=1)\n",
    "wide_deep_2 = Dense(units=1, kernel_initializer=initializer)(wide_deep_2)\n",
    "model = Model(inputs=[input_crossed_2, input_cat, input_num], outputs=wide_deep_2)\n",
    "model.compile(optimizer=optimizer, loss=loss, metrics=metrics)\n",
    "\n",
    "history = model.fit([X_train_crossed_2, X_train_cat, X_train_num], y_train,\n",
    "                    epochs=epochs, batch_size=batch_size, verbose=verbose, callbacks=callbacks,\n",
    "                    validation_data=([X_test_crossed_2, X_test_cat, X_test_num], y_test))"
   ]
  },
  {
   "cell_type": "code",
   "execution_count": 22,
   "metadata": {
    "scrolled": true
   },
   "outputs": [
    {
     "data": {
      "text/plain": [
       "Text(0.5, 1.0, 'Validation')"
      ]
     },
     "execution_count": 22,
     "metadata": {},
     "output_type": "execute_result"
    },
    {
     "data": {
      "image/png": "[encoded data removed]",
      "text/plain": [
       "<Figure size 720x288 with 2 Axes>"
      ]
     },
     "metadata": {
      "needs_background": "light"
     },
     "output_type": "display_data"
    }
   ],
   "source": [
    "plt.figure(figsize=(10,4))\n",
    "plt.subplot(1,2,1)\n",
    "plt.yscale('log')\n",
    "plt.plot(history.history['mean_squared_error'])\n",
    "plt.ylabel('Mean Squared Error')\n",
    "\n",
    "plt.title('Training')\n",
    "plt.subplot(1,2,2)\n",
    "plt.yscale('log')\n",
    "plt.plot(history.history['val_mean_squared_error'])\n",
    "plt.title('Validation')"
   ]
  },
  {
   "cell_type": "code",
   "execution_count": 23,
   "metadata": {
    "scrolled": true
   },
   "outputs": [
    {
     "name": "stdout",
     "output_type": "stream",
     "text": [
      "('Failed to import pydot. You must `pip install pydot` and install graphviz (https://graphviz.gitlab.io/download/), ', 'for `pydotprint` to work.')\n"
     ]
    }
   ],
   "source": [
    "plot_model(\n",
    "    model, to_file='model.png', show_shapes=True, show_layer_names=True,\n",
    "    rankdir='LR', expand_nested=False, dpi=96\n",
    ")"
   ]
  },
  {
   "cell_type": "code",
   "execution_count": 24,
   "metadata": {
    "scrolled": true
   },
   "outputs": [
    {
     "name": "stdout",
     "output_type": "stream",
     "text": [
      "Epoch 1/256\n",
      "21/21 [==============================] - 1s 10ms/step - loss: 82.5104 - mean_squared_error: 82.5104 - val_loss: 30.8120 - val_mean_squared_error: 30.8120\n",
      "Epoch 2/256\n",
      "21/21 [==============================] - 0s 4ms/step - loss: 20.1800 - mean_squared_error: 20.1800 - val_loss: 0.7699 - val_mean_squared_error: 0.7699\n",
      "Epoch 3/256\n",
      "21/21 [==============================] - 0s 3ms/step - loss: 0.3451 - mean_squared_error: 0.3451 - val_loss: 0.4528 - val_mean_squared_error: 0.4528\n",
      "Epoch 4/256\n",
      "21/21 [==============================] - 0s 3ms/step - loss: 0.2643 - mean_squared_error: 0.2643 - val_loss: 0.0330 - val_mean_squared_error: 0.0330\n",
      "Epoch 5/256\n",
      "21/21 [==============================] - 0s 3ms/step - loss: 0.0426 - mean_squared_error: 0.0426 - val_loss: 0.0245 - val_mean_squared_error: 0.0245\n",
      "Epoch 6/256\n",
      "21/21 [==============================] - 0s 4ms/step - loss: 0.0261 - mean_squared_error: 0.0261 - val_loss: 0.0244 - val_mean_squared_error: 0.0244\n",
      "Epoch 7/256\n",
      "21/21 [==============================] - 0s 3ms/step - loss: 0.0276 - mean_squared_error: 0.0276 - val_loss: 0.0234 - val_mean_squared_error: 0.0234\n",
      "Epoch 8/256\n",
      "21/21 [==============================] - 0s 4ms/step - loss: 0.0228 - mean_squared_error: 0.0228 - val_loss: 0.0239 - val_mean_squared_error: 0.0239\n",
      "Epoch 9/256\n",
      "21/21 [==============================] - 0s 6ms/step - loss: 0.0237 - mean_squared_error: 0.0237 - val_loss: 0.0238 - val_mean_squared_error: 0.0238\n",
      "Epoch 10/256\n",
      "21/21 [==============================] - 0s 6ms/step - loss: 0.0227 - mean_squared_error: 0.0227 - val_loss: 0.0234 - val_mean_squared_error: 0.0234\n",
      "Epoch 11/256\n",
      "21/21 [==============================] - 0s 6ms/step - loss: 0.0212 - mean_squared_error: 0.0212 - val_loss: 0.0241 - val_mean_squared_error: 0.0241\n",
      "Epoch 12/256\n",
      "21/21 [==============================] - 0s 4ms/step - loss: 0.0226 - mean_squared_error: 0.0226 - val_loss: 0.0235 - val_mean_squared_error: 0.0235\n",
      "Epoch 13/256\n",
      "21/21 [==============================] - 0s 4ms/step - loss: 0.0266 - mean_squared_error: 0.0266 - val_loss: 0.0232 - val_mean_squared_error: 0.0232\n",
      "Epoch 14/256\n",
      "21/21 [==============================] - 0s 4ms/step - loss: 0.0227 - mean_squared_error: 0.0227 - val_loss: 0.0230 - val_mean_squared_error: 0.0230\n",
      "Epoch 15/256\n",
      "21/21 [==============================] - 0s 4ms/step - loss: 0.0238 - mean_squared_error: 0.0238 - val_loss: 0.0233 - val_mean_squared_error: 0.0233\n",
      "Epoch 16/256\n",
      "21/21 [==============================] - 0s 4ms/step - loss: 0.0214 - mean_squared_error: 0.0214 - val_loss: 0.0229 - val_mean_squared_error: 0.0229\n",
      "Epoch 17/256\n",
      "21/21 [==============================] - 0s 4ms/step - loss: 0.0221 - mean_squared_error: 0.0221 - val_loss: 0.0232 - val_mean_squared_error: 0.0232\n",
      "Epoch 18/256\n",
      "21/21 [==============================] - 0s 4ms/step - loss: 0.0223 - mean_squared_error: 0.0223 - val_loss: 0.0231 - val_mean_squared_error: 0.0231\n",
      "Epoch 19/256\n",
      "21/21 [==============================] - 0s 4ms/step - loss: 0.0243 - mean_squared_error: 0.0243 - val_loss: 0.0231 - val_mean_squared_error: 0.0231\n",
      "Epoch 20/256\n",
      "21/21 [==============================] - 0s 4ms/step - loss: 0.0240 - mean_squared_error: 0.0240 - val_loss: 0.0235 - val_mean_squared_error: 0.0235\n",
      "Epoch 21/256\n",
      "21/21 [==============================] - 0s 4ms/step - loss: 0.0227 - mean_squared_error: 0.0227 - val_loss: 0.0228 - val_mean_squared_error: 0.0228\n",
      "Epoch 22/256\n",
      "21/21 [==============================] - 0s 4ms/step - loss: 0.0282 - mean_squared_error: 0.0282 - val_loss: 0.0225 - val_mean_squared_error: 0.0225\n",
      "Epoch 23/256\n",
      "21/21 [==============================] - 0s 3ms/step - loss: 0.0233 - mean_squared_error: 0.0233 - val_loss: 0.0227 - val_mean_squared_error: 0.0227\n",
      "Epoch 24/256\n",
      "21/21 [==============================] - 0s 4ms/step - loss: 0.0232 - mean_squared_error: 0.0232 - val_loss: 0.0226 - val_mean_squared_error: 0.0226\n",
      "Epoch 25/256\n",
      "21/21 [==============================] - 0s 3ms/step - loss: 0.0229 - mean_squared_error: 0.0229 - val_loss: 0.0232 - val_mean_squared_error: 0.0232\n",
      "Epoch 26/256\n",
      "21/21 [==============================] - 0s 4ms/step - loss: 0.0223 - mean_squared_error: 0.0223 - val_loss: 0.0227 - val_mean_squared_error: 0.0227\n",
      "Epoch 27/256\n",
      "21/21 [==============================] - 0s 4ms/step - loss: 0.0210 - mean_squared_error: 0.0210 - val_loss: 0.0230 - val_mean_squared_error: 0.0230\n",
      "Epoch 28/256\n",
      "21/21 [==============================] - 0s 3ms/step - loss: 0.0217 - mean_squared_error: 0.0217 - val_loss: 0.0230 - val_mean_squared_error: 0.0230\n",
      "Epoch 29/256\n",
      "21/21 [==============================] - 0s 4ms/step - loss: 0.0216 - mean_squared_error: 0.0216 - val_loss: 0.0226 - val_mean_squared_error: 0.0226\n",
      "Epoch 30/256\n",
      "21/21 [==============================] - 0s 3ms/step - loss: 0.0214 - mean_squared_error: 0.0214 - val_loss: 0.0231 - val_mean_squared_error: 0.0231\n",
      "Epoch 31/256\n",
      "21/21 [==============================] - 0s 4ms/step - loss: 0.0228 - mean_squared_error: 0.0228 - val_loss: 0.0235 - val_mean_squared_error: 0.0235\n",
      "Epoch 32/256\n",
      "21/21 [==============================] - 0s 3ms/step - loss: 0.0208 - mean_squared_error: 0.0208 - val_loss: 0.0229 - val_mean_squared_error: 0.0229\n",
      "Epoch 33/256\n",
      "21/21 [==============================] - 0s 4ms/step - loss: 0.0225 - mean_squared_error: 0.0225 - val_loss: 0.0228 - val_mean_squared_error: 0.0228\n",
      "Epoch 34/256\n",
      "21/21 [==============================] - 0s 4ms/step - loss: 0.0280 - mean_squared_error: 0.0280 - val_loss: 0.0223 - val_mean_squared_error: 0.0223\n",
      "Epoch 35/256\n",
      "21/21 [==============================] - 0s 3ms/step - loss: 0.0227 - mean_squared_error: 0.0227 - val_loss: 0.0223 - val_mean_squared_error: 0.0223\n",
      "Epoch 36/256\n",
      "21/21 [==============================] - 0s 4ms/step - loss: 0.0198 - mean_squared_error: 0.0198 - val_loss: 0.0227 - val_mean_squared_error: 0.0227\n",
      "Epoch 37/256\n",
      "21/21 [==============================] - 0s 3ms/step - loss: 0.0263 - mean_squared_error: 0.0263 - val_loss: 0.0224 - val_mean_squared_error: 0.0224\n",
      "Epoch 38/256\n",
      "21/21 [==============================] - 0s 4ms/step - loss: 0.0236 - mean_squared_error: 0.0236 - val_loss: 0.0220 - val_mean_squared_error: 0.0220\n",
      "Epoch 39/256\n",
      "21/21 [==============================] - 0s 4ms/step - loss: 0.0203 - mean_squared_error: 0.0203 - val_loss: 0.0229 - val_mean_squared_error: 0.0229\n",
      "Epoch 40/256\n",
      "21/21 [==============================] - 0s 3ms/step - loss: 0.0202 - mean_squared_error: 0.0202 - val_loss: 0.0227 - val_mean_squared_error: 0.0227\n",
      "Epoch 41/256\n",
      "21/21 [==============================] - 0s 3ms/step - loss: 0.0210 - mean_squared_error: 0.0210 - val_loss: 0.0233 - val_mean_squared_error: 0.0233\n",
      "Epoch 42/256\n",
      "21/21 [==============================] - 0s 3ms/step - loss: 0.0227 - mean_squared_error: 0.0227 - val_loss: 0.0229 - val_mean_squared_error: 0.0229\n",
      "Epoch 43/256\n",
      "21/21 [==============================] - 0s 3ms/step - loss: 0.0234 - mean_squared_error: 0.0234 - val_loss: 0.0220 - val_mean_squared_error: 0.0220\n",
      "Epoch 44/256\n",
      "21/21 [==============================] - 0s 4ms/step - loss: 0.0197 - mean_squared_error: 0.0197 - val_loss: 0.0223 - val_mean_squared_error: 0.0223\n",
      "Epoch 45/256\n",
      "21/21 [==============================] - 0s 3ms/step - loss: 0.0213 - mean_squared_error: 0.0213 - val_loss: 0.0241 - val_mean_squared_error: 0.0241\n",
      "Epoch 46/256\n",
      "21/21 [==============================] - 0s 4ms/step - loss: 0.0224 - mean_squared_error: 0.0224 - val_loss: 0.0229 - val_mean_squared_error: 0.0229\n",
      "Epoch 47/256\n",
      "21/21 [==============================] - 0s 4ms/step - loss: 0.0194 - mean_squared_error: 0.0194 - val_loss: 0.0229 - val_mean_squared_error: 0.0229\n",
      "Epoch 48/256\n",
      "21/21 [==============================] - 0s 4ms/step - loss: 0.0222 - mean_squared_error: 0.0222 - val_loss: 0.0229 - val_mean_squared_error: 0.0229\n",
      "Epoch 49/256\n",
      "21/21 [==============================] - 0s 4ms/step - loss: 0.0211 - mean_squared_error: 0.0211 - val_loss: 0.0225 - val_mean_squared_error: 0.0225\n",
      "Epoch 50/256\n",
      "21/21 [==============================] - 0s 4ms/step - loss: 0.0199 - mean_squared_error: 0.0199 - val_loss: 0.0222 - val_mean_squared_error: 0.0222\n",
      "Epoch 51/256\n"
     ]
    },
    {
     "name": "stdout",
     "output_type": "stream",
     "text": [
      "21/21 [==============================] - 0s 4ms/step - loss: 0.0217 - mean_squared_error: 0.0217 - val_loss: 0.0226 - val_mean_squared_error: 0.0226\n",
      "Epoch 52/256\n",
      "21/21 [==============================] - 0s 4ms/step - loss: 0.0197 - mean_squared_error: 0.0197 - val_loss: 0.0219 - val_mean_squared_error: 0.0219\n",
      "Epoch 53/256\n",
      "21/21 [==============================] - 0s 4ms/step - loss: 0.0218 - mean_squared_error: 0.0218 - val_loss: 0.0234 - val_mean_squared_error: 0.0234\n",
      "Epoch 54/256\n",
      "21/21 [==============================] - 0s 4ms/step - loss: 0.0242 - mean_squared_error: 0.0242 - val_loss: 0.0226 - val_mean_squared_error: 0.0226\n",
      "Epoch 55/256\n",
      "21/21 [==============================] - 0s 4ms/step - loss: 0.0240 - mean_squared_error: 0.0240 - val_loss: 0.0219 - val_mean_squared_error: 0.0219\n",
      "Epoch 56/256\n",
      "21/21 [==============================] - 0s 4ms/step - loss: 0.0204 - mean_squared_error: 0.0204 - val_loss: 0.0228 - val_mean_squared_error: 0.0228\n",
      "Epoch 57/256\n",
      "21/21 [==============================] - 0s 4ms/step - loss: 0.0204 - mean_squared_error: 0.0204 - val_loss: 0.0227 - val_mean_squared_error: 0.0227\n",
      "Epoch 58/256\n",
      "21/21 [==============================] - 0s 4ms/step - loss: 0.0199 - mean_squared_error: 0.0199 - val_loss: 0.0238 - val_mean_squared_error: 0.0238\n",
      "Epoch 59/256\n",
      "21/21 [==============================] - 0s 4ms/step - loss: 0.0210 - mean_squared_error: 0.0210 - val_loss: 0.0228 - val_mean_squared_error: 0.0228\n",
      "Epoch 60/256\n",
      "21/21 [==============================] - 0s 4ms/step - loss: 0.0218 - mean_squared_error: 0.0218 - val_loss: 0.0223 - val_mean_squared_error: 0.0223\n",
      "Epoch 61/256\n",
      "21/21 [==============================] - 0s 4ms/step - loss: 0.0206 - mean_squared_error: 0.0206 - val_loss: 0.0225 - val_mean_squared_error: 0.0225\n",
      "Epoch 62/256\n",
      "21/21 [==============================] - 0s 4ms/step - loss: 0.0194 - mean_squared_error: 0.0194 - val_loss: 0.0222 - val_mean_squared_error: 0.0222\n",
      "Epoch 63/256\n",
      "21/21 [==============================] - 0s 4ms/step - loss: 0.0211 - mean_squared_error: 0.0211 - val_loss: 0.0233 - val_mean_squared_error: 0.0233\n",
      "Epoch 64/256\n",
      "21/21 [==============================] - 0s 4ms/step - loss: 0.0242 - mean_squared_error: 0.0242 - val_loss: 0.0222 - val_mean_squared_error: 0.0222\n",
      "Epoch 65/256\n",
      "21/21 [==============================] - 0s 4ms/step - loss: 0.0192 - mean_squared_error: 0.0192 - val_loss: 0.0230 - val_mean_squared_error: 0.0230\n",
      "Epoch 66/256\n",
      "21/21 [==============================] - 0s 4ms/step - loss: 0.0213 - mean_squared_error: 0.0213 - val_loss: 0.0227 - val_mean_squared_error: 0.0227\n",
      "Epoch 67/256\n",
      "21/21 [==============================] - 0s 4ms/step - loss: 0.0231 - mean_squared_error: 0.0231 - val_loss: 0.0217 - val_mean_squared_error: 0.0217\n",
      "Epoch 68/256\n",
      "21/21 [==============================] - 0s 3ms/step - loss: 0.0213 - mean_squared_error: 0.0213 - val_loss: 0.0219 - val_mean_squared_error: 0.0219\n",
      "Epoch 69/256\n",
      "21/21 [==============================] - 0s 4ms/step - loss: 0.0217 - mean_squared_error: 0.0217 - val_loss: 0.0226 - val_mean_squared_error: 0.0226\n",
      "Epoch 70/256\n",
      "21/21 [==============================] - 0s 4ms/step - loss: 0.0229 - mean_squared_error: 0.0229 - val_loss: 0.0222 - val_mean_squared_error: 0.0222\n",
      "Epoch 71/256\n",
      "21/21 [==============================] - 0s 4ms/step - loss: 0.0206 - mean_squared_error: 0.0206 - val_loss: 0.0219 - val_mean_squared_error: 0.0219\n",
      "Epoch 72/256\n",
      "21/21 [==============================] - 0s 4ms/step - loss: 0.0229 - mean_squared_error: 0.0229 - val_loss: 0.0225 - val_mean_squared_error: 0.0225\n",
      "Epoch 73/256\n",
      "21/21 [==============================] - 0s 4ms/step - loss: 0.0205 - mean_squared_error: 0.0205 - val_loss: 0.0226 - val_mean_squared_error: 0.0226\n",
      "Epoch 74/256\n",
      "21/21 [==============================] - 0s 5ms/step - loss: 0.0236 - mean_squared_error: 0.0236 - val_loss: 0.0223 - val_mean_squared_error: 0.0223\n",
      "Epoch 75/256\n",
      "21/21 [==============================] - 0s 6ms/step - loss: 0.0234 - mean_squared_error: 0.0234 - val_loss: 0.0218 - val_mean_squared_error: 0.0218\n"
     ]
    }
   ],
   "source": [
    "wide_deep = concatenate([wide_branch, deep_branch_3], axis=1)\n",
    "wide_deep = Dense(units=1, kernel_initializer=initializer)(wide_deep)\n",
    "model = Model(inputs=[input_crossed, input_cat, input_num], outputs=wide_deep)\n",
    "model.compile(optimizer=optimizer, loss=loss, metrics=metrics)\n",
    "\n",
    "history = model.fit([X_train_crossed, X_train_cat, X_train_num], y_train,\n",
    "                    epochs=epochs, batch_size=batch_size, verbose=verbose, callbacks=callbacks,\n",
    "                    validation_data=([X_test_crossed, X_test_cat, X_test_num], y_test))"
   ]
  },
  {
   "cell_type": "code",
   "execution_count": 25,
   "metadata": {},
   "outputs": [
    {
     "data": {
      "text/plain": [
       "Text(0.5, 1.0, 'Validation')"
      ]
     },
     "execution_count": 25,
     "metadata": {},
     "output_type": "execute_result"
    },
    {
     "data": {
      "image/png": "[encoded data removed]",
      "text/plain": [
       "<Figure size 720x288 with 2 Axes>"
      ]
     },
     "metadata": {
      "needs_background": "light"
     },
     "output_type": "display_data"
    }
   ],
   "source": [
    "plt.figure(figsize=(10,4))\n",
    "plt.subplot(1,2,1)\n",
    "plt.yscale('log')\n",
    "plt.plot(history.history['mean_squared_error'])\n",
    "plt.ylabel('Mean Squared Error')\n",
    "\n",
    "plt.title('Training')\n",
    "plt.subplot(1,2,2)\n",
    "plt.yscale('log')\n",
    "plt.plot(history.history['val_mean_squared_error'])\n",
    "plt.title('Validation')"
   ]
  },
  {
   "cell_type": "code",
   "execution_count": 26,
   "metadata": {
    "scrolled": true
   },
   "outputs": [
    {
     "name": "stdout",
     "output_type": "stream",
     "text": [
      "('Failed to import pydot. You must `pip install pydot` and install graphviz (https://graphviz.gitlab.io/download/), ', 'for `pydotprint` to work.')\n"
     ]
    }
   ],
   "source": [
    "plot_model(\n",
    "    model, to_file='model.png', show_shapes=True, show_layer_names=True,\n",
    "    rankdir='LR', expand_nested=False, dpi=96\n",
    ")"
   ]
  },
  {
   "cell_type": "markdown",
   "metadata": {},
   "source": [
    "### Altering the Number of Layers"
   ]
  },
  {
   "cell_type": "markdown",
   "metadata": {},
   "source": [
    "#### Cross Validation"
   ]
  },
  {
   "cell_type": "code",
   "execution_count": 27,
   "metadata": {
    "scrolled": true
   },
   "outputs": [
    {
     "name": "stdout",
     "output_type": "stream",
     "text": [
      "SCORE FOR MODEL 0 FOLD 0: MSE = 0.01934)\n",
      "SCORE FOR MODEL 0 FOLD 1: MSE = 0.01878)\n",
      "SCORE FOR MODEL 0 FOLD 2: MSE = 0.0181)\n",
      "SCORE FOR MODEL 0 FOLD 3: MSE = 0.04228)\n",
      "SCORE FOR MODEL 0 FOLD 4: MSE = 0.02047)\n",
      "SCORE FOR MODEL 0 FOLD 5: MSE = 0.0219)\n",
      "SCORE FOR MODEL 0 FOLD 6: MSE = 0.01828)\n",
      "SCORE FOR MODEL 0 FOLD 7: MSE = 0.02224)\n",
      "SCORE FOR MODEL 0 FOLD 8: MSE = 0.02255)\n",
      "SCORE FOR MODEL 0 FOLD 9: MSE = 0.01969)\n",
      "MEAN SCORE FOR MODEL 0: MSE = 0.02236\n",
      "SCORE FOR MODEL 1 FOLD 0: MSE = 0.01933)\n",
      "SCORE FOR MODEL 1 FOLD 1: MSE = 0.0189)\n",
      "SCORE FOR MODEL 1 FOLD 2: MSE = 0.01813)\n",
      "SCORE FOR MODEL 1 FOLD 3: MSE = 0.04294)\n",
      "SCORE FOR MODEL 1 FOLD 4: MSE = 0.01934)\n",
      "SCORE FOR MODEL 1 FOLD 5: MSE = 0.02152)\n",
      "SCORE FOR MODEL 1 FOLD 6: MSE = 0.01769)\n",
      "SCORE FOR MODEL 1 FOLD 7: MSE = 0.0222)\n",
      "SCORE FOR MODEL 1 FOLD 8: MSE = 0.02157)\n",
      "SCORE FOR MODEL 1 FOLD 9: MSE = 0.01991)\n",
      "MEAN SCORE FOR MODEL 1: MSE = 0.02215\n",
      "SCORE FOR MODEL 2 FOLD 0: MSE = 0.01947)\n",
      "SCORE FOR MODEL 2 FOLD 1: MSE = 0.01884)\n",
      "SCORE FOR MODEL 2 FOLD 2: MSE = 0.01798)\n",
      "SCORE FOR MODEL 2 FOLD 3: MSE = 0.04271)\n",
      "SCORE FOR MODEL 2 FOLD 4: MSE = 0.01966)\n",
      "SCORE FOR MODEL 2 FOLD 5: MSE = 0.02137)\n",
      "SCORE FOR MODEL 2 FOLD 6: MSE = 0.01792)\n",
      "SCORE FOR MODEL 2 FOLD 7: MSE = 0.02246)\n",
      "SCORE FOR MODEL 2 FOLD 8: MSE = 0.0217)\n",
      "SCORE FOR MODEL 2 FOLD 9: MSE = 0.0201)\n",
      "MEAN SCORE FOR MODEL 2: MSE = 0.02222\n",
      "SCORE FOR MODEL 3 FOLD 0: MSE = 0.03435)\n",
      "SCORE FOR MODEL 3 FOLD 1: MSE = 0.01922)\n",
      "SCORE FOR MODEL 3 FOLD 2: MSE = 0.01893)\n",
      "SCORE FOR MODEL 3 FOLD 3: MSE = 0.04391)\n",
      "SCORE FOR MODEL 3 FOLD 4: MSE = 0.01973)\n",
      "SCORE FOR MODEL 3 FOLD 5: MSE = 0.02141)\n",
      "SCORE FOR MODEL 3 FOLD 6: MSE = 0.01845)\n",
      "SCORE FOR MODEL 3 FOLD 7: MSE = 0.02648)\n",
      "SCORE FOR MODEL 3 FOLD 8: MSE = 0.02264)\n",
      "SCORE FOR MODEL 3 FOLD 9: MSE = 0.01957)\n",
      "MEAN SCORE FOR MODEL 3: MSE = 0.02447\n"
     ]
    }
   ],
   "source": [
    "from sklearn.model_selection import KFold\n",
    "\n",
    "kf = KFold(n_splits=10, shuffle=True, random_state=1234)\n",
    "\n",
    "X_crossed = merc_info[cross_col_names].to_numpy()\n",
    "X_cat     = merc_info[categorical_headers_ints].to_numpy()\n",
    "X_num     = merc_info[numerical].to_numpy()\n",
    "y         = merc_info['log_price'].to_numpy()\n",
    "\n",
    "deep_branches = [\n",
    "    deep_branch_0,\n",
    "    deep_branch_1,\n",
    "    deep_branch_2,\n",
    "    deep_branch_3\n",
    "]\n",
    "\n",
    "eval_scores = {}\n",
    "for model_no, deep_branch in enumerate(deep_branches):\n",
    "    \n",
    "    fold_no = 0\n",
    "    eval_scores[model_no] = []\n",
    "    for train_index, test_index in kf.split(X, y):\n",
    "        X_train_crossed, X_test_crossed = X_crossed[train_index], X_crossed[test_index]\n",
    "        X_train_cat,     X_test_cat     = X_cat[train_index],     X_cat[test_index]\n",
    "        X_train_num,     X_test_num     = X_num[train_index],     X_num[test_index]\n",
    "        y_train,         y_test         = y[train_index],         y[test_index]\n",
    "        \n",
    "        wide_deep = concatenate([wide_branch, deep_branch], axis=1)\n",
    "        wide_deep = Dense(units=1, kernel_initializer=initializer)(wide_deep)\n",
    "        model = Model(inputs=[input_crossed, input_cat, input_num], outputs=wide_deep)\n",
    "        model.compile(optimizer=optimizer, loss=loss, metrics=metrics)\n",
    "        history = model.fit([X_train_crossed, X_train_cat, X_train_num], y_train,\n",
    "                            epochs=epochs, batch_size=batch_size, callbacks = callbacks, verbose=0)\n",
    "\n",
    "        scores = model.evaluate([X_test_crossed, X_test_cat, X_test_num], y_test, verbose=0)\n",
    "        print(f\"SCORE FOR MODEL {model_no} FOLD {fold_no}: MSE = {round(scores[1], 5)})\")\n",
    "        \n",
    "        eval_scores[model_no].append(scores[1])\n",
    "    \n",
    "        fold_no += 1\n",
    "    print(f\"MEAN SCORE FOR MODEL {model_no}: MSE = {round(np.mean(eval_scores[model_no]), 5)}\")"
   ]
  },
  {
   "cell_type": "code",
   "execution_count": 28,
   "metadata": {
    "scrolled": true
   },
   "outputs": [
    {
     "name": "stdout",
     "output_type": "stream",
     "text": [
      "('Failed to import pydot. You must `pip install pydot` and install graphviz (https://graphviz.gitlab.io/download/), ', 'for `pydotprint` to work.')\n"
     ]
    }
   ],
   "source": [
    "scores = [np.mean(eval_scores[k]) for k in eval_scores]\n",
    "best_model = np.argmin(scores)\n",
    "\n",
    "wide_deep = concatenate([wide_branch, deep_branches[best_model]], axis=1)\n",
    "wide_deep = Dense(units=1, kernel_initializer=initializer)(wide_deep)\n",
    "best_model = Model(inputs=[input_crossed, input_cat, input_num], outputs=wide_deep)\n",
    "best_model.compile(optimizer=optimizer, loss=loss, metrics=metrics)\n",
    "\n",
    "plot_model(\n",
    "    best_model, to_file='model.png', show_shapes=True, show_layer_names=True,\n",
    "    rankdir='LR', expand_nested=False, dpi=96\n",
    ")"
   ]
  },
  {
   "cell_type": "code",
   "execution_count": 29,
   "metadata": {
    "scrolled": true
   },
   "outputs": [
    {
     "name": "stdout",
     "output_type": "stream",
     "text": [
      "SCORE FOR MODEL MLP FOLD 0: MSE = 0.02106)\n",
      "SCORE FOR MODEL MLP FOLD 1: MSE = 0.02092)\n",
      "SCORE FOR MODEL MLP FOLD 2: MSE = 0.02158)\n",
      "SCORE FOR MODEL MLP FOLD 3: MSE = 0.04327)\n",
      "SCORE FOR MODEL MLP FOLD 4: MSE = 0.02121)\n",
      "SCORE FOR MODEL MLP FOLD 5: MSE = 0.03154)\n",
      "SCORE FOR MODEL MLP FOLD 6: MSE = 0.02569)\n",
      "SCORE FOR MODEL MLP FOLD 7: MSE = 0.031)\n",
      "SCORE FOR MODEL MLP FOLD 8: MSE = 0.0237)\n",
      "SCORE FOR MODEL MLP FOLD 9: MSE = 0.02296)\n",
      "MEAN SCORE FOR MODEL MLP: MSE = 0.026292156356526413\n"
     ]
    }
   ],
   "source": [
    "from tensorflow.keras import Sequential\n",
    "\n",
    "tf.keras.backend.set_floatx('float64')\n",
    "X_mlp = merc_info[numerical]\n",
    "\n",
    "for col in categorical_headers_ints:\n",
    "    X_mlp = pd.concat([X_mlp,pd.get_dummies(merc_info[col], prefix=col)],axis=1)\n",
    "    \n",
    "X_mlp = X_mlp.to_numpy()\n",
    "\n",
    "fold_no = 0\n",
    "mlp_scores = []\n",
    "for train_index, test_index in kf.split(X_mlp, y):\n",
    "    X_train, X_test = X_mlp[train_index], X_mlp[test_index]\n",
    "    y_train, y_test = y[train_index], y[test_index]\n",
    "\n",
    "    mlp = Sequential()\n",
    "    mlp.add(Dense(20, kernel_initializer=initializer))\n",
    "    mlp.add(Dense(10, kernel_initializer=initializer))\n",
    "    mlp.add(Dense(5, kernel_initializer=initializer))\n",
    "    mlp.add(Dense(1, kernel_initializer=initializer))\n",
    "    mlp.compile(optimizer=optimizer, loss=loss, metrics = metrics)\n",
    "    history = mlp.fit(X_train, y_train,\n",
    "                        epochs=epochs, batch_size=batch_size, callbacks = callbacks, verbose=0)\n",
    "\n",
    "    scores = mlp.evaluate(X_test, y_test, verbose=0)\n",
    "    print(f\"SCORE FOR MODEL MLP FOLD {fold_no}: MSE = {round(scores[1], 5)})\")\n",
    "\n",
    "    mlp_scores.append(scores[1])\n",
    "\n",
    "    fold_no += 1\n",
    "    \n",
    "print(\"MEAN SCORE FOR MODEL MLP: MSE =\",np.mean(mlp_scores))"
   ]
  },
  {
   "cell_type": "code",
   "execution_count": 30,
   "metadata": {
    "scrolled": true
   },
   "outputs": [
    {
     "name": "stdout",
     "output_type": "stream",
     "text": [
      "('Failed to import pydot. You must `pip install pydot` and install graphviz (https://graphviz.gitlab.io/download/), ', 'for `pydotprint` to work.')\n"
     ]
    }
   ],
   "source": [
    "mlp = Sequential()\n",
    "mlp.add(Dense(20, kernel_initializer=initializer))\n",
    "mlp.add(Dense(10, kernel_initializer=initializer))\n",
    "mlp.add(Dense(5, kernel_initializer=initializer))\n",
    "mlp.add(Dense(1, kernel_initializer=initializer))\n",
    "mlp.compile(optimizer=optimizer, loss=loss, metrics = metrics)\n",
    "\n",
    "plot_model(\n",
    "    mlp, to_file='model.png', show_shapes=True, show_layer_names=True,\n",
    "    rankdir='LR', expand_nested=False, dpi=96\n",
    ")"
   ]
  },
  {
   "cell_type": "code",
   "execution_count": 31,
   "metadata": {},
   "outputs": [
    {
     "data": {
      "text/plain": [
       "<tensorflow.python.keras.callbacks.History at 0x7f6c592fab20>"
      ]
     },
     "execution_count": 31,
     "metadata": {},
     "output_type": "execute_result"
    }
   ],
   "source": [
    "best_model.fit([X_crossed, X_cat, X_num], y, validation_split=.2,\n",
    "               epochs=epochs, batch_size=batch_size, verbose=0, callbacks=callbacks)\n",
    "mlp.fit(X_mlp, y, validation_split=.2,\n",
    "               epochs=epochs, batch_size=batch_size, verbose=0, callbacks=callbacks)"
   ]
  },
  {
   "cell_type": "code",
   "execution_count": 32,
   "metadata": {},
   "outputs": [
    {
     "ename": "ModuleNotFoundError",
     "evalue": "No module named 'pyCompare'",
     "output_type": "error",
     "traceback": [
      "\u001b[0;31m---------------------------------------------------------------------------\u001b[0m",
      "\u001b[0;31mModuleNotFoundError\u001b[0m                       Traceback (most recent call last)",
      "\u001b[0;32m<ipython-input-32-1497fa729a18>\u001b[0m in \u001b[0;36m<module>\u001b[0;34m\u001b[0m\n\u001b[0;32m----> 1\u001b[0;31m \u001b[0;32mfrom\u001b[0m \u001b[0mpyCompare\u001b[0m \u001b[0;32mimport\u001b[0m \u001b[0mblandAltman\u001b[0m\u001b[0;34m\u001b[0m\u001b[0;34m\u001b[0m\u001b[0m\n\u001b[0m\u001b[1;32m      2\u001b[0m \u001b[0;34m\u001b[0m\u001b[0m\n\u001b[1;32m      3\u001b[0m \u001b[0mdata_1\u001b[0m \u001b[0;34m=\u001b[0m \u001b[0mbest_model\u001b[0m\u001b[0;34m.\u001b[0m\u001b[0mpredict\u001b[0m\u001b[0;34m(\u001b[0m\u001b[0;34m[\u001b[0m\u001b[0mX_crossed\u001b[0m\u001b[0;34m,\u001b[0m \u001b[0mX_cat\u001b[0m\u001b[0;34m,\u001b[0m \u001b[0mX_num\u001b[0m\u001b[0;34m]\u001b[0m\u001b[0;34m)\u001b[0m\u001b[0;34m.\u001b[0m\u001b[0mreshape\u001b[0m\u001b[0;34m(\u001b[0m\u001b[0;34m-\u001b[0m\u001b[0;36m1\u001b[0m\u001b[0;34m)\u001b[0m\u001b[0;34m\u001b[0m\u001b[0;34m\u001b[0m\u001b[0m\n\u001b[1;32m      4\u001b[0m \u001b[0mdata_2\u001b[0m \u001b[0;34m=\u001b[0m \u001b[0mmlp\u001b[0m\u001b[0;34m.\u001b[0m\u001b[0mpredict\u001b[0m\u001b[0;34m(\u001b[0m\u001b[0mX_mlp\u001b[0m\u001b[0;34m)\u001b[0m\u001b[0;34m.\u001b[0m\u001b[0mreshape\u001b[0m\u001b[0;34m(\u001b[0m\u001b[0;34m-\u001b[0m\u001b[0;36m1\u001b[0m\u001b[0;34m)\u001b[0m\u001b[0;34m\u001b[0m\u001b[0;34m\u001b[0m\u001b[0m\n\u001b[1;32m      5\u001b[0m \u001b[0;34m\u001b[0m\u001b[0m\n",
      "\u001b[0;31mModuleNotFoundError\u001b[0m: No module named 'pyCompare'"
     ]
    }
   ],
   "source": [
    "from pyCompare import blandAltman\n",
    "\n",
    "data_1 = best_model.predict([X_crossed, X_cat, X_num]).reshape(-1)\n",
    "data_2 = mlp.predict(X_mlp).reshape(-1)\n",
    "\n",
    "blandAltman(data_1, data_2)"
   ]
  },
  {
   "cell_type": "markdown",
   "metadata": {},
   "source": [
    "## Exceptional Work (1 pt)"
   ]
  },
  {
   "cell_type": "markdown",
   "metadata": {},
   "source": [
    "<ul>\n",
    "    <li> 5000 students: You have free reign to provide additional analyses. </li> \n",
    "    <li>One idea (<b>required for 7000 level students</b>): Capture the embedding weights from the deep network and (<b>if needed</b>) perform dimensionality reduction on the output of these embedding layers (<b>only if needed</b>). That is, pass the observations into the network, save the embedded weights (called embeddings), and then perform  dimensionality reduction in order to visualize results. Visualize and explain any clusters in the data. </li>\n",
    "</ul>"
   ]
  },
  {
   "cell_type": "code",
   "execution_count": null,
   "metadata": {},
   "outputs": [],
   "source": []
  }
 ],
 "metadata": {
  "kernelspec": {
   "display_name": "Python 3",
   "language": "python",
   "name": "python3"
  },
  "language_info": {
   "codemirror_mode": {
    "name": "ipython",
    "version": 3
   },
   "file_extension": ".py",
   "mimetype": "text/x-python",
   "name": "python",
   "nbconvert_exporter": "python",
   "pygments_lexer": "ipython3",
   "version": "3.8.5"
  }
 },
 "nbformat": 4,
 "nbformat_minor": 4
}
